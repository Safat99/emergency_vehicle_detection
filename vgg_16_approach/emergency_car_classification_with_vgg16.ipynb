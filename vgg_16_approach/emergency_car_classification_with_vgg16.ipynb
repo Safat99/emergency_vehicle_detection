{
  "nbformat": 4,
  "nbformat_minor": 0,
  "metadata": {
    "colab": {
      "name": "emergency_car_classification_with_vgg16.ipynb",
      "provenance": [],
      "collapsed_sections": [],
      "authorship_tag": "ABX9TyPSW44XwynLbGrUGy1qu1Ys",
      "include_colab_link": true
    },
    "kernelspec": {
      "name": "python3",
      "display_name": "Python 3"
    },
    "language_info": {
      "name": "python"
    },
    "accelerator": "GPU"
  },
  "cells": [
    {
      "cell_type": "markdown",
      "metadata": {
        "id": "view-in-github",
        "colab_type": "text"
      },
      "source": [
        "<a href=\"https://colab.research.google.com/github/Safat99/emergency_vehicle_detection/blob/main/vgg_16_approach/emergency_car_classification_with_vgg16.ipynb\" target=\"_parent\"><img src=\"https://colab.research.google.com/assets/colab-badge.svg\" alt=\"Open In Colab\"/></a>"
      ]
    },
    {
      "cell_type": "code",
      "metadata": {
        "colab": {
          "base_uri": "https://localhost:8080/"
        },
        "id": "6defJDa9SqBN",
        "outputId": "10b1995c-0987-47ce-f32d-2ccc2de8f12a"
      },
      "source": [
        "from google.colab import drive\n",
        "drive.mount('/content/drive', force_remount=True)"
      ],
      "execution_count": 1,
      "outputs": [
        {
          "output_type": "stream",
          "text": [
            "Mounted at /content/drive\n"
          ],
          "name": "stdout"
        }
      ]
    },
    {
      "cell_type": "code",
      "metadata": {
        "colab": {
          "base_uri": "https://localhost:8080/",
          "height": 35
        },
        "id": "ShEhUe3VyWbk",
        "outputId": "0f175c22-9101-4ce1-ea5f-0a7e9a2a22e0"
      },
      "source": [
        "pwd"
      ],
      "execution_count": null,
      "outputs": [
        {
          "output_type": "execute_result",
          "data": {
            "application/vnd.google.colaboratory.intrinsic+json": {
              "type": "string"
            },
            "text/plain": [
              "'/content'"
            ]
          },
          "metadata": {
            "tags": []
          },
          "execution_count": 4
        }
      ]
    },
    {
      "cell_type": "code",
      "metadata": {
        "colab": {
          "base_uri": "https://localhost:8080/"
        },
        "id": "u7ntXryzS_oI",
        "outputId": "5240c3d3-433f-4a9f-d1a1-5695e93167df"
      },
      "source": [
        "%cd drive/MyDrive/vgg_16_approach/"
      ],
      "execution_count": 2,
      "outputs": [
        {
          "output_type": "stream",
          "text": [
            "/content/drive/MyDrive/vgg_16_approach\n"
          ],
          "name": "stdout"
        }
      ]
    },
    {
      "cell_type": "code",
      "metadata": {
        "colab": {
          "base_uri": "https://localhost:8080/",
          "height": 35
        },
        "id": "XVWuV7E0Srfv",
        "outputId": "7ed41a46-e7b8-478f-8b45-2a8a7330612f"
      },
      "source": [
        "import os\n",
        "os.getcwd()"
      ],
      "execution_count": 3,
      "outputs": [
        {
          "output_type": "execute_result",
          "data": {
            "application/vnd.google.colaboratory.intrinsic+json": {
              "type": "string"
            },
            "text/plain": [
              "'/content/drive/MyDrive/vgg_16_approach'"
            ]
          },
          "metadata": {
            "tags": []
          },
          "execution_count": 3
        }
      ]
    },
    {
      "cell_type": "code",
      "metadata": {
        "colab": {
          "base_uri": "https://localhost:8080/"
        },
        "id": "rTD5ZOYITN5u",
        "outputId": "9ba3b1fd-87f2-4348-d112-5ea558ae5bef"
      },
      "source": [
        "mkdir outputs"
      ],
      "execution_count": 4,
      "outputs": [
        {
          "output_type": "stream",
          "text": [
            "mkdir: cannot create directory ‘outputs’: File exists\n"
          ],
          "name": "stdout"
        }
      ]
    },
    {
      "cell_type": "code",
      "metadata": {
        "id": "gszkih2mTdse"
      },
      "source": [
        "#!python3 train.py"
      ],
      "execution_count": 5,
      "outputs": []
    },
    {
      "cell_type": "code",
      "metadata": {
        "id": "Q5rlIEOjTgcF"
      },
      "source": [
        "from sklearn.utils import shuffle\n",
        "import config\n",
        "from tensorflow.keras.applications import VGG16\n",
        "from tensorflow.keras.layers import Flatten\n",
        "from tensorflow.keras.layers import Dropout\n",
        "from tensorflow.keras.layers import Dense\n",
        "from tensorflow.keras.layers import BatchNormalization\n",
        "from tensorflow.keras.layers import LayerNormalization\n",
        "from tensorflow.keras.layers import Input\n",
        "from tensorflow.keras.models import Model\n",
        "from tensorflow.keras.optimizers import Adam\n",
        "from tensorflow.keras.preprocessing.image import img_to_array\n",
        "from tensorflow.keras.preprocessing.image import load_img\n",
        "from sklearn.model_selection import train_test_split\n",
        "from sklearn.preprocessing import LabelBinarizer\n",
        "from tensorflow.keras.utils import to_categorical\n",
        "import matplotlib.pyplot as plt\n",
        "from imutils import paths\n",
        "import numpy as np\n",
        "import os\n",
        "import pandas as pd\n",
        "import pickle\n"
      ],
      "execution_count": 17,
      "outputs": []
    },
    {
      "cell_type": "code",
      "metadata": {
        "colab": {
          "base_uri": "https://localhost:8080/"
        },
        "id": "F4fjNJNBWf7l",
        "outputId": "aa2eab17-7790-4d66-8a61-d72d6fb22248"
      },
      "source": [
        "print(\"[INFO} loading dataset...\")\n",
        "\n",
        "\n",
        "data = [] #images\n",
        "labels = []\n",
        "bboxes = []\n",
        "filenames = []\n",
        "imagePaths = []\n"
      ],
      "execution_count": 7,
      "outputs": [
        {
          "output_type": "stream",
          "text": [
            "[INFO} loading dataset...\n"
          ],
          "name": "stdout"
        }
      ]
    },
    {
      "cell_type": "code",
      "metadata": {
        "id": "87L-jysctwE8"
      },
      "source": [
        "config.NUM_EPOCHS = 25"
      ],
      "execution_count": 8,
      "outputs": []
    },
    {
      "cell_type": "code",
      "metadata": {
        "id": "0dhryg3qWgX9"
      },
      "source": [
        "cars = pd.read_csv(os.path.join(config.base_path,'images', 'train_test_vgg_format.csv'))"
      ],
      "execution_count": 9,
      "outputs": []
    },
    {
      "cell_type": "code",
      "metadata": {
        "id": "LBtzWAARX8oh"
      },
      "source": [
        "for i in cars.IMAGE:\n",
        "\timage = load_img(os.path.join(config.images_path, str(i) + \".jpg\"))\n",
        "\timage = img_to_array(image)\n",
        "\t\n",
        "\tdata.append(image)\n",
        "\timagePaths.append(os.path.join(config.images_path, str(i) + \".jpg\"))\n",
        "\n",
        "tmp = []\n",
        "\n",
        "for i in range(len(cars)):\n",
        "\tfor j in range(1,5):\n",
        "\t\ttmp.append(cars.iloc[i,j])\n",
        "\n",
        "\tlabels.append(cars.CLASS[i])\n",
        "\tbboxes.append(tmp)\n",
        "\ttmp = []\n",
        "\n"
      ],
      "execution_count": 10,
      "outputs": []
    },
    {
      "cell_type": "code",
      "metadata": {
        "id": "FcrCw1XJX_7F"
      },
      "source": [
        "# convert the data and labels to NumPy arrays, scaling the input\n",
        "# pixel intensities from the range [0, 255] to [0, 1]\n",
        "data = np.array(data, dtype=\"float32\") / 255.0\n",
        "labels = np.array(labels)\n",
        "bboxes = np.array(bboxes, dtype='float32')\n",
        "imagePaths = np.array(imagePaths)\n",
        "\n",
        "lb = LabelBinarizer()\n",
        "labels = lb.fit_transform(labels)\n",
        "\n",
        "if len(lb.classes_) == 2:\n",
        "\tlabels = to_categorical(labels)"
      ],
      "execution_count": 11,
      "outputs": []
    },
    {
      "cell_type": "code",
      "metadata": {
        "colab": {
          "base_uri": "https://localhost:8080/"
        },
        "id": "qR516fw2YSaS",
        "outputId": "70a2bc2e-3419-48c9-a05e-ae4216c3e69d"
      },
      "source": [
        "# partition the data into training and testing splits using 90% of\n",
        "# the data for training and the remaining 10% for testing\n",
        "train_images,test_images,trainLabels,testLabels,trainBboxes, testBboxes, trainPaths, testPaths = train_test_split(data, labels, bboxes, imagePaths, test_size=0.20,\n",
        "\trandom_state=42, shuffle = True)\n",
        "\n",
        "# write the testing filenames to disk so that we can use then\n",
        "# when evaluating/testing our bounding box regressor\n",
        "print(\"[INFO] saving testing filenames...\")\n",
        "f = open(config.test_path, \"w\")\n",
        "f.write(\"\\n\".join('testPaths'))\n",
        "f.close()"
      ],
      "execution_count": 12,
      "outputs": [
        {
          "output_type": "stream",
          "text": [
            "[INFO] saving testing filenames...\n"
          ],
          "name": "stdout"
        }
      ]
    },
    {
      "cell_type": "markdown",
      "metadata": {
        "id": "hadzuZ32YS2l"
      },
      "source": [
        "#############################\t\t\tDL starts\t\t\t###########################################\n",
        "##########start the model>>> this may have to be changed if not satisfactory result ###############"
      ]
    },
    {
      "cell_type": "code",
      "metadata": {
        "id": "PQa-aU5LYnhS"
      },
      "source": [
        "vgg = VGG16(weights=\"imagenet\", include_top=False, input_tensor=Input(shape=(224, 224, 3)))\n",
        "\n",
        "# freeze all VGG layers so they will *not* be updated during the\n",
        "# training process\n",
        "vgg.trainable = False\n",
        "\n",
        "# flatten the max-pooling output of VGG\n",
        "flatten = vgg.output\n",
        "flatten = Flatten()(flatten)\n",
        "\n",
        "# construct a fully-connected layer header to output the predicted\n",
        "# bounding box coordinates\n",
        "bboxHead = Dense(128, activation=\"relu\")(flatten)\n",
        "bboxHead = Dense(64, activation=\"relu\")(bboxHead)\n",
        "bboxHead = Dense(32, activation=\"relu\")(bboxHead)\n",
        "bboxHead = Dense(4, activation=\"sigmoid\",\n",
        "\tname=\"bounding_box\")(bboxHead)\n",
        "#bboxHead.add(BatchNormalization()) \n",
        "\n",
        "# construct a second fully-connected layer head, this one to predict\n",
        "# the class label\n",
        "#softmaxHead = LayerNormalization()\n",
        "softmaxHead = Dense(512, activation=\"relu\")(flatten)\n",
        "#layer = BatchNormalization()\n",
        "#softmaxHead = layer(softmaxHead)\n",
        "softmaxHead = Dropout(0.5)(softmaxHead)\n",
        "softmaxHead = Dense(512, activation=\"relu\")(softmaxHead)\n",
        "softmaxHead = Dropout(0.5)(softmaxHead)\n",
        "#layer_2 = BatchNormalization()\n",
        "#layer_2 = LayerNormalization()\n",
        "#softmaxHead = layer_2(softmaxHead)\n",
        "#softmaxHead = BatchNormalization()\n",
        "softmaxHead = Dense(len(lb.classes_), activation=\"softmax\", \n",
        "                    name=\"class_label\")(softmaxHead)\n",
        "# put together our model which accept an input image and then output\n",
        "# bounding box coordinates and a class label"
      ],
      "execution_count": 55,
      "outputs": []
    },
    {
      "cell_type": "code",
      "metadata": {
        "id": "kYgMizdDYvoM"
      },
      "source": [
        "model = Model(\n",
        "\tinputs=vgg.input,\n",
        "\toutputs=(bboxHead, softmaxHead))\n"
      ],
      "execution_count": 56,
      "outputs": []
    },
    {
      "cell_type": "code",
      "metadata": {
        "colab": {
          "base_uri": "https://localhost:8080/"
        },
        "id": "d2e7QYhyY6DF",
        "outputId": "3c56cae9-d169-401b-94b0-ac02093120bc"
      },
      "source": [
        "# define a dictionary to set the loss methods -- categorical\n",
        "# cross-entropy for the class label head and mean absolute error\n",
        "# for the bounding box head\n",
        "losses = {\n",
        "\t\"class_label\": \"categorical_crossentropy\",\n",
        "\t\"bounding_box\": \"mean_squared_error\",\n",
        "}\n",
        "# define a dictionary that specifies the weights per loss (both the\n",
        "# class label and bounding box outputs will receive equal weight)\n",
        "lossWeights = {\n",
        "\t\"class_label\": 1.0,\n",
        "\t\"bounding_box\": 1.0\n",
        "}\n",
        "# initialize the optimizer, compile the model, and show the model\n",
        "# summary\n",
        "opt = Adam(learning_rate=config.INIT_LR)\n",
        "model.compile(loss=losses, optimizer=opt, metrics=[\"accuracy\"], loss_weights=lossWeights)\n",
        "print(model.summary())\n",
        "\n",
        "# construct a dictionary for our target training outputs\n",
        "trainTargets = {\n",
        "\t\"class_label\": trainLabels,\n",
        "\t\"bounding_box\": trainBboxes\n",
        "}\n",
        "# construct a second dictionary, this one for our target testing\n",
        "# outputs\n",
        "testTargets = {\n",
        "\t\"class_label\": testLabels,\n",
        "\t\"bounding_box\": testBboxes\n",
        "}\n"
      ],
      "execution_count": 57,
      "outputs": [
        {
          "output_type": "stream",
          "text": [
            "Model: \"model_4\"\n",
            "__________________________________________________________________________________________________\n",
            "Layer (type)                    Output Shape         Param #     Connected to                     \n",
            "==================================================================================================\n",
            "input_16 (InputLayer)           [(None, 224, 224, 3) 0                                            \n",
            "__________________________________________________________________________________________________\n",
            "block1_conv1 (Conv2D)           (None, 224, 224, 64) 1792        input_16[0][0]                   \n",
            "__________________________________________________________________________________________________\n",
            "block1_conv2 (Conv2D)           (None, 224, 224, 64) 36928       block1_conv1[0][0]               \n",
            "__________________________________________________________________________________________________\n",
            "block1_pool (MaxPooling2D)      (None, 112, 112, 64) 0           block1_conv2[0][0]               \n",
            "__________________________________________________________________________________________________\n",
            "block2_conv1 (Conv2D)           (None, 112, 112, 128 73856       block1_pool[0][0]                \n",
            "__________________________________________________________________________________________________\n",
            "block2_conv2 (Conv2D)           (None, 112, 112, 128 147584      block2_conv1[0][0]               \n",
            "__________________________________________________________________________________________________\n",
            "block2_pool (MaxPooling2D)      (None, 56, 56, 128)  0           block2_conv2[0][0]               \n",
            "__________________________________________________________________________________________________\n",
            "block3_conv1 (Conv2D)           (None, 56, 56, 256)  295168      block2_pool[0][0]                \n",
            "__________________________________________________________________________________________________\n",
            "block3_conv2 (Conv2D)           (None, 56, 56, 256)  590080      block3_conv1[0][0]               \n",
            "__________________________________________________________________________________________________\n",
            "block3_conv3 (Conv2D)           (None, 56, 56, 256)  590080      block3_conv2[0][0]               \n",
            "__________________________________________________________________________________________________\n",
            "block3_pool (MaxPooling2D)      (None, 28, 28, 256)  0           block3_conv3[0][0]               \n",
            "__________________________________________________________________________________________________\n",
            "block4_conv1 (Conv2D)           (None, 28, 28, 512)  1180160     block3_pool[0][0]                \n",
            "__________________________________________________________________________________________________\n",
            "block4_conv2 (Conv2D)           (None, 28, 28, 512)  2359808     block4_conv1[0][0]               \n",
            "__________________________________________________________________________________________________\n",
            "block4_conv3 (Conv2D)           (None, 28, 28, 512)  2359808     block4_conv2[0][0]               \n",
            "__________________________________________________________________________________________________\n",
            "block4_pool (MaxPooling2D)      (None, 14, 14, 512)  0           block4_conv3[0][0]               \n",
            "__________________________________________________________________________________________________\n",
            "block5_conv1 (Conv2D)           (None, 14, 14, 512)  2359808     block4_pool[0][0]                \n",
            "__________________________________________________________________________________________________\n",
            "block5_conv2 (Conv2D)           (None, 14, 14, 512)  2359808     block5_conv1[0][0]               \n",
            "__________________________________________________________________________________________________\n",
            "block5_conv3 (Conv2D)           (None, 14, 14, 512)  2359808     block5_conv2[0][0]               \n",
            "__________________________________________________________________________________________________\n",
            "block5_pool (MaxPooling2D)      (None, 7, 7, 512)    0           block5_conv3[0][0]               \n",
            "__________________________________________________________________________________________________\n",
            "flatten_15 (Flatten)            (None, 25088)        0           block5_pool[0][0]                \n",
            "__________________________________________________________________________________________________\n",
            "dense_71 (Dense)                (None, 512)          12845568    flatten_15[0][0]                 \n",
            "__________________________________________________________________________________________________\n",
            "dense_68 (Dense)                (None, 128)          3211392     flatten_15[0][0]                 \n",
            "__________________________________________________________________________________________________\n",
            "dropout_20 (Dropout)            (None, 512)          0           dense_71[0][0]                   \n",
            "__________________________________________________________________________________________________\n",
            "dense_69 (Dense)                (None, 64)           8256        dense_68[0][0]                   \n",
            "__________________________________________________________________________________________________\n",
            "dense_72 (Dense)                (None, 512)          262656      dropout_20[0][0]                 \n",
            "__________________________________________________________________________________________________\n",
            "dense_70 (Dense)                (None, 32)           2080        dense_69[0][0]                   \n",
            "__________________________________________________________________________________________________\n",
            "dropout_21 (Dropout)            (None, 512)          0           dense_72[0][0]                   \n",
            "__________________________________________________________________________________________________\n",
            "bounding_box (Dense)            (None, 4)            132         dense_70[0][0]                   \n",
            "__________________________________________________________________________________________________\n",
            "class_label (Dense)             (None, 2)            1026        dropout_21[0][0]                 \n",
            "==================================================================================================\n",
            "Total params: 31,045,798\n",
            "Trainable params: 16,331,110\n",
            "Non-trainable params: 14,714,688\n",
            "__________________________________________________________________________________________________\n",
            "None\n"
          ],
          "name": "stdout"
        }
      ]
    },
    {
      "cell_type": "code",
      "metadata": {
        "colab": {
          "base_uri": "https://localhost:8080/"
        },
        "id": "xVzs350fjv5U",
        "outputId": "77042a05-3a86-4d3c-d730-1d071dad4570"
      },
      "source": [
        "model.summary()"
      ],
      "execution_count": 58,
      "outputs": [
        {
          "output_type": "stream",
          "text": [
            "Model: \"model_4\"\n",
            "__________________________________________________________________________________________________\n",
            "Layer (type)                    Output Shape         Param #     Connected to                     \n",
            "==================================================================================================\n",
            "input_16 (InputLayer)           [(None, 224, 224, 3) 0                                            \n",
            "__________________________________________________________________________________________________\n",
            "block1_conv1 (Conv2D)           (None, 224, 224, 64) 1792        input_16[0][0]                   \n",
            "__________________________________________________________________________________________________\n",
            "block1_conv2 (Conv2D)           (None, 224, 224, 64) 36928       block1_conv1[0][0]               \n",
            "__________________________________________________________________________________________________\n",
            "block1_pool (MaxPooling2D)      (None, 112, 112, 64) 0           block1_conv2[0][0]               \n",
            "__________________________________________________________________________________________________\n",
            "block2_conv1 (Conv2D)           (None, 112, 112, 128 73856       block1_pool[0][0]                \n",
            "__________________________________________________________________________________________________\n",
            "block2_conv2 (Conv2D)           (None, 112, 112, 128 147584      block2_conv1[0][0]               \n",
            "__________________________________________________________________________________________________\n",
            "block2_pool (MaxPooling2D)      (None, 56, 56, 128)  0           block2_conv2[0][0]               \n",
            "__________________________________________________________________________________________________\n",
            "block3_conv1 (Conv2D)           (None, 56, 56, 256)  295168      block2_pool[0][0]                \n",
            "__________________________________________________________________________________________________\n",
            "block3_conv2 (Conv2D)           (None, 56, 56, 256)  590080      block3_conv1[0][0]               \n",
            "__________________________________________________________________________________________________\n",
            "block3_conv3 (Conv2D)           (None, 56, 56, 256)  590080      block3_conv2[0][0]               \n",
            "__________________________________________________________________________________________________\n",
            "block3_pool (MaxPooling2D)      (None, 28, 28, 256)  0           block3_conv3[0][0]               \n",
            "__________________________________________________________________________________________________\n",
            "block4_conv1 (Conv2D)           (None, 28, 28, 512)  1180160     block3_pool[0][0]                \n",
            "__________________________________________________________________________________________________\n",
            "block4_conv2 (Conv2D)           (None, 28, 28, 512)  2359808     block4_conv1[0][0]               \n",
            "__________________________________________________________________________________________________\n",
            "block4_conv3 (Conv2D)           (None, 28, 28, 512)  2359808     block4_conv2[0][0]               \n",
            "__________________________________________________________________________________________________\n",
            "block4_pool (MaxPooling2D)      (None, 14, 14, 512)  0           block4_conv3[0][0]               \n",
            "__________________________________________________________________________________________________\n",
            "block5_conv1 (Conv2D)           (None, 14, 14, 512)  2359808     block4_pool[0][0]                \n",
            "__________________________________________________________________________________________________\n",
            "block5_conv2 (Conv2D)           (None, 14, 14, 512)  2359808     block5_conv1[0][0]               \n",
            "__________________________________________________________________________________________________\n",
            "block5_conv3 (Conv2D)           (None, 14, 14, 512)  2359808     block5_conv2[0][0]               \n",
            "__________________________________________________________________________________________________\n",
            "block5_pool (MaxPooling2D)      (None, 7, 7, 512)    0           block5_conv3[0][0]               \n",
            "__________________________________________________________________________________________________\n",
            "flatten_15 (Flatten)            (None, 25088)        0           block5_pool[0][0]                \n",
            "__________________________________________________________________________________________________\n",
            "dense_71 (Dense)                (None, 512)          12845568    flatten_15[0][0]                 \n",
            "__________________________________________________________________________________________________\n",
            "dense_68 (Dense)                (None, 128)          3211392     flatten_15[0][0]                 \n",
            "__________________________________________________________________________________________________\n",
            "dropout_20 (Dropout)            (None, 512)          0           dense_71[0][0]                   \n",
            "__________________________________________________________________________________________________\n",
            "dense_69 (Dense)                (None, 64)           8256        dense_68[0][0]                   \n",
            "__________________________________________________________________________________________________\n",
            "dense_72 (Dense)                (None, 512)          262656      dropout_20[0][0]                 \n",
            "__________________________________________________________________________________________________\n",
            "dense_70 (Dense)                (None, 32)           2080        dense_69[0][0]                   \n",
            "__________________________________________________________________________________________________\n",
            "dropout_21 (Dropout)            (None, 512)          0           dense_72[0][0]                   \n",
            "__________________________________________________________________________________________________\n",
            "bounding_box (Dense)            (None, 4)            132         dense_70[0][0]                   \n",
            "__________________________________________________________________________________________________\n",
            "class_label (Dense)             (None, 2)            1026        dropout_21[0][0]                 \n",
            "==================================================================================================\n",
            "Total params: 31,045,798\n",
            "Trainable params: 16,331,110\n",
            "Non-trainable params: 14,714,688\n",
            "__________________________________________________________________________________________________\n"
          ],
          "name": "stdout"
        }
      ]
    },
    {
      "cell_type": "code",
      "metadata": {
        "colab": {
          "base_uri": "https://localhost:8080/"
        },
        "id": "PTP4Uqclti0O",
        "outputId": "8114b2d0-60c9-4c82-9315-d8f9b94b98bb"
      },
      "source": [
        "config.NUM_EPOCHS"
      ],
      "execution_count": 59,
      "outputs": [
        {
          "output_type": "execute_result",
          "data": {
            "text/plain": [
              "25"
            ]
          },
          "metadata": {
            "tags": []
          },
          "execution_count": 59
        }
      ]
    },
    {
      "cell_type": "code",
      "metadata": {
        "colab": {
          "base_uri": "https://localhost:8080/",
          "height": 75
        },
        "id": "EzoaW_rWiTSh",
        "outputId": "81135309-14af-4020-9cea-29b5b9344390"
      },
      "source": [
        "import IPython\n",
        "display(IPython.display.Audio(url=\"https://ssl.gstatic.com/dictionary/static/sounds/20180430/complete--_us_1.mp3\", autoplay=True))"
      ],
      "execution_count": 60,
      "outputs": [
        {
          "output_type": "display_data",
          "data": {
            "text/html": [
              "\n",
              "                <audio controls=\"controls\" autoplay=\"autoplay\">\n",
              "                    <source src=\"https://ssl.gstatic.com/dictionary/static/sounds/20180430/complete--_us_1.mp3\" type=\"audio/mpeg\" />\n",
              "                    Your browser does not support the audio element.\n",
              "                </audio>\n",
              "              "
            ],
            "text/plain": [
              "<IPython.lib.display.Audio object>"
            ]
          },
          "metadata": {
            "tags": []
          }
        }
      ]
    },
    {
      "cell_type": "code",
      "metadata": {
        "colab": {
          "base_uri": "https://localhost:8080/"
        },
        "id": "6QNyks7PY6ZI",
        "outputId": "c500aae2-e702-466d-cb07-7e8c6626b2dd"
      },
      "source": [
        "print(\"[INFO] training model...\")\n",
        "H = model.fit(\n",
        "\ttrain_images, trainTargets,\n",
        "\tvalidation_data=(test_images, testTargets),\n",
        "\tbatch_size=config.BATCH_SIZE,\n",
        "\tepochs=config.NUM_EPOCHS,\n",
        "\tverbose=1)\n",
        "# serialize the model to disk\n",
        "print(\"[INFO] saving object detector model...\")\n",
        "model.save(config.model_path, save_format=\"h5\")\n",
        "\n",
        "### latelty added for the training history\n",
        "print('[INFO] saving training history in history_vgg16 file')\n",
        "f = open('training_history_vgg16.pckl' , 'wb')\n",
        "pickle.dump(H.history, f)\n",
        "f.close()\n",
        "\n",
        "\n",
        "\n",
        "# serialize the label binarizer to disk\n",
        "print(\"[INFO] saving label binarizer...\")\n",
        "f = open(config.lb_PATH, \"wb\")\n",
        "f.write(pickle.dumps(lb))\n",
        "f.close()\n"
      ],
      "execution_count": 61,
      "outputs": [
        {
          "output_type": "stream",
          "text": [
            "[INFO] training model...\n",
            "Epoch 1/25\n",
            "58/58 [==============================] - 11s 174ms/step - loss: 0.6610 - bounding_box_loss: 0.0120 - class_label_loss: 0.6490 - bounding_box_accuracy: 0.6934 - class_label_accuracy: 0.7091 - val_loss: 0.4512 - val_bounding_box_loss: 0.0073 - val_class_label_loss: 0.4439 - val_bounding_box_accuracy: 0.7699 - val_class_label_accuracy: 0.7699\n",
            "Epoch 2/25\n",
            "58/58 [==============================] - 10s 168ms/step - loss: 0.4811 - bounding_box_loss: 0.0046 - class_label_loss: 0.4765 - bounding_box_accuracy: 0.7742 - class_label_accuracy: 0.7748 - val_loss: 0.4472 - val_bounding_box_loss: 0.0058 - val_class_label_loss: 0.4414 - val_bounding_box_accuracy: 0.8172 - val_class_label_accuracy: 0.7656\n",
            "Epoch 3/25\n",
            "58/58 [==============================] - 10s 172ms/step - loss: 0.4122 - bounding_box_loss: 0.0031 - class_label_loss: 0.4091 - bounding_box_accuracy: 0.7920 - class_label_accuracy: 0.8039 - val_loss: 0.4336 - val_bounding_box_loss: 0.0054 - val_class_label_loss: 0.4281 - val_bounding_box_accuracy: 0.8108 - val_class_label_accuracy: 0.7677\n",
            "Epoch 4/25\n",
            "58/58 [==============================] - 10s 177ms/step - loss: 0.3855 - bounding_box_loss: 0.0023 - class_label_loss: 0.3833 - bounding_box_accuracy: 0.8109 - class_label_accuracy: 0.8163 - val_loss: 0.4058 - val_bounding_box_loss: 0.0050 - val_class_label_loss: 0.4008 - val_bounding_box_accuracy: 0.8280 - val_class_label_accuracy: 0.7935\n",
            "Epoch 5/25\n",
            "58/58 [==============================] - 10s 175ms/step - loss: 0.3282 - bounding_box_loss: 0.0016 - class_label_loss: 0.3265 - bounding_box_accuracy: 0.8276 - class_label_accuracy: 0.8518 - val_loss: 0.3961 - val_bounding_box_loss: 0.0050 - val_class_label_loss: 0.3910 - val_bounding_box_accuracy: 0.8151 - val_class_label_accuracy: 0.8022\n",
            "Epoch 6/25\n",
            "58/58 [==============================] - 10s 172ms/step - loss: 0.3111 - bounding_box_loss: 0.0012 - class_label_loss: 0.3098 - bounding_box_accuracy: 0.8378 - class_label_accuracy: 0.8534 - val_loss: 0.4791 - val_bounding_box_loss: 0.0048 - val_class_label_loss: 0.4743 - val_bounding_box_accuracy: 0.8323 - val_class_label_accuracy: 0.7871\n",
            "Epoch 7/25\n",
            "58/58 [==============================] - 10s 170ms/step - loss: 0.2811 - bounding_box_loss: 9.3631e-04 - class_label_loss: 0.2802 - bounding_box_accuracy: 0.8486 - class_label_accuracy: 0.8712 - val_loss: 0.4233 - val_bounding_box_loss: 0.0048 - val_class_label_loss: 0.4185 - val_bounding_box_accuracy: 0.8344 - val_class_label_accuracy: 0.8022\n",
            "Epoch 8/25\n",
            "58/58 [==============================] - 10s 168ms/step - loss: 0.2390 - bounding_box_loss: 7.2980e-04 - class_label_loss: 0.2383 - bounding_box_accuracy: 0.8691 - class_label_accuracy: 0.8922 - val_loss: 0.4276 - val_bounding_box_loss: 0.0049 - val_class_label_loss: 0.4227 - val_bounding_box_accuracy: 0.8452 - val_class_label_accuracy: 0.8022\n",
            "Epoch 9/25\n",
            "58/58 [==============================] - 10s 168ms/step - loss: 0.1980 - bounding_box_loss: 5.9773e-04 - class_label_loss: 0.1974 - bounding_box_accuracy: 0.8718 - class_label_accuracy: 0.9192 - val_loss: 0.4394 - val_bounding_box_loss: 0.0048 - val_class_label_loss: 0.4346 - val_bounding_box_accuracy: 0.8387 - val_class_label_accuracy: 0.8108\n",
            "Epoch 10/25\n",
            "58/58 [==============================] - 10s 169ms/step - loss: 0.1785 - bounding_box_loss: 4.9540e-04 - class_label_loss: 0.1780 - bounding_box_accuracy: 0.8809 - class_label_accuracy: 0.9246 - val_loss: 0.4949 - val_bounding_box_loss: 0.0049 - val_class_label_loss: 0.4901 - val_bounding_box_accuracy: 0.8344 - val_class_label_accuracy: 0.8065\n",
            "Epoch 11/25\n",
            "58/58 [==============================] - 10s 170ms/step - loss: 0.1520 - bounding_box_loss: 4.1197e-04 - class_label_loss: 0.1516 - bounding_box_accuracy: 0.8906 - class_label_accuracy: 0.9397 - val_loss: 0.4690 - val_bounding_box_loss: 0.0049 - val_class_label_loss: 0.4641 - val_bounding_box_accuracy: 0.8409 - val_class_label_accuracy: 0.7914\n",
            "Epoch 12/25\n",
            "58/58 [==============================] - 10s 171ms/step - loss: 0.1318 - bounding_box_loss: 3.6045e-04 - class_label_loss: 0.1314 - bounding_box_accuracy: 0.8992 - class_label_accuracy: 0.9504 - val_loss: 0.5135 - val_bounding_box_loss: 0.0048 - val_class_label_loss: 0.5087 - val_bounding_box_accuracy: 0.8452 - val_class_label_accuracy: 0.8172\n",
            "Epoch 13/25\n",
            "58/58 [==============================] - 10s 172ms/step - loss: 0.1199 - bounding_box_loss: 3.0935e-04 - class_label_loss: 0.1196 - bounding_box_accuracy: 0.9046 - class_label_accuracy: 0.9580 - val_loss: 0.5531 - val_bounding_box_loss: 0.0048 - val_class_label_loss: 0.5483 - val_bounding_box_accuracy: 0.8516 - val_class_label_accuracy: 0.8086\n",
            "Epoch 14/25\n",
            "58/58 [==============================] - 10s 171ms/step - loss: 0.0934 - bounding_box_loss: 2.8484e-04 - class_label_loss: 0.0931 - bounding_box_accuracy: 0.9149 - class_label_accuracy: 0.9709 - val_loss: 0.5538 - val_bounding_box_loss: 0.0049 - val_class_label_loss: 0.5489 - val_bounding_box_accuracy: 0.8409 - val_class_label_accuracy: 0.8129\n",
            "Epoch 15/25\n",
            "58/58 [==============================] - 10s 170ms/step - loss: 0.0794 - bounding_box_loss: 2.8612e-04 - class_label_loss: 0.0791 - bounding_box_accuracy: 0.9186 - class_label_accuracy: 0.9790 - val_loss: 0.5969 - val_bounding_box_loss: 0.0048 - val_class_label_loss: 0.5920 - val_bounding_box_accuracy: 0.8430 - val_class_label_accuracy: 0.7978\n",
            "Epoch 16/25\n",
            "58/58 [==============================] - 10s 170ms/step - loss: 0.0670 - bounding_box_loss: 2.6213e-04 - class_label_loss: 0.0668 - bounding_box_accuracy: 0.9100 - class_label_accuracy: 0.9774 - val_loss: 0.6072 - val_bounding_box_loss: 0.0048 - val_class_label_loss: 0.6024 - val_bounding_box_accuracy: 0.8473 - val_class_label_accuracy: 0.8022\n",
            "Epoch 17/25\n",
            "58/58 [==============================] - 10s 170ms/step - loss: 0.0682 - bounding_box_loss: 2.5125e-04 - class_label_loss: 0.0679 - bounding_box_accuracy: 0.9154 - class_label_accuracy: 0.9790 - val_loss: 0.6659 - val_bounding_box_loss: 0.0049 - val_class_label_loss: 0.6611 - val_bounding_box_accuracy: 0.8430 - val_class_label_accuracy: 0.7957\n",
            "Epoch 18/25\n",
            "58/58 [==============================] - 10s 170ms/step - loss: 0.0546 - bounding_box_loss: 2.3134e-04 - class_label_loss: 0.0544 - bounding_box_accuracy: 0.9240 - class_label_accuracy: 0.9822 - val_loss: 0.6412 - val_bounding_box_loss: 0.0049 - val_class_label_loss: 0.6364 - val_bounding_box_accuracy: 0.8430 - val_class_label_accuracy: 0.8086\n",
            "Epoch 19/25\n",
            "58/58 [==============================] - 10s 170ms/step - loss: 0.0453 - bounding_box_loss: 2.3733e-04 - class_label_loss: 0.0451 - bounding_box_accuracy: 0.9321 - class_label_accuracy: 0.9903 - val_loss: 0.6584 - val_bounding_box_loss: 0.0049 - val_class_label_loss: 0.6535 - val_bounding_box_accuracy: 0.8344 - val_class_label_accuracy: 0.8022\n",
            "Epoch 20/25\n",
            "58/58 [==============================] - 10s 170ms/step - loss: 0.0414 - bounding_box_loss: 2.1969e-04 - class_label_loss: 0.0412 - bounding_box_accuracy: 0.9294 - class_label_accuracy: 0.9908 - val_loss: 0.7014 - val_bounding_box_loss: 0.0048 - val_class_label_loss: 0.6966 - val_bounding_box_accuracy: 0.8409 - val_class_label_accuracy: 0.8086\n",
            "Epoch 21/25\n",
            "58/58 [==============================] - 10s 170ms/step - loss: 0.0400 - bounding_box_loss: 2.1890e-04 - class_label_loss: 0.0397 - bounding_box_accuracy: 0.9364 - class_label_accuracy: 0.9914 - val_loss: 0.7309 - val_bounding_box_loss: 0.0049 - val_class_label_loss: 0.7260 - val_bounding_box_accuracy: 0.8473 - val_class_label_accuracy: 0.8129\n",
            "Epoch 22/25\n",
            "58/58 [==============================] - 10s 170ms/step - loss: 0.0408 - bounding_box_loss: 2.5680e-04 - class_label_loss: 0.0405 - bounding_box_accuracy: 0.9407 - class_label_accuracy: 0.9881 - val_loss: 0.7520 - val_bounding_box_loss: 0.0051 - val_class_label_loss: 0.7469 - val_bounding_box_accuracy: 0.8473 - val_class_label_accuracy: 0.7957\n",
            "Epoch 23/25\n",
            "58/58 [==============================] - 10s 171ms/step - loss: 0.0469 - bounding_box_loss: 2.6711e-04 - class_label_loss: 0.0466 - bounding_box_accuracy: 0.9294 - class_label_accuracy: 0.9887 - val_loss: 0.7740 - val_bounding_box_loss: 0.0049 - val_class_label_loss: 0.7692 - val_bounding_box_accuracy: 0.8602 - val_class_label_accuracy: 0.7978\n",
            "Epoch 24/25\n",
            "58/58 [==============================] - 10s 171ms/step - loss: 0.0486 - bounding_box_loss: 2.3871e-04 - class_label_loss: 0.0483 - bounding_box_accuracy: 0.9380 - class_label_accuracy: 0.9838 - val_loss: 0.7077 - val_bounding_box_loss: 0.0049 - val_class_label_loss: 0.7028 - val_bounding_box_accuracy: 0.8581 - val_class_label_accuracy: 0.8022\n",
            "Epoch 25/25\n",
            "58/58 [==============================] - 10s 171ms/step - loss: 0.0257 - bounding_box_loss: 1.8661e-04 - class_label_loss: 0.0255 - bounding_box_accuracy: 0.9413 - class_label_accuracy: 0.9946 - val_loss: 0.7941 - val_bounding_box_loss: 0.0050 - val_class_label_loss: 0.7891 - val_bounding_box_accuracy: 0.8581 - val_class_label_accuracy: 0.8022\n",
            "[INFO] saving object detector model...\n",
            "[INFO] saving training history in history_vgg16 file\n",
            "[INFO] saving label binarizer...\n"
          ],
          "name": "stdout"
        }
      ]
    },
    {
      "cell_type": "code",
      "metadata": {
        "id": "Eb4YFDxBziAf"
      },
      "source": [
        ""
      ],
      "execution_count": null,
      "outputs": []
    },
    {
      "cell_type": "code",
      "metadata": {
        "id": "DGXpwPh0ZJoW"
      },
      "source": [
        "###########################\n",
        "'''naking a plot for visualizing total loss, class label loss , bounding box regression loss\n",
        "'''\n",
        "# plot the total loss, label loss, and bounding box loss\n",
        "lossNames = [\"loss\", \"class_label_loss\", \"bounding_box_loss\"]\n",
        "N = np.arange(0, config.NUM_EPOCHS)\n",
        "plt.style.use(\"ggplot\")\n",
        "(fig, ax) = plt.subplots(3, 1, figsize=(13, 13))\n",
        "# loop over the loss names\n",
        "for (i, l) in enumerate(lossNames):\n",
        "\t# plot the loss for both the training and validation data\n",
        "\ttitle = \"Loss for {}\".format(l) if l != \"loss\" else \"Total loss\"\n",
        "\tax[i].set_title(title)\n",
        "\tax[i].set_xlabel(\"Epoch #\")\n",
        "\tax[i].set_ylabel(\"Loss\")\n",
        "\tax[i].plot(N, H.history[l], label=l)\n",
        "\tax[i].plot(N, H.history[\"val_\" + l], label=\"val_\" + l)\n",
        "\tax[i].legend()\n",
        "# save the losses figure and create a new figure for the accuracies\n",
        "plt.tight_layout()\n",
        "plotPath = os.path.sep.join([config.PLOTS_PATH, \"losses.png\"])\n",
        "plt.savefig(plotPath)\n",
        "plt.close()\n"
      ],
      "execution_count": 62,
      "outputs": []
    },
    {
      "cell_type": "code",
      "metadata": {
        "colab": {
          "base_uri": "https://localhost:8080/"
        },
        "id": "X0KDgVIczA2p",
        "outputId": "f723d51b-93fe-47c4-c37b-d524064cfefa"
      },
      "source": [
        "print(os.path.abspath(os.path.join(config.PLOTS_PATH, 'losses.png')))"
      ],
      "execution_count": 63,
      "outputs": [
        {
          "output_type": "stream",
          "text": [
            "/content/drive/MyDrive/vgg_16_approach/outputs/plots/losses.png\n"
          ],
          "name": "stdout"
        }
      ]
    },
    {
      "cell_type": "code",
      "metadata": {
        "colab": {
          "base_uri": "https://localhost:8080/",
          "height": 299
        },
        "id": "iQPwW1bdZOgT",
        "outputId": "f42d1e53-52f0-4843-b0e4-32569692bd9b"
      },
      "source": [
        "############\t\t\tAccuracy \t\t\t#############\n",
        "\n",
        "#The final step is to plot our training and validation accuracy:\n",
        "\n",
        "# create a new figure for the accuracies\n",
        "plt.style.use(\"ggplot\")\n",
        "plt.figure()\n",
        "plt.plot(N, H.history[\"class_label_accuracy\"],\n",
        "\tlabel=\"class_label_train_acc\")\n",
        "plt.plot(N, H.history[\"val_class_label_accuracy\"],\n",
        "\tlabel=\"val_class_label_acc\")\n",
        "plt.title(\"Class Label Accuracy\")\n",
        "plt.xlabel(\"Epoch #\")\n",
        "plt.ylabel(\"Accuracy\")\n",
        "plt.legend(loc=\"lower left\")\n",
        "# save the accuracies plot\n",
        "plotPath = os.path.sep.join([config.PLOTS_PATH, \"accs.png\"])\n",
        "plt.savefig(plotPath)\n"
      ],
      "execution_count": 64,
      "outputs": [
        {
          "output_type": "display_data",
          "data": {
            "image/png": "[encoded data removed]",
            "text/plain": [
              "<Figure size 432x288 with 1 Axes>"
            ]
          },
          "metadata": {
            "tags": []
          }
        }
      ]
    },
    {
      "cell_type": "code",
      "metadata": {
        "colab": {
          "base_uri": "https://localhost:8080/",
          "height": 75
        },
        "id": "i10Aew9DohjO",
        "outputId": "4c0cc4ef-a193-4053-8ce0-ee14da15bdf6"
      },
      "source": [
        "import IPython\n",
        "display(IPython.display.Audio(url=\"https://ssl.gstatic.com/dictionary/static/sounds/20180430/complete--_us_1.mp3\", autoplay=True))"
      ],
      "execution_count": null,
      "outputs": [
        {
          "output_type": "display_data",
          "data": {
            "text/html": [
              "\n",
              "                <audio controls=\"controls\" autoplay=\"autoplay\">\n",
              "                    <source src=\"https://ssl.gstatic.com/dictionary/static/sounds/20180430/complete--_us_1.mp3\" type=\"audio/mpeg\" />\n",
              "                    Your browser does not support the audio element.\n",
              "                </audio>\n",
              "              "
            ],
            "text/plain": [
              "<IPython.lib.display.Audio object>"
            ]
          },
          "metadata": {
            "tags": []
          }
        }
      ]
    },
    {
      "cell_type": "markdown",
      "metadata": {
        "id": "0tbAvAvqY6jF"
      },
      "source": [
        "#Load the Model again from Cloud "
      ]
    },
    {
      "cell_type": "code",
      "metadata": {
        "id": "2SabRMfCyUGe",
        "colab": {
          "base_uri": "https://localhost:8080/"
        },
        "outputId": "9c5daa00-0709-4cf9-935b-0c4af5302e4b"
      },
      "source": [
        "from google.colab import drive\n",
        "drive.mount('/content/drive')"
      ],
      "execution_count": null,
      "outputs": [
        {
          "output_type": "stream",
          "text": [
            "Mounted at /content/drive\n"
          ],
          "name": "stdout"
        }
      ]
    },
    {
      "cell_type": "markdown",
      "metadata": {
        "id": "lAPjmFHMpzq2"
      },
      "source": [
        "#**for 25 epochs** (batch + layer) normalization"
      ]
    },
    {
      "cell_type": "code",
      "metadata": {
        "colab": {
          "base_uri": "https://localhost:8080/"
        },
        "id": "AeGFJT1Zp6Mr",
        "outputId": "81e5a196-4ca2-4648-eefd-07945e6827f8"
      },
      "source": [
        "loss,bbx_loss, class_label_loss, bbx_accu, class_label_accu = model.evaluate(test_images, testTargets, verbose = 1)\n",
        "print(\"Accuracy for class label on test set is : {}\". format(class_label_accu))\n",
        "print(\"Accuracy for bounding_box on test set is :{}\".format(bbx_accu))"
      ],
      "execution_count": 43,
      "outputs": [
        {
          "output_type": "stream",
          "text": [
            "15/15 [==============================] - 2s 121ms/step - loss: 1.5221 - bounding_box_loss: 0.0049 - class_label_loss: 1.5173 - bounding_box_accuracy: 0.8516 - class_label_accuracy: 0.7957\n",
            "Accuracy for class label on test set is : 0.7956989407539368\n",
            "Accuracy for bounding_box on test set is :0.85161292552948\n"
          ],
          "name": "stdout"
        }
      ]
    },
    {
      "cell_type": "markdown",
      "metadata": {
        "id": "spPSqAi9uWjz"
      },
      "source": [
        "###after removing layer normalization "
      ]
    },
    {
      "cell_type": "code",
      "metadata": {
        "colab": {
          "base_uri": "https://localhost:8080/"
        },
        "id": "ewebWm4wucT2",
        "outputId": "908086cb-2d75-415f-d2da-9e3acbb0d8c6"
      },
      "source": [
        "loss,bbx_loss, class_label_loss, bbx_accu, class_label_accu = model.evaluate(test_images, testTargets, verbose = 1)\n",
        "print(\"Accuracy for class label on test set is : {}\". format(class_label_accu))\n",
        "print(\"Accuracy for bounding_box on test set is :{}\".format(bbx_accu))"
      ],
      "execution_count": 54,
      "outputs": [
        {
          "output_type": "stream",
          "text": [
            "15/15 [==============================] - 2s 126ms/step - loss: 0.9342 - bounding_box_loss: 0.0050 - class_label_loss: 0.9293 - bounding_box_accuracy: 0.8645 - class_label_accuracy: 0.8022\n",
            "Accuracy for class label on test set is : 0.802150547504425\n",
            "Accuracy for bounding_box on test set is :0.8645161390304565\n"
          ],
          "name": "stdout"
        }
      ]
    },
    {
      "cell_type": "markdown",
      "metadata": {
        "id": "kqg0K-f8wVP7"
      },
      "source": [
        "###without any normalization"
      ]
    },
    {
      "cell_type": "code",
      "metadata": {
        "colab": {
          "base_uri": "https://localhost:8080/"
        },
        "id": "WA-AZXlowr0W",
        "outputId": "6c687941-c1f3-4256-fbaf-589cd66382ac"
      },
      "source": [
        "loss,bbx_loss, class_label_loss, bbx_accu, class_label_accu = model.evaluate(test_images, testTargets, verbose = 1)\n",
        "print(\"Accuracy for class label on test set is : {}\". format(class_label_accu))\n",
        "print(\"Accuracy for bounding_box on test set is :{}\".format(bbx_accu))"
      ],
      "execution_count": 65,
      "outputs": [
        {
          "output_type": "stream",
          "text": [
            "15/15 [==============================] - 2s 127ms/step - loss: 0.7941 - bounding_box_loss: 0.0050 - class_label_loss: 0.7891 - bounding_box_accuracy: 0.8581 - class_label_accuracy: 0.8022\n",
            "Accuracy for class label on test set is : 0.802150547504425\n",
            "Accuracy for bounding_box on test set is :0.8580645322799683\n"
          ],
          "name": "stdout"
        }
      ]
    },
    {
      "cell_type": "markdown",
      "metadata": {
        "id": "2mTt3Bk7FgkR"
      },
      "source": [
        "##for 100 epochs"
      ]
    },
    {
      "cell_type": "code",
      "metadata": {
        "id": "hLWSJ-EJFAny"
      },
      "source": [
        "from tensorflow import keras\n",
        "model = keras.models.load_model('/content/drive/MyDrive/vgg_16_approach/outputs/after 100 epochs/detector_vgg16.h5')"
      ],
      "execution_count": 41,
      "outputs": []
    },
    {
      "cell_type": "code",
      "metadata": {
        "colab": {
          "base_uri": "https://localhost:8080/"
        },
        "id": "dE-OcOrUCEEW",
        "outputId": "14c8527a-17f6-401c-a942-fbef28f82717"
      },
      "source": [
        "model.metrics_names"
      ],
      "execution_count": null,
      "outputs": [
        {
          "output_type": "execute_result",
          "data": {
            "text/plain": [
              "['loss',\n",
              " 'bounding_box_loss',\n",
              " 'class_label_loss',\n",
              " 'bounding_box_accuracy',\n",
              " 'class_label_accuracy']"
            ]
          },
          "metadata": {
            "tags": []
          },
          "execution_count": 19
        }
      ]
    },
    {
      "cell_type": "markdown",
      "metadata": {
        "id": "Ls9d-asfI0Mn"
      },
      "source": [
        "##accuracy for 100 epochs in VGG16"
      ]
    },
    {
      "cell_type": "code",
      "metadata": {
        "colab": {
          "base_uri": "https://localhost:8080/"
        },
        "id": "IPD8E25ZI3Zd",
        "outputId": "6befb4b4-5542-45df-8274-5e430530cfde"
      },
      "source": [
        "loss,bbx_loss, class_label_loss, bbx_accu, class_label_accu = model.evaluate(test_images, testTargets, verbose = 1)\n",
        "print(\"Accuracy for class label on test set is : {}\". format(class_label_accu))\n",
        "print(\"Accuracy for bounding_box on test set is :{}\".format(bbx_accu))"
      ],
      "execution_count": 42,
      "outputs": [
        {
          "output_type": "stream",
          "text": [
            "15/15 [==============================] - 2s 119ms/step - loss: 1.5221 - bounding_box_loss: 0.0049 - class_label_loss: 1.5173 - bounding_box_accuracy: 0.8516 - class_label_accuracy: 0.7957\n",
            "Accuracy for class label on test set is : 0.7956989407539368\n",
            "Accuracy for bounding_box on test set is :0.85161292552948\n"
          ],
          "name": "stdout"
        }
      ]
    },
    {
      "cell_type": "markdown",
      "metadata": {
        "id": "fMO4bH3eJVCw"
      },
      "source": [
        "\n",
        "# for 250 epochs accuracy"
      ]
    },
    {
      "cell_type": "code",
      "metadata": {
        "id": "QHOnN9I6JZer"
      },
      "source": [
        "from tensorflow import keras\n",
        "model = keras.models.load_model('/content/drive/MyDrive/vgg_16_approach/outputs/after 250 epochs>> 9.14pm june 14/detector_vgg16.h5')\n",
        "\n"
      ],
      "execution_count": null,
      "outputs": []
    },
    {
      "cell_type": "code",
      "metadata": {
        "colab": {
          "base_uri": "https://localhost:8080/"
        },
        "id": "ocq-ECTnGcg-",
        "outputId": "1888200a-ac10-4d81-95ba-6b2c4754013d"
      },
      "source": [
        "loss,bbx_loss, class_label_loss, bbx_accu, class_label_accu = model.evaluate(test_images, testTargets, verbose = 1)\n",
        "print(\"Accuracy for class label on test set is : {}\". format(class_label_accu))\n",
        "print(\"Accuracy for bounding_box on test set is :{}\".format(bbx_accu))\n"
      ],
      "execution_count": null,
      "outputs": [
        {
          "output_type": "stream",
          "text": [
            "15/15 [==============================] - 2s 127ms/step - loss: 2.0096 - bounding_box_loss: 0.0048 - class_label_loss: 2.0049 - bounding_box_accuracy: 0.8215 - class_label_accuracy: 0.8022\n",
            "Accuracy for class label on test set is : 0.802150547504425\n",
            "Accuracy for bounding_box on test set is :0.8215053677558899\n"
          ],
          "name": "stdout"
        }
      ]
    },
    {
      "cell_type": "code",
      "metadata": {
        "id": "8ZGdkTmMHTT6"
      },
      "source": [
        ""
      ],
      "execution_count": null,
      "outputs": []
    }
  ]
}