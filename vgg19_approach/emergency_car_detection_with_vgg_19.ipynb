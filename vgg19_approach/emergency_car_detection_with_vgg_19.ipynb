{
  "nbformat": 4,
  "nbformat_minor": 0,
  "metadata": {
    "colab": {
      "name": "emergency_car_detection_with_vgg_19",
      "provenance": [],
      "collapsed_sections": [],
      "authorship_tag": "ABX9TyN4OhG18xoUBG0SRN/4b+as",
      "include_colab_link": true
    },
    "kernelspec": {
      "name": "python3",
      "display_name": "Python 3"
    },
    "language_info": {
      "name": "python"
    },
    "accelerator": "GPU"
  },
  "cells": [
    {
      "cell_type": "markdown",
      "metadata": {
        "id": "view-in-github",
        "colab_type": "text"
      },
      "source": [
        "<a href=\"https://colab.research.google.com/github/Safat99/emergency_vehicle_detection/blob/main/vgg19_approach/emergency_car_detection_with_vgg_19.ipynb\" target=\"_parent\"><img src=\"https://colab.research.google.com/assets/colab-badge.svg\" alt=\"Open In Colab\"/></a>"
      ]
    },
    {
      "cell_type": "code",
      "metadata": {
        "id": "c4PdAtjwHdAx"
      },
      "source": [
        ""
      ],
      "execution_count": null,
      "outputs": []
    },
    {
      "cell_type": "code",
      "metadata": {
        "colab": {
          "base_uri": "https://localhost:8080/"
        },
        "id": "gBLmUzT9H9ud",
        "outputId": "ee8c5e6a-37c6-430e-d4fa-d68afc8d4cc9"
      },
      "source": [
        "from google.colab import drive\n",
        "drive.mount('/content/drive')"
      ],
      "execution_count": null,
      "outputs": [
        {
          "output_type": "stream",
          "text": [
            "Mounted at /content/drive\n"
          ],
          "name": "stdout"
        }
      ]
    },
    {
      "cell_type": "code",
      "metadata": {
        "colab": {
          "base_uri": "https://localhost:8080/"
        },
        "id": "Z7xUtR0zIK7s",
        "outputId": "9a796103-51d7-46e2-d511-ba5277da8da9"
      },
      "source": [
        "%cd /content/drive/MyDrive/vgg19_approach"
      ],
      "execution_count": 5,
      "outputs": [
        {
          "output_type": "stream",
          "text": [
            "/content/drive/MyDrive/vgg19_approach\n"
          ],
          "name": "stdout"
        }
      ]
    },
    {
      "cell_type": "code",
      "metadata": {
        "id": "JDLq97vBIXSF"
      },
      "source": [
        "from sklearn.utils import shuffle\n",
        "import config\n",
        "from tensorflow.keras.applications import VGG19\n",
        "from tensorflow.keras.layers import Flatten\n",
        "from tensorflow.keras.layers import Dropout\n",
        "from tensorflow.keras.layers import Dense\n",
        "from tensorflow.keras.layers import Input\n",
        "from tensorflow.keras.models import Model\n",
        "from tensorflow.keras.optimizers import Adam\n",
        "from tensorflow.keras.preprocessing.image import img_to_array\n",
        "from tensorflow.keras.preprocessing.image import load_img\n",
        "from sklearn.model_selection import train_test_split\n",
        "from sklearn.preprocessing import LabelBinarizer\n",
        "from tensorflow.keras.utils import to_categorical\n",
        "import matplotlib.pyplot as plt\n",
        "from imutils import paths\n",
        "import numpy as np\n",
        "import os\n",
        "import pandas as pd\n",
        "import pickle\n"
      ],
      "execution_count": 6,
      "outputs": []
    },
    {
      "cell_type": "code",
      "metadata": {
        "id": "Vta6mMFRJPve"
      },
      "source": [
        "\n",
        "data = [] #images\n",
        "labels = []\n",
        "bboxes = []\n",
        "filenames = []\n",
        "imagePaths = []\n"
      ],
      "execution_count": 7,
      "outputs": []
    },
    {
      "cell_type": "code",
      "metadata": {
        "id": "ue6ce4VyJSOD"
      },
      "source": [
        "cars = pd.read_csv(os.path.join(config.base_path,'images', 'train_test_vgg_format.csv'))"
      ],
      "execution_count": 8,
      "outputs": []
    },
    {
      "cell_type": "code",
      "metadata": {
        "id": "e3AtB3jQJZ84"
      },
      "source": [
        "for i in cars.IMAGE:\n",
        "\timage = load_img(os.path.join(config.images_path, str(i) + \".jpg\"))\n",
        "\timage = img_to_array(image)\n",
        "\t\n",
        "\tdata.append(image)\n",
        "\timagePaths.append(os.path.join(config.images_path, str(i) + \".jpg\"))\n",
        "\n",
        "tmp = []\n",
        "\n",
        "for i in range(len(cars)):\n",
        "\tfor j in range(1,5):\n",
        "\t\ttmp.append(cars.iloc[i,j])\n",
        "\n",
        "\tlabels.append(cars.CLASS[i])\n",
        "\tbboxes.append(tmp)\n",
        "\ttmp = []\n"
      ],
      "execution_count": 10,
      "outputs": []
    },
    {
      "cell_type": "code",
      "metadata": {
        "id": "B46baWVTJh7i"
      },
      "source": [
        "# convert the data and labels to NumPy arrays, scaling the input\n",
        "# pixel intensities from the range [0, 255] to [0, 1]\n",
        "data = np.array(data, dtype=\"float32\") / 255.0\n",
        "labels = np.array(labels)\n",
        "bboxes = np.array(bboxes, dtype='float32')\n",
        "imagePaths = np.array(imagePaths)\n"
      ],
      "execution_count": 11,
      "outputs": []
    },
    {
      "cell_type": "code",
      "metadata": {
        "id": "WTmMz2LHJiNg"
      },
      "source": [
        "\n",
        "lb = LabelBinarizer()\n",
        "labels = lb.fit_transform(labels)\n",
        "\n",
        "if len(lb.classes_) == 2:\n",
        "\tlabels = to_categorical(labels)\n"
      ],
      "execution_count": 12,
      "outputs": []
    },
    {
      "cell_type": "code",
      "metadata": {
        "colab": {
          "base_uri": "https://localhost:8080/"
        },
        "id": "txZiY94CJifF",
        "outputId": "8d1a6412-5f17-4fc7-d21b-31a75769723a"
      },
      "source": [
        "\n",
        "# partition the data into training and testing splits using 90% of\n",
        "# the data for training and the remaining 10% for testing\n",
        "train_images,test_images,trainLabels,testLabels,trainBboxes, testBboxes, trainPaths, testPaths = train_test_split(data, labels, bboxes, imagePaths, test_size=0.20,\n",
        "\trandom_state=42, shuffle = True)\n",
        "\n",
        "# write the testing filenames to disk so that we can use then\n",
        "# when evaluating/testing our bounding box regressor\n",
        "print(\"[INFO] saving testing filenames...\")\n",
        "f = open(config.test_path, \"w\")\n",
        "f.write(\"\\n\".join('testPaths'))\n",
        "f.close()\n",
        "\n"
      ],
      "execution_count": 13,
      "outputs": [
        {
          "output_type": "stream",
          "text": [
            "[INFO] saving testing filenames...\n"
          ],
          "name": "stdout"
        }
      ]
    },
    {
      "cell_type": "code",
      "metadata": {
        "colab": {
          "base_uri": "https://localhost:8080/"
        },
        "id": "dfqekCzfJjZ4",
        "outputId": "6774a378-b726-47a1-ecd1-1dde0ac7d7b1"
      },
      "source": [
        "############################################333             VGG19 (same as vgg16) #####################\n",
        "\n",
        "\n",
        "vgg = VGG19(weights=\"imagenet\", include_top=False, input_tensor=Input(shape=(224, 224, 3)))\n",
        "\n",
        "# freeze all VGG layers so they will *not* be updated during the\n",
        "# training process\n",
        "vgg.trainable = False\n",
        "\n",
        "# flatten the max-pooling output of VGG\n",
        "flatten = vgg.output\n",
        "flatten = Flatten()(flatten)\n",
        "\n",
        "# construct a fully-connected layer header to output the predicted\n",
        "# bounding box coordinates\n",
        "bboxHead = Dense(128, activation=\"relu\")(flatten)\n",
        "bboxHead = Dense(64, activation=\"relu\")(bboxHead)\n",
        "bboxHead = Dense(32, activation=\"relu\")(bboxHead)\n",
        "bboxHead = Dense(4, activation=\"sigmoid\",\n",
        "\tname=\"bounding_box\")(bboxHead)\n",
        "# construct a second fully-connected layer head, this one to predict\n",
        "# the class label\n",
        "softmaxHead = Dense(512, activation=\"relu\")(flatten)\n",
        "softmaxHead = Dropout(0.5)(softmaxHead)\n",
        "softmaxHead = Dense(512, activation=\"relu\")(softmaxHead)\n",
        "softmaxHead = Dropout(0.5)(softmaxHead)\n",
        "softmaxHead = Dense(len(lb.classes_), activation=\"softmax\",\n",
        "\tname=\"class_label\")(softmaxHead)\n",
        "# put together our model which accept an input image and then output\n",
        "# bounding box coordinates and a class label\n",
        "model = Model(\n",
        "\tinputs=vgg.input,\n",
        "\toutputs=(bboxHead, softmaxHead))\n",
        "\n"
      ],
      "execution_count": 14,
      "outputs": [
        {
          "output_type": "stream",
          "text": [
            "Downloading data from https://storage.googleapis.com/tensorflow/keras-applications/vgg19/vgg19_weights_tf_dim_ordering_tf_kernels_notop.h5\n",
            "80142336/80134624 [==============================] - 1s 0us/step\n"
          ],
          "name": "stdout"
        }
      ]
    },
    {
      "cell_type": "code",
      "metadata": {
        "colab": {
          "base_uri": "https://localhost:8080/"
        },
        "id": "97dD6ps7JxN8",
        "outputId": "61d7667c-7792-4b3c-af0f-620a072f2643"
      },
      "source": [
        "# define a dictionary to set the loss methods -- categorical\n",
        "# cross-entropy for the class label head and mean absolute error\n",
        "# for the bounding box head\n",
        "losses = {\n",
        "\t\"class_label\": \"categorical_crossentropy\",\n",
        "\t\"bounding_box\": \"mean_squared_error\",\n",
        "}\n",
        "# define a dictionary that specifies the weights per loss (both the\n",
        "# class label and bounding box outputs will receive equal weight)\n",
        "lossWeights = {\n",
        "\t\"class_label\": 1.0,\n",
        "\t\"bounding_box\": 1.0\n",
        "}\n",
        "# initialize the optimizer, compile the model, and show the model\n",
        "# summary\n",
        "opt = Adam(lr=config.INIT_LR)\n",
        "model.compile(loss=losses, optimizer=opt, metrics=[\"accuracy\"], loss_weights=lossWeights)\n",
        "print(model.summary())\n",
        "\n",
        "# construct a dictionary for our target training outputs\n",
        "trainTargets = {\n",
        "\t\"class_label\": trainLabels,\n",
        "\t\"bounding_box\": trainBboxes\n",
        "}\n",
        "# construct a second dictionary, this one for our target testing\n",
        "# outputs\n",
        "testTargets = {\n",
        "\t\"class_label\": testLabels,\n",
        "\t\"bounding_box\": testBboxes\n",
        "}\n"
      ],
      "execution_count": 15,
      "outputs": [
        {
          "output_type": "stream",
          "text": [
            "Model: \"model\"\n",
            "__________________________________________________________________________________________________\n",
            "Layer (type)                    Output Shape         Param #     Connected to                     \n",
            "==================================================================================================\n",
            "input_1 (InputLayer)            [(None, 224, 224, 3) 0                                            \n",
            "__________________________________________________________________________________________________\n",
            "block1_conv1 (Conv2D)           (None, 224, 224, 64) 1792        input_1[0][0]                    \n",
            "__________________________________________________________________________________________________\n",
            "block1_conv2 (Conv2D)           (None, 224, 224, 64) 36928       block1_conv1[0][0]               \n",
            "__________________________________________________________________________________________________\n",
            "block1_pool (MaxPooling2D)      (None, 112, 112, 64) 0           block1_conv2[0][0]               \n",
            "__________________________________________________________________________________________________\n",
            "block2_conv1 (Conv2D)           (None, 112, 112, 128 73856       block1_pool[0][0]                \n",
            "__________________________________________________________________________________________________\n",
            "block2_conv2 (Conv2D)           (None, 112, 112, 128 147584      block2_conv1[0][0]               \n",
            "__________________________________________________________________________________________________\n",
            "block2_pool (MaxPooling2D)      (None, 56, 56, 128)  0           block2_conv2[0][0]               \n",
            "__________________________________________________________________________________________________\n",
            "block3_conv1 (Conv2D)           (None, 56, 56, 256)  295168      block2_pool[0][0]                \n",
            "__________________________________________________________________________________________________\n",
            "block3_conv2 (Conv2D)           (None, 56, 56, 256)  590080      block3_conv1[0][0]               \n",
            "__________________________________________________________________________________________________\n",
            "block3_conv3 (Conv2D)           (None, 56, 56, 256)  590080      block3_conv2[0][0]               \n",
            "__________________________________________________________________________________________________\n",
            "block3_conv4 (Conv2D)           (None, 56, 56, 256)  590080      block3_conv3[0][0]               \n",
            "__________________________________________________________________________________________________\n",
            "block3_pool (MaxPooling2D)      (None, 28, 28, 256)  0           block3_conv4[0][0]               \n",
            "__________________________________________________________________________________________________\n",
            "block4_conv1 (Conv2D)           (None, 28, 28, 512)  1180160     block3_pool[0][0]                \n",
            "__________________________________________________________________________________________________\n",
            "block4_conv2 (Conv2D)           (None, 28, 28, 512)  2359808     block4_conv1[0][0]               \n",
            "__________________________________________________________________________________________________\n",
            "block4_conv3 (Conv2D)           (None, 28, 28, 512)  2359808     block4_conv2[0][0]               \n",
            "__________________________________________________________________________________________________\n",
            "block4_conv4 (Conv2D)           (None, 28, 28, 512)  2359808     block4_conv3[0][0]               \n",
            "__________________________________________________________________________________________________\n",
            "block4_pool (MaxPooling2D)      (None, 14, 14, 512)  0           block4_conv4[0][0]               \n",
            "__________________________________________________________________________________________________\n",
            "block5_conv1 (Conv2D)           (None, 14, 14, 512)  2359808     block4_pool[0][0]                \n",
            "__________________________________________________________________________________________________\n",
            "block5_conv2 (Conv2D)           (None, 14, 14, 512)  2359808     block5_conv1[0][0]               \n",
            "__________________________________________________________________________________________________\n",
            "block5_conv3 (Conv2D)           (None, 14, 14, 512)  2359808     block5_conv2[0][0]               \n",
            "__________________________________________________________________________________________________\n",
            "block5_conv4 (Conv2D)           (None, 14, 14, 512)  2359808     block5_conv3[0][0]               \n",
            "__________________________________________________________________________________________________\n",
            "block5_pool (MaxPooling2D)      (None, 7, 7, 512)    0           block5_conv4[0][0]               \n",
            "__________________________________________________________________________________________________\n",
            "flatten (Flatten)               (None, 25088)        0           block5_pool[0][0]                \n",
            "__________________________________________________________________________________________________\n",
            "dense_3 (Dense)                 (None, 512)          12845568    flatten[0][0]                    \n",
            "__________________________________________________________________________________________________\n",
            "dense (Dense)                   (None, 128)          3211392     flatten[0][0]                    \n",
            "__________________________________________________________________________________________________\n",
            "dropout (Dropout)               (None, 512)          0           dense_3[0][0]                    \n",
            "__________________________________________________________________________________________________\n",
            "dense_1 (Dense)                 (None, 64)           8256        dense[0][0]                      \n",
            "__________________________________________________________________________________________________\n",
            "dense_4 (Dense)                 (None, 512)          262656      dropout[0][0]                    \n",
            "__________________________________________________________________________________________________\n",
            "dense_2 (Dense)                 (None, 32)           2080        dense_1[0][0]                    \n",
            "__________________________________________________________________________________________________\n",
            "dropout_1 (Dropout)             (None, 512)          0           dense_4[0][0]                    \n",
            "__________________________________________________________________________________________________\n",
            "bounding_box (Dense)            (None, 4)            132         dense_2[0][0]                    \n",
            "__________________________________________________________________________________________________\n",
            "class_label (Dense)             (None, 2)            1026        dropout_1[0][0]                  \n",
            "==================================================================================================\n",
            "Total params: 36,355,494\n",
            "Trainable params: 16,331,110\n",
            "Non-trainable params: 20,024,384\n",
            "__________________________________________________________________________________________________\n",
            "None\n"
          ],
          "name": "stdout"
        },
        {
          "output_type": "stream",
          "text": [
            "/usr/local/lib/python3.7/dist-packages/tensorflow/python/keras/optimizer_v2/optimizer_v2.py:375: UserWarning: The `lr` argument is deprecated, use `learning_rate` instead.\n",
            "  \"The `lr` argument is deprecated, use `learning_rate` instead.\")\n"
          ],
          "name": "stderr"
        }
      ]
    },
    {
      "cell_type": "code",
      "metadata": {
        "id": "aqInN_KoLhB8"
      },
      "source": [
        "config.NUM_EPOCHS = 250"
      ],
      "execution_count": null,
      "outputs": []
    },
    {
      "cell_type": "code",
      "metadata": {
        "colab": {
          "base_uri": "https://localhost:8080/",
          "height": 35
        },
        "id": "1xiRmcBiUq41",
        "outputId": "920a3b15-65a4-411a-b6e3-3e494a07c512"
      },
      "source": [
        "config.model_path"
      ],
      "execution_count": null,
      "outputs": [
        {
          "output_type": "execute_result",
          "data": {
            "application/vnd.google.colaboratory.intrinsic+json": {
              "type": "string"
            },
            "text/plain": [
              "'/content/drive/My Drive/vgg19_approach/outputs_vgg19/detector_vgg19.h5'"
            ]
          },
          "metadata": {
            "tags": []
          },
          "execution_count": 14
        }
      ]
    },
    {
      "cell_type": "code",
      "metadata": {
        "colab": {
          "base_uri": "https://localhost:8080/"
        },
        "id": "zjOkbbQzJxgr",
        "outputId": "12ac9482-ed2e-4496-efb5-7630a4fdd70a"
      },
      "source": [
        "# train the network for bounding box regression and class label\n",
        "# prediction\n",
        "print(\"[INFO] training model...\")\n",
        "H = model.fit(\n",
        "\ttrain_images, trainTargets,\n",
        "\tvalidation_data=(test_images, testTargets),\n",
        "\tbatch_size=config.BATCH_SIZE,\n",
        "\tepochs=config.NUM_EPOCHS,\n",
        "\tverbose=1)\n",
        "# serialize the model to disk\n",
        "print(\"[INFO] saving object detector model...\")\n",
        "model.save(config.model_path, save_format=\"h5\")\n",
        "\n",
        "\n",
        "print('[INFO] saving training history in history_vgg19 file')\n",
        "f = open('training_history_vgg19' , 'wb')\n",
        "pickle.dump(H.history, f)\n",
        "f.close()\n",
        "\n",
        "# serialize the label binarizer to disk\n",
        "print(\"[INFO] saving label binarizer...\")\n",
        "f = open(config.lb_PATH, \"wb\")\n",
        "f.write(pickle.dumps(lb))\n",
        "f.close()\n"
      ],
      "execution_count": null,
      "outputs": [
        {
          "output_type": "stream",
          "text": [
            "[INFO] training model...\n",
            "Epoch 1/250\n",
            "58/58 [==============================] - 52s 261ms/step - loss: 0.6949 - bounding_box_loss: 0.0159 - class_label_loss: 0.6790 - bounding_box_accuracy: 0.6487 - class_label_accuracy: 0.6864 - val_loss: 0.4793 - val_bounding_box_loss: 0.0075 - val_class_label_loss: 0.4718 - val_bounding_box_accuracy: 0.7699 - val_class_label_accuracy: 0.7570\n",
            "Epoch 2/250\n",
            "58/58 [==============================] - 11s 197ms/step - loss: 0.4964 - bounding_box_loss: 0.0048 - class_label_loss: 0.4916 - bounding_box_accuracy: 0.7398 - class_label_accuracy: 0.7554 - val_loss: 0.4313 - val_bounding_box_loss: 0.0061 - val_class_label_loss: 0.4253 - val_bounding_box_accuracy: 0.7720 - val_class_label_accuracy: 0.7699\n",
            "Epoch 3/250\n",
            "58/58 [==============================] - 12s 201ms/step - loss: 0.4302 - bounding_box_loss: 0.0037 - class_label_loss: 0.4265 - bounding_box_accuracy: 0.7856 - class_label_accuracy: 0.7953 - val_loss: 0.4130 - val_bounding_box_loss: 0.0055 - val_class_label_loss: 0.4074 - val_bounding_box_accuracy: 0.7849 - val_class_label_accuracy: 0.7871\n",
            "Epoch 4/250\n",
            "58/58 [==============================] - 12s 203ms/step - loss: 0.3846 - bounding_box_loss: 0.0028 - class_label_loss: 0.3818 - bounding_box_accuracy: 0.7936 - class_label_accuracy: 0.8157 - val_loss: 0.4330 - val_bounding_box_loss: 0.0054 - val_class_label_loss: 0.4277 - val_bounding_box_accuracy: 0.8108 - val_class_label_accuracy: 0.7763\n",
            "Epoch 5/250\n",
            "58/58 [==============================] - 12s 202ms/step - loss: 0.3535 - bounding_box_loss: 0.0023 - class_label_loss: 0.3512 - bounding_box_accuracy: 0.8087 - class_label_accuracy: 0.8270 - val_loss: 0.4362 - val_bounding_box_loss: 0.0051 - val_class_label_loss: 0.4311 - val_bounding_box_accuracy: 0.8194 - val_class_label_accuracy: 0.7634\n",
            "Epoch 6/250\n",
            "58/58 [==============================] - 12s 199ms/step - loss: 0.3353 - bounding_box_loss: 0.0017 - class_label_loss: 0.3336 - bounding_box_accuracy: 0.8195 - class_label_accuracy: 0.8432 - val_loss: 0.4103 - val_bounding_box_loss: 0.0051 - val_class_label_loss: 0.4052 - val_bounding_box_accuracy: 0.8172 - val_class_label_accuracy: 0.7828\n",
            "Epoch 7/250\n",
            "58/58 [==============================] - 11s 198ms/step - loss: 0.3033 - bounding_box_loss: 0.0014 - class_label_loss: 0.3019 - bounding_box_accuracy: 0.8244 - class_label_accuracy: 0.8610 - val_loss: 0.4091 - val_bounding_box_loss: 0.0049 - val_class_label_loss: 0.4043 - val_bounding_box_accuracy: 0.8086 - val_class_label_accuracy: 0.8043\n",
            "Epoch 8/250\n",
            "58/58 [==============================] - 11s 196ms/step - loss: 0.2820 - bounding_box_loss: 0.0011 - class_label_loss: 0.2809 - bounding_box_accuracy: 0.8405 - class_label_accuracy: 0.8745 - val_loss: 0.4169 - val_bounding_box_loss: 0.0048 - val_class_label_loss: 0.4121 - val_bounding_box_accuracy: 0.8258 - val_class_label_accuracy: 0.7892\n",
            "Epoch 9/250\n",
            "58/58 [==============================] - 11s 197ms/step - loss: 0.2581 - bounding_box_loss: 8.6287e-04 - class_label_loss: 0.2573 - bounding_box_accuracy: 0.8518 - class_label_accuracy: 0.8847 - val_loss: 0.4278 - val_bounding_box_loss: 0.0049 - val_class_label_loss: 0.4229 - val_bounding_box_accuracy: 0.8280 - val_class_label_accuracy: 0.7978\n",
            "Epoch 10/250\n",
            "58/58 [==============================] - 11s 198ms/step - loss: 0.2508 - bounding_box_loss: 7.1556e-04 - class_label_loss: 0.2501 - bounding_box_accuracy: 0.8599 - class_label_accuracy: 0.8928 - val_loss: 0.4904 - val_bounding_box_loss: 0.0048 - val_class_label_loss: 0.4856 - val_bounding_box_accuracy: 0.8108 - val_class_label_accuracy: 0.7677\n",
            "Epoch 11/250\n",
            "58/58 [==============================] - 12s 201ms/step - loss: 0.2308 - bounding_box_loss: 6.2558e-04 - class_label_loss: 0.2301 - bounding_box_accuracy: 0.8610 - class_label_accuracy: 0.8960 - val_loss: 0.4640 - val_bounding_box_loss: 0.0048 - val_class_label_loss: 0.4592 - val_bounding_box_accuracy: 0.8237 - val_class_label_accuracy: 0.7935\n",
            "Epoch 12/250\n",
            "58/58 [==============================] - 12s 200ms/step - loss: 0.1948 - bounding_box_loss: 5.4387e-04 - class_label_loss: 0.1943 - bounding_box_accuracy: 0.8664 - class_label_accuracy: 0.9176 - val_loss: 0.4357 - val_bounding_box_loss: 0.0048 - val_class_label_loss: 0.4309 - val_bounding_box_accuracy: 0.8323 - val_class_label_accuracy: 0.8086\n",
            "Epoch 13/250\n",
            "58/58 [==============================] - 12s 200ms/step - loss: 0.1856 - bounding_box_loss: 4.7063e-04 - class_label_loss: 0.1851 - bounding_box_accuracy: 0.8745 - class_label_accuracy: 0.9235 - val_loss: 0.4866 - val_bounding_box_loss: 0.0048 - val_class_label_loss: 0.4818 - val_bounding_box_accuracy: 0.8387 - val_class_label_accuracy: 0.7763\n",
            "Epoch 14/250\n",
            "58/58 [==============================] - 11s 198ms/step - loss: 0.1649 - bounding_box_loss: 4.2407e-04 - class_label_loss: 0.1645 - bounding_box_accuracy: 0.8804 - class_label_accuracy: 0.9337 - val_loss: 0.5294 - val_bounding_box_loss: 0.0049 - val_class_label_loss: 0.5245 - val_bounding_box_accuracy: 0.8301 - val_class_label_accuracy: 0.7742\n",
            "Epoch 15/250\n",
            "58/58 [==============================] - 11s 198ms/step - loss: 0.1358 - bounding_box_loss: 3.8350e-04 - class_label_loss: 0.1354 - bounding_box_accuracy: 0.8852 - class_label_accuracy: 0.9537 - val_loss: 0.5221 - val_bounding_box_loss: 0.0048 - val_class_label_loss: 0.5173 - val_bounding_box_accuracy: 0.8323 - val_class_label_accuracy: 0.7892\n",
            "Epoch 16/250\n",
            "58/58 [==============================] - 12s 199ms/step - loss: 0.1148 - bounding_box_loss: 3.3971e-04 - class_label_loss: 0.1144 - bounding_box_accuracy: 0.8949 - class_label_accuracy: 0.9612 - val_loss: 0.5477 - val_bounding_box_loss: 0.0048 - val_class_label_loss: 0.5429 - val_bounding_box_accuracy: 0.8344 - val_class_label_accuracy: 0.7957\n",
            "Epoch 17/250\n",
            "58/58 [==============================] - 12s 200ms/step - loss: 0.1098 - bounding_box_loss: 3.0885e-04 - class_label_loss: 0.1095 - bounding_box_accuracy: 0.8987 - class_label_accuracy: 0.9612 - val_loss: 0.5251 - val_bounding_box_loss: 0.0048 - val_class_label_loss: 0.5203 - val_bounding_box_accuracy: 0.8387 - val_class_label_accuracy: 0.8043\n",
            "Epoch 18/250\n",
            "58/58 [==============================] - 11s 199ms/step - loss: 0.0956 - bounding_box_loss: 2.7988e-04 - class_label_loss: 0.0953 - bounding_box_accuracy: 0.9041 - class_label_accuracy: 0.9688 - val_loss: 0.5472 - val_bounding_box_loss: 0.0048 - val_class_label_loss: 0.5424 - val_bounding_box_accuracy: 0.8387 - val_class_label_accuracy: 0.7806\n",
            "Epoch 19/250\n",
            "58/58 [==============================] - 11s 199ms/step - loss: 0.0975 - bounding_box_loss: 2.6089e-04 - class_label_loss: 0.0973 - bounding_box_accuracy: 0.9052 - class_label_accuracy: 0.9655 - val_loss: 0.5612 - val_bounding_box_loss: 0.0049 - val_class_label_loss: 0.5564 - val_bounding_box_accuracy: 0.8452 - val_class_label_accuracy: 0.7957\n",
            "Epoch 20/250\n",
            "58/58 [==============================] - 12s 200ms/step - loss: 0.0845 - bounding_box_loss: 2.6809e-04 - class_label_loss: 0.0842 - bounding_box_accuracy: 0.9084 - class_label_accuracy: 0.9698 - val_loss: 0.5906 - val_bounding_box_loss: 0.0049 - val_class_label_loss: 0.5856 - val_bounding_box_accuracy: 0.8409 - val_class_label_accuracy: 0.8065\n",
            "Epoch 21/250\n",
            "58/58 [==============================] - 12s 200ms/step - loss: 0.0754 - bounding_box_loss: 2.7616e-04 - class_label_loss: 0.0751 - bounding_box_accuracy: 0.9116 - class_label_accuracy: 0.9774 - val_loss: 0.6548 - val_bounding_box_loss: 0.0049 - val_class_label_loss: 0.6499 - val_bounding_box_accuracy: 0.8344 - val_class_label_accuracy: 0.7849\n",
            "Epoch 22/250\n",
            "58/58 [==============================] - 12s 200ms/step - loss: 0.0677 - bounding_box_loss: 2.6683e-04 - class_label_loss: 0.0675 - bounding_box_accuracy: 0.9073 - class_label_accuracy: 0.9768 - val_loss: 0.6393 - val_bounding_box_loss: 0.0049 - val_class_label_loss: 0.6344 - val_bounding_box_accuracy: 0.8409 - val_class_label_accuracy: 0.7677\n",
            "Epoch 23/250\n",
            "58/58 [==============================] - 12s 199ms/step - loss: 0.0652 - bounding_box_loss: 2.5068e-04 - class_label_loss: 0.0650 - bounding_box_accuracy: 0.9181 - class_label_accuracy: 0.9741 - val_loss: 0.6622 - val_bounding_box_loss: 0.0049 - val_class_label_loss: 0.6573 - val_bounding_box_accuracy: 0.8387 - val_class_label_accuracy: 0.7785\n",
            "Epoch 24/250\n",
            "58/58 [==============================] - 11s 199ms/step - loss: 0.0489 - bounding_box_loss: 2.3786e-04 - class_label_loss: 0.0487 - bounding_box_accuracy: 0.9224 - class_label_accuracy: 0.9876 - val_loss: 0.6405 - val_bounding_box_loss: 0.0050 - val_class_label_loss: 0.6355 - val_bounding_box_accuracy: 0.8409 - val_class_label_accuracy: 0.7957\n",
            "Epoch 25/250\n",
            "58/58 [==============================] - 12s 199ms/step - loss: 0.0553 - bounding_box_loss: 2.2972e-04 - class_label_loss: 0.0550 - bounding_box_accuracy: 0.9203 - class_label_accuracy: 0.9801 - val_loss: 0.6218 - val_bounding_box_loss: 0.0049 - val_class_label_loss: 0.6169 - val_bounding_box_accuracy: 0.8301 - val_class_label_accuracy: 0.7871\n",
            "Epoch 26/250\n",
            "58/58 [==============================] - 11s 199ms/step - loss: 0.0453 - bounding_box_loss: 2.2029e-04 - class_label_loss: 0.0450 - bounding_box_accuracy: 0.9197 - class_label_accuracy: 0.9871 - val_loss: 0.7101 - val_bounding_box_loss: 0.0049 - val_class_label_loss: 0.7052 - val_bounding_box_accuracy: 0.8473 - val_class_label_accuracy: 0.7677\n",
            "Epoch 27/250\n",
            "58/58 [==============================] - 12s 199ms/step - loss: 0.0547 - bounding_box_loss: 2.0143e-04 - class_label_loss: 0.0545 - bounding_box_accuracy: 0.9235 - class_label_accuracy: 0.9838 - val_loss: 0.7230 - val_bounding_box_loss: 0.0049 - val_class_label_loss: 0.7181 - val_bounding_box_accuracy: 0.8452 - val_class_label_accuracy: 0.7957\n",
            "Epoch 28/250\n",
            "58/58 [==============================] - 12s 199ms/step - loss: 0.0561 - bounding_box_loss: 1.8986e-04 - class_label_loss: 0.0559 - bounding_box_accuracy: 0.9246 - class_label_accuracy: 0.9790 - val_loss: 0.7260 - val_bounding_box_loss: 0.0049 - val_class_label_loss: 0.7211 - val_bounding_box_accuracy: 0.8280 - val_class_label_accuracy: 0.7957\n",
            "Epoch 29/250\n",
            "58/58 [==============================] - 12s 199ms/step - loss: 0.0333 - bounding_box_loss: 1.6834e-04 - class_label_loss: 0.0331 - bounding_box_accuracy: 0.9278 - class_label_accuracy: 0.9914 - val_loss: 0.8300 - val_bounding_box_loss: 0.0049 - val_class_label_loss: 0.8251 - val_bounding_box_accuracy: 0.8409 - val_class_label_accuracy: 0.7871\n",
            "Epoch 30/250\n",
            "58/58 [==============================] - 12s 199ms/step - loss: 0.0360 - bounding_box_loss: 1.6299e-04 - class_label_loss: 0.0359 - bounding_box_accuracy: 0.9310 - class_label_accuracy: 0.9908 - val_loss: 0.8595 - val_bounding_box_loss: 0.0049 - val_class_label_loss: 0.8546 - val_bounding_box_accuracy: 0.8301 - val_class_label_accuracy: 0.7806\n",
            "Epoch 31/250\n",
            "58/58 [==============================] - 12s 200ms/step - loss: 0.0372 - bounding_box_loss: 1.5114e-04 - class_label_loss: 0.0371 - bounding_box_accuracy: 0.9348 - class_label_accuracy: 0.9892 - val_loss: 0.6984 - val_bounding_box_loss: 0.0050 - val_class_label_loss: 0.6934 - val_bounding_box_accuracy: 0.8559 - val_class_label_accuracy: 0.7935\n",
            "Epoch 32/250\n",
            "58/58 [==============================] - 11s 199ms/step - loss: 0.0388 - bounding_box_loss: 1.5588e-04 - class_label_loss: 0.0386 - bounding_box_accuracy: 0.9359 - class_label_accuracy: 0.9865 - val_loss: 0.7857 - val_bounding_box_loss: 0.0050 - val_class_label_loss: 0.7807 - val_bounding_box_accuracy: 0.8280 - val_class_label_accuracy: 0.7935\n",
            "Epoch 33/250\n",
            "58/58 [==============================] - 11s 199ms/step - loss: 0.0446 - bounding_box_loss: 1.7649e-04 - class_label_loss: 0.0444 - bounding_box_accuracy: 0.9283 - class_label_accuracy: 0.9871 - val_loss: 0.9397 - val_bounding_box_loss: 0.0050 - val_class_label_loss: 0.9348 - val_bounding_box_accuracy: 0.8323 - val_class_label_accuracy: 0.7462\n",
            "Epoch 34/250\n",
            "58/58 [==============================] - 12s 199ms/step - loss: 0.0418 - bounding_box_loss: 2.1248e-04 - class_label_loss: 0.0416 - bounding_box_accuracy: 0.9224 - class_label_accuracy: 0.9855 - val_loss: 0.9599 - val_bounding_box_loss: 0.0050 - val_class_label_loss: 0.9549 - val_bounding_box_accuracy: 0.8323 - val_class_label_accuracy: 0.7914\n",
            "Epoch 35/250\n",
            "58/58 [==============================] - 12s 199ms/step - loss: 0.0483 - bounding_box_loss: 1.9966e-04 - class_label_loss: 0.0481 - bounding_box_accuracy: 0.9278 - class_label_accuracy: 0.9838 - val_loss: 0.8050 - val_bounding_box_loss: 0.0050 - val_class_label_loss: 0.8000 - val_bounding_box_accuracy: 0.8280 - val_class_label_accuracy: 0.7957\n",
            "Epoch 36/250\n",
            "58/58 [==============================] - 12s 200ms/step - loss: 0.0263 - bounding_box_loss: 1.6650e-04 - class_label_loss: 0.0261 - bounding_box_accuracy: 0.9332 - class_label_accuracy: 0.9919 - val_loss: 0.9195 - val_bounding_box_loss: 0.0049 - val_class_label_loss: 0.9146 - val_bounding_box_accuracy: 0.8344 - val_class_label_accuracy: 0.7828\n",
            "Epoch 37/250\n",
            "58/58 [==============================] - 12s 199ms/step - loss: 0.0359 - bounding_box_loss: 1.9498e-04 - class_label_loss: 0.0357 - bounding_box_accuracy: 0.9348 - class_label_accuracy: 0.9881 - val_loss: 0.8325 - val_bounding_box_loss: 0.0050 - val_class_label_loss: 0.8276 - val_bounding_box_accuracy: 0.8301 - val_class_label_accuracy: 0.7849\n",
            "Epoch 38/250\n",
            "58/58 [==============================] - 12s 200ms/step - loss: 0.0262 - bounding_box_loss: 1.5721e-04 - class_label_loss: 0.0261 - bounding_box_accuracy: 0.9305 - class_label_accuracy: 0.9925 - val_loss: 1.0070 - val_bounding_box_loss: 0.0051 - val_class_label_loss: 1.0018 - val_bounding_box_accuracy: 0.8387 - val_class_label_accuracy: 0.7871\n",
            "Epoch 39/250\n",
            "58/58 [==============================] - 12s 200ms/step - loss: 0.0254 - bounding_box_loss: 1.5019e-04 - class_label_loss: 0.0253 - bounding_box_accuracy: 0.9380 - class_label_accuracy: 0.9925 - val_loss: 0.9757 - val_bounding_box_loss: 0.0050 - val_class_label_loss: 0.9707 - val_bounding_box_accuracy: 0.8344 - val_class_label_accuracy: 0.7656\n",
            "Epoch 40/250\n",
            "58/58 [==============================] - 12s 199ms/step - loss: 0.0279 - bounding_box_loss: 1.3561e-04 - class_label_loss: 0.0277 - bounding_box_accuracy: 0.9397 - class_label_accuracy: 0.9914 - val_loss: 0.9574 - val_bounding_box_loss: 0.0050 - val_class_label_loss: 0.9524 - val_bounding_box_accuracy: 0.8301 - val_class_label_accuracy: 0.7699\n",
            "Epoch 41/250\n",
            "58/58 [==============================] - 12s 200ms/step - loss: 0.0250 - bounding_box_loss: 1.3594e-04 - class_label_loss: 0.0248 - bounding_box_accuracy: 0.9380 - class_label_accuracy: 0.9908 - val_loss: 0.8843 - val_bounding_box_loss: 0.0050 - val_class_label_loss: 0.8793 - val_bounding_box_accuracy: 0.8409 - val_class_label_accuracy: 0.7828\n",
            "Epoch 42/250\n",
            "58/58 [==============================] - 12s 199ms/step - loss: 0.0271 - bounding_box_loss: 1.4153e-04 - class_label_loss: 0.0270 - bounding_box_accuracy: 0.9407 - class_label_accuracy: 0.9919 - val_loss: 0.8699 - val_bounding_box_loss: 0.0049 - val_class_label_loss: 0.8649 - val_bounding_box_accuracy: 0.8194 - val_class_label_accuracy: 0.7806\n",
            "Epoch 43/250\n",
            "58/58 [==============================] - 11s 199ms/step - loss: 0.0283 - bounding_box_loss: 1.5891e-04 - class_label_loss: 0.0282 - bounding_box_accuracy: 0.9380 - class_label_accuracy: 0.9876 - val_loss: 0.8352 - val_bounding_box_loss: 0.0050 - val_class_label_loss: 0.8302 - val_bounding_box_accuracy: 0.8323 - val_class_label_accuracy: 0.7914\n",
            "Epoch 44/250\n",
            "58/58 [==============================] - 12s 199ms/step - loss: 0.0301 - bounding_box_loss: 1.5566e-04 - class_label_loss: 0.0300 - bounding_box_accuracy: 0.9370 - class_label_accuracy: 0.9919 - val_loss: 0.8706 - val_bounding_box_loss: 0.0050 - val_class_label_loss: 0.8656 - val_bounding_box_accuracy: 0.8366 - val_class_label_accuracy: 0.7720\n",
            "Epoch 45/250\n",
            "58/58 [==============================] - 11s 199ms/step - loss: 0.0245 - bounding_box_loss: 1.2955e-04 - class_label_loss: 0.0244 - bounding_box_accuracy: 0.9477 - class_label_accuracy: 0.9925 - val_loss: 0.8980 - val_bounding_box_loss: 0.0049 - val_class_label_loss: 0.8931 - val_bounding_box_accuracy: 0.8301 - val_class_label_accuracy: 0.8000\n",
            "Epoch 46/250\n",
            "58/58 [==============================] - 11s 199ms/step - loss: 0.0279 - bounding_box_loss: 1.2246e-04 - class_label_loss: 0.0278 - bounding_box_accuracy: 0.9515 - class_label_accuracy: 0.9892 - val_loss: 0.9657 - val_bounding_box_loss: 0.0050 - val_class_label_loss: 0.9607 - val_bounding_box_accuracy: 0.8215 - val_class_label_accuracy: 0.7763\n",
            "Epoch 47/250\n",
            "58/58 [==============================] - 12s 200ms/step - loss: 0.0238 - bounding_box_loss: 1.2703e-04 - class_label_loss: 0.0237 - bounding_box_accuracy: 0.9504 - class_label_accuracy: 0.9919 - val_loss: 0.9798 - val_bounding_box_loss: 0.0049 - val_class_label_loss: 0.9749 - val_bounding_box_accuracy: 0.8323 - val_class_label_accuracy: 0.7828\n",
            "Epoch 48/250\n",
            "58/58 [==============================] - 11s 199ms/step - loss: 0.0321 - bounding_box_loss: 1.7246e-04 - class_label_loss: 0.0319 - bounding_box_accuracy: 0.9386 - class_label_accuracy: 0.9871 - val_loss: 0.9415 - val_bounding_box_loss: 0.0049 - val_class_label_loss: 0.9366 - val_bounding_box_accuracy: 0.8280 - val_class_label_accuracy: 0.7935\n",
            "Epoch 49/250\n",
            "58/58 [==============================] - 12s 200ms/step - loss: 0.0262 - bounding_box_loss: 1.6674e-04 - class_label_loss: 0.0260 - bounding_box_accuracy: 0.9353 - class_label_accuracy: 0.9914 - val_loss: 1.1826 - val_bounding_box_loss: 0.0049 - val_class_label_loss: 1.1777 - val_bounding_box_accuracy: 0.8108 - val_class_label_accuracy: 0.7527\n",
            "Epoch 50/250\n",
            "58/58 [==============================] - 11s 199ms/step - loss: 0.0314 - bounding_box_loss: 1.5658e-04 - class_label_loss: 0.0312 - bounding_box_accuracy: 0.9440 - class_label_accuracy: 0.9892 - val_loss: 0.8844 - val_bounding_box_loss: 0.0050 - val_class_label_loss: 0.8794 - val_bounding_box_accuracy: 0.8301 - val_class_label_accuracy: 0.7828\n",
            "Epoch 51/250\n",
            "58/58 [==============================] - 11s 199ms/step - loss: 0.0274 - bounding_box_loss: 1.4569e-04 - class_label_loss: 0.0273 - bounding_box_accuracy: 0.9429 - class_label_accuracy: 0.9919 - val_loss: 0.9811 - val_bounding_box_loss: 0.0049 - val_class_label_loss: 0.9762 - val_bounding_box_accuracy: 0.8172 - val_class_label_accuracy: 0.7785\n",
            "Epoch 52/250\n",
            "58/58 [==============================] - 12s 200ms/step - loss: 0.0229 - bounding_box_loss: 1.2659e-04 - class_label_loss: 0.0227 - bounding_box_accuracy: 0.9488 - class_label_accuracy: 0.9914 - val_loss: 0.9720 - val_bounding_box_loss: 0.0049 - val_class_label_loss: 0.9671 - val_bounding_box_accuracy: 0.8409 - val_class_label_accuracy: 0.7742\n",
            "Epoch 53/250\n",
            "58/58 [==============================] - 11s 199ms/step - loss: 0.0367 - bounding_box_loss: 1.5779e-04 - class_label_loss: 0.0365 - bounding_box_accuracy: 0.9461 - class_label_accuracy: 0.9876 - val_loss: 0.8851 - val_bounding_box_loss: 0.0051 - val_class_label_loss: 0.8800 - val_bounding_box_accuracy: 0.8172 - val_class_label_accuracy: 0.7914\n",
            "Epoch 54/250\n",
            "58/58 [==============================] - 12s 200ms/step - loss: 0.0303 - bounding_box_loss: 1.9240e-04 - class_label_loss: 0.0301 - bounding_box_accuracy: 0.9418 - class_label_accuracy: 0.9892 - val_loss: 0.9743 - val_bounding_box_loss: 0.0050 - val_class_label_loss: 0.9693 - val_bounding_box_accuracy: 0.8237 - val_class_label_accuracy: 0.7935\n",
            "Epoch 55/250\n",
            "58/58 [==============================] - 12s 200ms/step - loss: 0.0253 - bounding_box_loss: 1.5279e-04 - class_label_loss: 0.0251 - bounding_box_accuracy: 0.9456 - class_label_accuracy: 0.9930 - val_loss: 1.0135 - val_bounding_box_loss: 0.0050 - val_class_label_loss: 1.0085 - val_bounding_box_accuracy: 0.8280 - val_class_label_accuracy: 0.7570\n",
            "Epoch 56/250\n",
            "58/58 [==============================] - 12s 200ms/step - loss: 0.0377 - bounding_box_loss: 1.4450e-04 - class_label_loss: 0.0376 - bounding_box_accuracy: 0.9520 - class_label_accuracy: 0.9871 - val_loss: 0.9719 - val_bounding_box_loss: 0.0050 - val_class_label_loss: 0.9669 - val_bounding_box_accuracy: 0.8323 - val_class_label_accuracy: 0.7484\n",
            "Epoch 57/250\n",
            "58/58 [==============================] - 12s 199ms/step - loss: 0.0306 - bounding_box_loss: 1.3417e-04 - class_label_loss: 0.0304 - bounding_box_accuracy: 0.9483 - class_label_accuracy: 0.9860 - val_loss: 0.9136 - val_bounding_box_loss: 0.0050 - val_class_label_loss: 0.9086 - val_bounding_box_accuracy: 0.8258 - val_class_label_accuracy: 0.7742\n",
            "Epoch 58/250\n",
            "58/58 [==============================] - 12s 199ms/step - loss: 0.0169 - bounding_box_loss: 1.1208e-04 - class_label_loss: 0.0168 - bounding_box_accuracy: 0.9434 - class_label_accuracy: 0.9935 - val_loss: 1.1485 - val_bounding_box_loss: 0.0050 - val_class_label_loss: 1.1435 - val_bounding_box_accuracy: 0.8323 - val_class_label_accuracy: 0.7613\n",
            "Epoch 59/250\n",
            "58/58 [==============================] - 12s 199ms/step - loss: 0.0262 - bounding_box_loss: 1.0415e-04 - class_label_loss: 0.0261 - bounding_box_accuracy: 0.9537 - class_label_accuracy: 0.9887 - val_loss: 0.9183 - val_bounding_box_loss: 0.0049 - val_class_label_loss: 0.9134 - val_bounding_box_accuracy: 0.8323 - val_class_label_accuracy: 0.7871\n",
            "Epoch 60/250\n",
            "58/58 [==============================] - 12s 200ms/step - loss: 0.0288 - bounding_box_loss: 1.0449e-04 - class_label_loss: 0.0287 - bounding_box_accuracy: 0.9526 - class_label_accuracy: 0.9903 - val_loss: 0.9333 - val_bounding_box_loss: 0.0048 - val_class_label_loss: 0.9285 - val_bounding_box_accuracy: 0.8344 - val_class_label_accuracy: 0.7871\n",
            "Epoch 61/250\n",
            "58/58 [==============================] - 12s 200ms/step - loss: 0.0294 - bounding_box_loss: 1.0262e-04 - class_label_loss: 0.0293 - bounding_box_accuracy: 0.9574 - class_label_accuracy: 0.9914 - val_loss: 1.0046 - val_bounding_box_loss: 0.0049 - val_class_label_loss: 0.9997 - val_bounding_box_accuracy: 0.8194 - val_class_label_accuracy: 0.7742\n",
            "Epoch 62/250\n",
            "58/58 [==============================] - 12s 200ms/step - loss: 0.0226 - bounding_box_loss: 9.0469e-05 - class_label_loss: 0.0226 - bounding_box_accuracy: 0.9553 - class_label_accuracy: 0.9887 - val_loss: 1.1134 - val_bounding_box_loss: 0.0050 - val_class_label_loss: 1.1084 - val_bounding_box_accuracy: 0.8301 - val_class_label_accuracy: 0.7763\n",
            "Epoch 63/250\n",
            "58/58 [==============================] - 12s 200ms/step - loss: 0.0188 - bounding_box_loss: 9.3069e-05 - class_label_loss: 0.0187 - bounding_box_accuracy: 0.9601 - class_label_accuracy: 0.9925 - val_loss: 1.2815 - val_bounding_box_loss: 0.0050 - val_class_label_loss: 1.2764 - val_bounding_box_accuracy: 0.8280 - val_class_label_accuracy: 0.7935\n",
            "Epoch 64/250\n",
            "58/58 [==============================] - 12s 200ms/step - loss: 0.0383 - bounding_box_loss: 1.0181e-04 - class_label_loss: 0.0382 - bounding_box_accuracy: 0.9585 - class_label_accuracy: 0.9865 - val_loss: 1.1029 - val_bounding_box_loss: 0.0050 - val_class_label_loss: 1.0979 - val_bounding_box_accuracy: 0.8323 - val_class_label_accuracy: 0.7742\n",
            "Epoch 65/250\n",
            "58/58 [==============================] - 12s 200ms/step - loss: 0.0228 - bounding_box_loss: 1.0272e-04 - class_label_loss: 0.0227 - bounding_box_accuracy: 0.9547 - class_label_accuracy: 0.9930 - val_loss: 1.2105 - val_bounding_box_loss: 0.0050 - val_class_label_loss: 1.2055 - val_bounding_box_accuracy: 0.8366 - val_class_label_accuracy: 0.7742\n",
            "Epoch 66/250\n",
            "58/58 [==============================] - 12s 200ms/step - loss: 0.0283 - bounding_box_loss: 1.0102e-04 - class_label_loss: 0.0282 - bounding_box_accuracy: 0.9617 - class_label_accuracy: 0.9887 - val_loss: 1.0548 - val_bounding_box_loss: 0.0049 - val_class_label_loss: 1.0499 - val_bounding_box_accuracy: 0.8323 - val_class_label_accuracy: 0.7613\n",
            "Epoch 67/250\n",
            "58/58 [==============================] - 12s 200ms/step - loss: 0.0315 - bounding_box_loss: 1.1773e-04 - class_label_loss: 0.0314 - bounding_box_accuracy: 0.9639 - class_label_accuracy: 0.9887 - val_loss: 1.0120 - val_bounding_box_loss: 0.0049 - val_class_label_loss: 1.0071 - val_bounding_box_accuracy: 0.8151 - val_class_label_accuracy: 0.7720\n",
            "Epoch 68/250\n",
            "58/58 [==============================] - 12s 200ms/step - loss: 0.0262 - bounding_box_loss: 1.1949e-04 - class_label_loss: 0.0261 - bounding_box_accuracy: 0.9591 - class_label_accuracy: 0.9935 - val_loss: 1.0472 - val_bounding_box_loss: 0.0050 - val_class_label_loss: 1.0422 - val_bounding_box_accuracy: 0.8344 - val_class_label_accuracy: 0.7957\n",
            "Epoch 69/250\n",
            "58/58 [==============================] - 12s 201ms/step - loss: 0.0312 - bounding_box_loss: 1.0654e-04 - class_label_loss: 0.0311 - bounding_box_accuracy: 0.9574 - class_label_accuracy: 0.9881 - val_loss: 1.0944 - val_bounding_box_loss: 0.0050 - val_class_label_loss: 1.0894 - val_bounding_box_accuracy: 0.8280 - val_class_label_accuracy: 0.7871\n",
            "Epoch 70/250\n",
            "58/58 [==============================] - 12s 201ms/step - loss: 0.0315 - bounding_box_loss: 1.0344e-04 - class_label_loss: 0.0314 - bounding_box_accuracy: 0.9569 - class_label_accuracy: 0.9876 - val_loss: 0.9729 - val_bounding_box_loss: 0.0049 - val_class_label_loss: 0.9680 - val_bounding_box_accuracy: 0.8323 - val_class_label_accuracy: 0.7613\n",
            "Epoch 71/250\n",
            "58/58 [==============================] - 12s 201ms/step - loss: 0.0435 - bounding_box_loss: 1.0232e-04 - class_label_loss: 0.0434 - bounding_box_accuracy: 0.9564 - class_label_accuracy: 0.9838 - val_loss: 0.9244 - val_bounding_box_loss: 0.0050 - val_class_label_loss: 0.9194 - val_bounding_box_accuracy: 0.8387 - val_class_label_accuracy: 0.7656\n",
            "Epoch 72/250\n",
            "58/58 [==============================] - 12s 200ms/step - loss: 0.0214 - bounding_box_loss: 1.2564e-04 - class_label_loss: 0.0213 - bounding_box_accuracy: 0.9520 - class_label_accuracy: 0.9914 - val_loss: 1.1690 - val_bounding_box_loss: 0.0050 - val_class_label_loss: 1.1639 - val_bounding_box_accuracy: 0.8280 - val_class_label_accuracy: 0.7935\n",
            "Epoch 73/250\n",
            "58/58 [==============================] - 12s 201ms/step - loss: 0.0345 - bounding_box_loss: 1.1180e-04 - class_label_loss: 0.0344 - bounding_box_accuracy: 0.9591 - class_label_accuracy: 0.9849 - val_loss: 1.0132 - val_bounding_box_loss: 0.0049 - val_class_label_loss: 1.0083 - val_bounding_box_accuracy: 0.8301 - val_class_label_accuracy: 0.8000\n",
            "Epoch 74/250\n",
            "58/58 [==============================] - 12s 201ms/step - loss: 0.0309 - bounding_box_loss: 1.1102e-04 - class_label_loss: 0.0308 - bounding_box_accuracy: 0.9612 - class_label_accuracy: 0.9855 - val_loss: 1.0496 - val_bounding_box_loss: 0.0049 - val_class_label_loss: 1.0447 - val_bounding_box_accuracy: 0.8366 - val_class_label_accuracy: 0.7742\n",
            "Epoch 75/250\n",
            "58/58 [==============================] - 12s 201ms/step - loss: 0.0296 - bounding_box_loss: 1.2556e-04 - class_label_loss: 0.0295 - bounding_box_accuracy: 0.9526 - class_label_accuracy: 0.9876 - val_loss: 1.0075 - val_bounding_box_loss: 0.0049 - val_class_label_loss: 1.0025 - val_bounding_box_accuracy: 0.8409 - val_class_label_accuracy: 0.7699\n",
            "Epoch 76/250\n",
            "58/58 [==============================] - 12s 200ms/step - loss: 0.0472 - bounding_box_loss: 1.3896e-04 - class_label_loss: 0.0470 - bounding_box_accuracy: 0.9434 - class_label_accuracy: 0.9806 - val_loss: 0.9072 - val_bounding_box_loss: 0.0049 - val_class_label_loss: 0.9024 - val_bounding_box_accuracy: 0.8366 - val_class_label_accuracy: 0.7699\n",
            "Epoch 77/250\n",
            "58/58 [==============================] - 12s 200ms/step - loss: 0.0344 - bounding_box_loss: 1.0795e-04 - class_label_loss: 0.0343 - bounding_box_accuracy: 0.9601 - class_label_accuracy: 0.9876 - val_loss: 1.1618 - val_bounding_box_loss: 0.0049 - val_class_label_loss: 1.1569 - val_bounding_box_accuracy: 0.8323 - val_class_label_accuracy: 0.7656\n",
            "Epoch 78/250\n",
            "58/58 [==============================] - 12s 200ms/step - loss: 0.0413 - bounding_box_loss: 9.6286e-05 - class_label_loss: 0.0412 - bounding_box_accuracy: 0.9591 - class_label_accuracy: 0.9828 - val_loss: 0.9654 - val_bounding_box_loss: 0.0048 - val_class_label_loss: 0.9606 - val_bounding_box_accuracy: 0.8215 - val_class_label_accuracy: 0.7763\n",
            "Epoch 79/250\n",
            "58/58 [==============================] - 12s 201ms/step - loss: 0.0454 - bounding_box_loss: 8.4968e-05 - class_label_loss: 0.0453 - bounding_box_accuracy: 0.9693 - class_label_accuracy: 0.9822 - val_loss: 1.0658 - val_bounding_box_loss: 0.0049 - val_class_label_loss: 1.0609 - val_bounding_box_accuracy: 0.8366 - val_class_label_accuracy: 0.7914\n",
            "Epoch 80/250\n",
            "58/58 [==============================] - 12s 201ms/step - loss: 0.0310 - bounding_box_loss: 8.3598e-05 - class_label_loss: 0.0309 - bounding_box_accuracy: 0.9617 - class_label_accuracy: 0.9876 - val_loss: 0.9722 - val_bounding_box_loss: 0.0049 - val_class_label_loss: 0.9672 - val_bounding_box_accuracy: 0.8323 - val_class_label_accuracy: 0.7957\n",
            "Epoch 81/250\n",
            "58/58 [==============================] - 12s 201ms/step - loss: 0.0362 - bounding_box_loss: 7.7934e-05 - class_label_loss: 0.0361 - bounding_box_accuracy: 0.9639 - class_label_accuracy: 0.9860 - val_loss: 1.0999 - val_bounding_box_loss: 0.0049 - val_class_label_loss: 1.0949 - val_bounding_box_accuracy: 0.8301 - val_class_label_accuracy: 0.7785\n",
            "Epoch 82/250\n",
            "58/58 [==============================] - 12s 200ms/step - loss: 0.0288 - bounding_box_loss: 9.1264e-05 - class_label_loss: 0.0287 - bounding_box_accuracy: 0.9666 - class_label_accuracy: 0.9860 - val_loss: 0.8869 - val_bounding_box_loss: 0.0050 - val_class_label_loss: 0.8819 - val_bounding_box_accuracy: 0.8237 - val_class_label_accuracy: 0.7957\n",
            "Epoch 83/250\n",
            "58/58 [==============================] - 12s 200ms/step - loss: 0.0254 - bounding_box_loss: 1.1838e-04 - class_label_loss: 0.0252 - bounding_box_accuracy: 0.9515 - class_label_accuracy: 0.9925 - val_loss: 1.5033 - val_bounding_box_loss: 0.0051 - val_class_label_loss: 1.4982 - val_bounding_box_accuracy: 0.8323 - val_class_label_accuracy: 0.7333\n",
            "Epoch 84/250\n",
            "58/58 [==============================] - 12s 200ms/step - loss: 0.0329 - bounding_box_loss: 1.4297e-04 - class_label_loss: 0.0327 - bounding_box_accuracy: 0.9499 - class_label_accuracy: 0.9903 - val_loss: 1.1318 - val_bounding_box_loss: 0.0049 - val_class_label_loss: 1.1268 - val_bounding_box_accuracy: 0.8344 - val_class_label_accuracy: 0.7849\n",
            "Epoch 85/250\n",
            "58/58 [==============================] - 12s 200ms/step - loss: 0.0413 - bounding_box_loss: 1.5385e-04 - class_label_loss: 0.0412 - bounding_box_accuracy: 0.9520 - class_label_accuracy: 0.9849 - val_loss: 0.8851 - val_bounding_box_loss: 0.0052 - val_class_label_loss: 0.8799 - val_bounding_box_accuracy: 0.8258 - val_class_label_accuracy: 0.7957\n",
            "Epoch 86/250\n",
            "58/58 [==============================] - 11s 198ms/step - loss: 0.0296 - bounding_box_loss: 1.7088e-04 - class_label_loss: 0.0294 - bounding_box_accuracy: 0.9434 - class_label_accuracy: 0.9908 - val_loss: 1.1499 - val_bounding_box_loss: 0.0048 - val_class_label_loss: 1.1451 - val_bounding_box_accuracy: 0.8237 - val_class_label_accuracy: 0.7527\n",
            "Epoch 87/250\n",
            "58/58 [==============================] - 12s 200ms/step - loss: 0.0332 - bounding_box_loss: 1.4092e-04 - class_label_loss: 0.0331 - bounding_box_accuracy: 0.9623 - class_label_accuracy: 0.9887 - val_loss: 1.0721 - val_bounding_box_loss: 0.0048 - val_class_label_loss: 1.0673 - val_bounding_box_accuracy: 0.8323 - val_class_label_accuracy: 0.7871\n",
            "Epoch 88/250\n",
            "58/58 [==============================] - 12s 200ms/step - loss: 0.0219 - bounding_box_loss: 1.5768e-04 - class_label_loss: 0.0218 - bounding_box_accuracy: 0.9553 - class_label_accuracy: 0.9914 - val_loss: 1.1094 - val_bounding_box_loss: 0.0049 - val_class_label_loss: 1.1045 - val_bounding_box_accuracy: 0.8194 - val_class_label_accuracy: 0.7849\n",
            "Epoch 89/250\n",
            "58/58 [==============================] - 11s 199ms/step - loss: 0.0187 - bounding_box_loss: 1.3501e-04 - class_label_loss: 0.0186 - bounding_box_accuracy: 0.9542 - class_label_accuracy: 0.9919 - val_loss: 1.1978 - val_bounding_box_loss: 0.0050 - val_class_label_loss: 1.1928 - val_bounding_box_accuracy: 0.8280 - val_class_label_accuracy: 0.7613\n",
            "Epoch 90/250\n",
            "58/58 [==============================] - 12s 200ms/step - loss: 0.0193 - bounding_box_loss: 2.0612e-04 - class_label_loss: 0.0191 - bounding_box_accuracy: 0.9499 - class_label_accuracy: 0.9914 - val_loss: 1.1959 - val_bounding_box_loss: 0.0049 - val_class_label_loss: 1.1910 - val_bounding_box_accuracy: 0.8430 - val_class_label_accuracy: 0.7914\n",
            "Epoch 91/250\n",
            "58/58 [==============================] - 12s 200ms/step - loss: 0.0231 - bounding_box_loss: 1.6172e-04 - class_label_loss: 0.0229 - bounding_box_accuracy: 0.9553 - class_label_accuracy: 0.9925 - val_loss: 1.0656 - val_bounding_box_loss: 0.0047 - val_class_label_loss: 1.0609 - val_bounding_box_accuracy: 0.8194 - val_class_label_accuracy: 0.7677\n",
            "Epoch 92/250\n",
            "58/58 [==============================] - 12s 199ms/step - loss: 0.0136 - bounding_box_loss: 1.0726e-04 - class_label_loss: 0.0135 - bounding_box_accuracy: 0.9623 - class_label_accuracy: 0.9957 - val_loss: 1.5487 - val_bounding_box_loss: 0.0048 - val_class_label_loss: 1.5439 - val_bounding_box_accuracy: 0.8280 - val_class_label_accuracy: 0.7419\n",
            "Epoch 93/250\n",
            "58/58 [==============================] - 12s 200ms/step - loss: 0.0153 - bounding_box_loss: 9.5178e-05 - class_label_loss: 0.0152 - bounding_box_accuracy: 0.9601 - class_label_accuracy: 0.9941 - val_loss: 1.3680 - val_bounding_box_loss: 0.0049 - val_class_label_loss: 1.3632 - val_bounding_box_accuracy: 0.8409 - val_class_label_accuracy: 0.7763\n",
            "Epoch 94/250\n",
            "58/58 [==============================] - 12s 200ms/step - loss: 0.0256 - bounding_box_loss: 7.5130e-05 - class_label_loss: 0.0256 - bounding_box_accuracy: 0.9677 - class_label_accuracy: 0.9903 - val_loss: 1.3188 - val_bounding_box_loss: 0.0049 - val_class_label_loss: 1.3139 - val_bounding_box_accuracy: 0.8387 - val_class_label_accuracy: 0.7763\n",
            "Epoch 95/250\n",
            "58/58 [==============================] - 12s 201ms/step - loss: 0.0220 - bounding_box_loss: 5.8897e-05 - class_label_loss: 0.0220 - bounding_box_accuracy: 0.9709 - class_label_accuracy: 0.9914 - val_loss: 1.2879 - val_bounding_box_loss: 0.0048 - val_class_label_loss: 1.2831 - val_bounding_box_accuracy: 0.8237 - val_class_label_accuracy: 0.7806\n",
            "Epoch 96/250\n",
            "58/58 [==============================] - 12s 199ms/step - loss: 0.0205 - bounding_box_loss: 5.8887e-05 - class_label_loss: 0.0204 - bounding_box_accuracy: 0.9682 - class_label_accuracy: 0.9925 - val_loss: 1.0825 - val_bounding_box_loss: 0.0049 - val_class_label_loss: 1.0776 - val_bounding_box_accuracy: 0.8280 - val_class_label_accuracy: 0.7935\n",
            "Epoch 97/250\n",
            "58/58 [==============================] - 12s 200ms/step - loss: 0.0229 - bounding_box_loss: 6.4212e-05 - class_label_loss: 0.0229 - bounding_box_accuracy: 0.9709 - class_label_accuracy: 0.9898 - val_loss: 1.3190 - val_bounding_box_loss: 0.0048 - val_class_label_loss: 1.3141 - val_bounding_box_accuracy: 0.8151 - val_class_label_accuracy: 0.7914\n",
            "Epoch 98/250\n",
            "58/58 [==============================] - 12s 200ms/step - loss: 0.0348 - bounding_box_loss: 6.5339e-05 - class_label_loss: 0.0347 - bounding_box_accuracy: 0.9725 - class_label_accuracy: 0.9855 - val_loss: 0.9828 - val_bounding_box_loss: 0.0048 - val_class_label_loss: 0.9780 - val_bounding_box_accuracy: 0.8323 - val_class_label_accuracy: 0.7828\n",
            "Epoch 99/250\n",
            "58/58 [==============================] - 12s 200ms/step - loss: 0.0320 - bounding_box_loss: 7.2103e-05 - class_label_loss: 0.0319 - bounding_box_accuracy: 0.9741 - class_label_accuracy: 0.9871 - val_loss: 1.0372 - val_bounding_box_loss: 0.0049 - val_class_label_loss: 1.0323 - val_bounding_box_accuracy: 0.8280 - val_class_label_accuracy: 0.7720\n",
            "Epoch 100/250\n",
            "58/58 [==============================] - 12s 200ms/step - loss: 0.0267 - bounding_box_loss: 6.6993e-05 - class_label_loss: 0.0266 - bounding_box_accuracy: 0.9725 - class_label_accuracy: 0.9887 - val_loss: 1.2909 - val_bounding_box_loss: 0.0048 - val_class_label_loss: 1.2861 - val_bounding_box_accuracy: 0.8194 - val_class_label_accuracy: 0.7871\n",
            "Epoch 101/250\n",
            "58/58 [==============================] - 12s 201ms/step - loss: 0.0237 - bounding_box_loss: 6.2909e-05 - class_label_loss: 0.0237 - bounding_box_accuracy: 0.9790 - class_label_accuracy: 0.9876 - val_loss: 1.1055 - val_bounding_box_loss: 0.0049 - val_class_label_loss: 1.1006 - val_bounding_box_accuracy: 0.8387 - val_class_label_accuracy: 0.7656\n",
            "Epoch 102/250\n",
            "58/58 [==============================] - 12s 200ms/step - loss: 0.0346 - bounding_box_loss: 7.2384e-05 - class_label_loss: 0.0346 - bounding_box_accuracy: 0.9639 - class_label_accuracy: 0.9865 - val_loss: 1.1409 - val_bounding_box_loss: 0.0049 - val_class_label_loss: 1.1359 - val_bounding_box_accuracy: 0.8366 - val_class_label_accuracy: 0.7849\n",
            "Epoch 103/250\n",
            "58/58 [==============================] - 12s 201ms/step - loss: 0.0243 - bounding_box_loss: 7.3917e-05 - class_label_loss: 0.0243 - bounding_box_accuracy: 0.9591 - class_label_accuracy: 0.9903 - val_loss: 1.1389 - val_bounding_box_loss: 0.0049 - val_class_label_loss: 1.1340 - val_bounding_box_accuracy: 0.8237 - val_class_label_accuracy: 0.7699\n",
            "Epoch 104/250\n",
            "58/58 [==============================] - 12s 200ms/step - loss: 0.0268 - bounding_box_loss: 8.7073e-05 - class_label_loss: 0.0267 - bounding_box_accuracy: 0.9601 - class_label_accuracy: 0.9903 - val_loss: 1.2881 - val_bounding_box_loss: 0.0050 - val_class_label_loss: 1.2831 - val_bounding_box_accuracy: 0.8409 - val_class_label_accuracy: 0.7742\n",
            "Epoch 105/250\n",
            "58/58 [==============================] - 12s 200ms/step - loss: 0.0194 - bounding_box_loss: 1.1234e-04 - class_label_loss: 0.0193 - bounding_box_accuracy: 0.9601 - class_label_accuracy: 0.9925 - val_loss: 1.1711 - val_bounding_box_loss: 0.0049 - val_class_label_loss: 1.1662 - val_bounding_box_accuracy: 0.8452 - val_class_label_accuracy: 0.7871\n",
            "Epoch 106/250\n",
            "58/58 [==============================] - 12s 200ms/step - loss: 0.0138 - bounding_box_loss: 1.2183e-04 - class_label_loss: 0.0137 - bounding_box_accuracy: 0.9623 - class_label_accuracy: 0.9946 - val_loss: 1.3292 - val_bounding_box_loss: 0.0049 - val_class_label_loss: 1.3243 - val_bounding_box_accuracy: 0.8237 - val_class_label_accuracy: 0.7892\n",
            "Epoch 107/250\n",
            "58/58 [==============================] - 12s 201ms/step - loss: 0.0170 - bounding_box_loss: 1.0283e-04 - class_label_loss: 0.0169 - bounding_box_accuracy: 0.9709 - class_label_accuracy: 0.9946 - val_loss: 1.3411 - val_bounding_box_loss: 0.0049 - val_class_label_loss: 1.3363 - val_bounding_box_accuracy: 0.8301 - val_class_label_accuracy: 0.7742\n",
            "Epoch 108/250\n",
            "58/58 [==============================] - 12s 200ms/step - loss: 0.0218 - bounding_box_loss: 7.5869e-05 - class_label_loss: 0.0218 - bounding_box_accuracy: 0.9709 - class_label_accuracy: 0.9903 - val_loss: 1.4645 - val_bounding_box_loss: 0.0049 - val_class_label_loss: 1.4597 - val_bounding_box_accuracy: 0.8280 - val_class_label_accuracy: 0.7720\n",
            "Epoch 109/250\n",
            "58/58 [==============================] - 12s 200ms/step - loss: 0.0354 - bounding_box_loss: 7.4473e-05 - class_label_loss: 0.0353 - bounding_box_accuracy: 0.9704 - class_label_accuracy: 0.9849 - val_loss: 1.0764 - val_bounding_box_loss: 0.0047 - val_class_label_loss: 1.0716 - val_bounding_box_accuracy: 0.8301 - val_class_label_accuracy: 0.8108\n",
            "Epoch 110/250\n",
            "58/58 [==============================] - 12s 201ms/step - loss: 0.0282 - bounding_box_loss: 6.3440e-05 - class_label_loss: 0.0281 - bounding_box_accuracy: 0.9747 - class_label_accuracy: 0.9860 - val_loss: 1.2714 - val_bounding_box_loss: 0.0048 - val_class_label_loss: 1.2667 - val_bounding_box_accuracy: 0.8258 - val_class_label_accuracy: 0.7720\n",
            "Epoch 111/250\n",
            "58/58 [==============================] - 12s 202ms/step - loss: 0.0252 - bounding_box_loss: 6.9959e-05 - class_label_loss: 0.0252 - bounding_box_accuracy: 0.9731 - class_label_accuracy: 0.9898 - val_loss: 1.5988 - val_bounding_box_loss: 0.0048 - val_class_label_loss: 1.5940 - val_bounding_box_accuracy: 0.8430 - val_class_label_accuracy: 0.7398\n",
            "Epoch 112/250\n",
            "58/58 [==============================] - 12s 202ms/step - loss: 0.0224 - bounding_box_loss: 6.9841e-05 - class_label_loss: 0.0223 - bounding_box_accuracy: 0.9709 - class_label_accuracy: 0.9898 - val_loss: 1.3454 - val_bounding_box_loss: 0.0049 - val_class_label_loss: 1.3405 - val_bounding_box_accuracy: 0.8366 - val_class_label_accuracy: 0.7398\n",
            "Epoch 113/250\n",
            "58/58 [==============================] - 12s 200ms/step - loss: 0.0295 - bounding_box_loss: 8.6259e-05 - class_label_loss: 0.0294 - bounding_box_accuracy: 0.9623 - class_label_accuracy: 0.9876 - val_loss: 1.1805 - val_bounding_box_loss: 0.0048 - val_class_label_loss: 1.1756 - val_bounding_box_accuracy: 0.8430 - val_class_label_accuracy: 0.7957\n",
            "Epoch 114/250\n",
            "58/58 [==============================] - 12s 201ms/step - loss: 0.0334 - bounding_box_loss: 9.0407e-05 - class_label_loss: 0.0333 - bounding_box_accuracy: 0.9612 - class_label_accuracy: 0.9811 - val_loss: 1.0973 - val_bounding_box_loss: 0.0048 - val_class_label_loss: 1.0925 - val_bounding_box_accuracy: 0.8366 - val_class_label_accuracy: 0.7957\n",
            "Epoch 115/250\n",
            "58/58 [==============================] - 12s 199ms/step - loss: 0.0244 - bounding_box_loss: 1.1028e-04 - class_label_loss: 0.0243 - bounding_box_accuracy: 0.9569 - class_label_accuracy: 0.9898 - val_loss: 1.2210 - val_bounding_box_loss: 0.0048 - val_class_label_loss: 1.2162 - val_bounding_box_accuracy: 0.8280 - val_class_label_accuracy: 0.7828\n",
            "Epoch 116/250\n",
            "58/58 [==============================] - 12s 200ms/step - loss: 0.0390 - bounding_box_loss: 1.1293e-04 - class_label_loss: 0.0389 - bounding_box_accuracy: 0.9596 - class_label_accuracy: 0.9817 - val_loss: 1.6368 - val_bounding_box_loss: 0.0048 - val_class_label_loss: 1.6320 - val_bounding_box_accuracy: 0.8366 - val_class_label_accuracy: 0.7376\n",
            "Epoch 117/250\n",
            "58/58 [==============================] - 12s 200ms/step - loss: 0.0510 - bounding_box_loss: 1.1343e-04 - class_label_loss: 0.0509 - bounding_box_accuracy: 0.9591 - class_label_accuracy: 0.9774 - val_loss: 1.0525 - val_bounding_box_loss: 0.0048 - val_class_label_loss: 1.0477 - val_bounding_box_accuracy: 0.8409 - val_class_label_accuracy: 0.7828\n",
            "Epoch 118/250\n",
            "58/58 [==============================] - 12s 201ms/step - loss: 0.0289 - bounding_box_loss: 9.4739e-05 - class_label_loss: 0.0288 - bounding_box_accuracy: 0.9666 - class_label_accuracy: 0.9865 - val_loss: 1.2977 - val_bounding_box_loss: 0.0048 - val_class_label_loss: 1.2929 - val_bounding_box_accuracy: 0.8301 - val_class_label_accuracy: 0.7699\n",
            "Epoch 119/250\n",
            "58/58 [==============================] - 12s 201ms/step - loss: 0.0281 - bounding_box_loss: 9.1942e-05 - class_label_loss: 0.0280 - bounding_box_accuracy: 0.9693 - class_label_accuracy: 0.9876 - val_loss: 1.2257 - val_bounding_box_loss: 0.0049 - val_class_label_loss: 1.2209 - val_bounding_box_accuracy: 0.8323 - val_class_label_accuracy: 0.7957\n",
            "Epoch 120/250\n",
            "58/58 [==============================] - 12s 202ms/step - loss: 0.0357 - bounding_box_loss: 8.4185e-05 - class_label_loss: 0.0357 - bounding_box_accuracy: 0.9704 - class_label_accuracy: 0.9822 - val_loss: 1.1586 - val_bounding_box_loss: 0.0049 - val_class_label_loss: 1.1537 - val_bounding_box_accuracy: 0.8473 - val_class_label_accuracy: 0.7763\n",
            "Epoch 121/250\n",
            "58/58 [==============================] - 12s 200ms/step - loss: 0.0271 - bounding_box_loss: 1.0428e-04 - class_label_loss: 0.0270 - bounding_box_accuracy: 0.9601 - class_label_accuracy: 0.9860 - val_loss: 1.2096 - val_bounding_box_loss: 0.0047 - val_class_label_loss: 1.2049 - val_bounding_box_accuracy: 0.8280 - val_class_label_accuracy: 0.7806\n",
            "Epoch 122/250\n",
            "58/58 [==============================] - 12s 201ms/step - loss: 0.0309 - bounding_box_loss: 8.5566e-05 - class_label_loss: 0.0308 - bounding_box_accuracy: 0.9682 - class_label_accuracy: 0.9871 - val_loss: 1.2192 - val_bounding_box_loss: 0.0048 - val_class_label_loss: 1.2143 - val_bounding_box_accuracy: 0.8323 - val_class_label_accuracy: 0.7828\n",
            "Epoch 123/250\n",
            "58/58 [==============================] - 12s 200ms/step - loss: 0.0203 - bounding_box_loss: 6.9082e-05 - class_label_loss: 0.0203 - bounding_box_accuracy: 0.9709 - class_label_accuracy: 0.9925 - val_loss: 1.5869 - val_bounding_box_loss: 0.0048 - val_class_label_loss: 1.5821 - val_bounding_box_accuracy: 0.8237 - val_class_label_accuracy: 0.7806\n",
            "Epoch 124/250\n",
            "58/58 [==============================] - 12s 201ms/step - loss: 0.0174 - bounding_box_loss: 6.5065e-05 - class_label_loss: 0.0173 - bounding_box_accuracy: 0.9747 - class_label_accuracy: 0.9919 - val_loss: 1.3705 - val_bounding_box_loss: 0.0049 - val_class_label_loss: 1.3656 - val_bounding_box_accuracy: 0.8258 - val_class_label_accuracy: 0.7763\n",
            "Epoch 125/250\n",
            "58/58 [==============================] - 12s 201ms/step - loss: 0.0204 - bounding_box_loss: 6.6755e-05 - class_label_loss: 0.0204 - bounding_box_accuracy: 0.9714 - class_label_accuracy: 0.9914 - val_loss: 1.1376 - val_bounding_box_loss: 0.0048 - val_class_label_loss: 1.1329 - val_bounding_box_accuracy: 0.8452 - val_class_label_accuracy: 0.7785\n",
            "Epoch 126/250\n",
            "58/58 [==============================] - 12s 200ms/step - loss: 0.0244 - bounding_box_loss: 6.2824e-05 - class_label_loss: 0.0244 - bounding_box_accuracy: 0.9736 - class_label_accuracy: 0.9908 - val_loss: 1.3109 - val_bounding_box_loss: 0.0049 - val_class_label_loss: 1.3060 - val_bounding_box_accuracy: 0.8215 - val_class_label_accuracy: 0.7785\n",
            "Epoch 127/250\n",
            "58/58 [==============================] - 12s 200ms/step - loss: 0.0202 - bounding_box_loss: 7.5837e-05 - class_label_loss: 0.0201 - bounding_box_accuracy: 0.9617 - class_label_accuracy: 0.9881 - val_loss: 1.4746 - val_bounding_box_loss: 0.0049 - val_class_label_loss: 1.4696 - val_bounding_box_accuracy: 0.8366 - val_class_label_accuracy: 0.7828\n",
            "Epoch 128/250\n",
            "58/58 [==============================] - 12s 200ms/step - loss: 0.0209 - bounding_box_loss: 8.1785e-05 - class_label_loss: 0.0208 - bounding_box_accuracy: 0.9617 - class_label_accuracy: 0.9925 - val_loss: 1.5322 - val_bounding_box_loss: 0.0048 - val_class_label_loss: 1.5274 - val_bounding_box_accuracy: 0.8258 - val_class_label_accuracy: 0.7570\n",
            "Epoch 129/250\n",
            "58/58 [==============================] - 12s 200ms/step - loss: 0.0234 - bounding_box_loss: 7.0331e-05 - class_label_loss: 0.0233 - bounding_box_accuracy: 0.9704 - class_label_accuracy: 0.9881 - val_loss: 1.2896 - val_bounding_box_loss: 0.0048 - val_class_label_loss: 1.2848 - val_bounding_box_accuracy: 0.8366 - val_class_label_accuracy: 0.7978\n",
            "Epoch 130/250\n",
            "58/58 [==============================] - 12s 200ms/step - loss: 0.0234 - bounding_box_loss: 8.7516e-05 - class_label_loss: 0.0233 - bounding_box_accuracy: 0.9650 - class_label_accuracy: 0.9865 - val_loss: 1.2653 - val_bounding_box_loss: 0.0049 - val_class_label_loss: 1.2605 - val_bounding_box_accuracy: 0.8387 - val_class_label_accuracy: 0.7914\n",
            "Epoch 131/250\n",
            "58/58 [==============================] - 12s 200ms/step - loss: 0.0184 - bounding_box_loss: 9.7002e-05 - class_label_loss: 0.0183 - bounding_box_accuracy: 0.9677 - class_label_accuracy: 0.9914 - val_loss: 1.6995 - val_bounding_box_loss: 0.0048 - val_class_label_loss: 1.6948 - val_bounding_box_accuracy: 0.8151 - val_class_label_accuracy: 0.7957\n",
            "Epoch 132/250\n",
            "58/58 [==============================] - 12s 201ms/step - loss: 0.0110 - bounding_box_loss: 1.0362e-04 - class_label_loss: 0.0108 - bounding_box_accuracy: 0.9585 - class_label_accuracy: 0.9941 - val_loss: 1.7137 - val_bounding_box_loss: 0.0049 - val_class_label_loss: 1.7088 - val_bounding_box_accuracy: 0.8387 - val_class_label_accuracy: 0.7527\n",
            "Epoch 133/250\n",
            "58/58 [==============================] - 12s 201ms/step - loss: 0.0251 - bounding_box_loss: 8.1686e-05 - class_label_loss: 0.0250 - bounding_box_accuracy: 0.9623 - class_label_accuracy: 0.9892 - val_loss: 1.2805 - val_bounding_box_loss: 0.0048 - val_class_label_loss: 1.2757 - val_bounding_box_accuracy: 0.8258 - val_class_label_accuracy: 0.7742\n",
            "Epoch 134/250\n",
            "58/58 [==============================] - 12s 202ms/step - loss: 0.0277 - bounding_box_loss: 6.6743e-05 - class_label_loss: 0.0276 - bounding_box_accuracy: 0.9677 - class_label_accuracy: 0.9865 - val_loss: 1.1812 - val_bounding_box_loss: 0.0048 - val_class_label_loss: 1.1764 - val_bounding_box_accuracy: 0.8301 - val_class_label_accuracy: 0.7677\n",
            "Epoch 135/250\n",
            "58/58 [==============================] - 12s 201ms/step - loss: 0.0269 - bounding_box_loss: 6.7353e-05 - class_label_loss: 0.0268 - bounding_box_accuracy: 0.9698 - class_label_accuracy: 0.9865 - val_loss: 1.2016 - val_bounding_box_loss: 0.0049 - val_class_label_loss: 1.1966 - val_bounding_box_accuracy: 0.8344 - val_class_label_accuracy: 0.7871\n",
            "Epoch 136/250\n",
            "58/58 [==============================] - 12s 201ms/step - loss: 0.0170 - bounding_box_loss: 5.6821e-05 - class_label_loss: 0.0169 - bounding_box_accuracy: 0.9693 - class_label_accuracy: 0.9908 - val_loss: 1.4969 - val_bounding_box_loss: 0.0048 - val_class_label_loss: 1.4921 - val_bounding_box_accuracy: 0.8301 - val_class_label_accuracy: 0.7742\n",
            "Epoch 137/250\n",
            "58/58 [==============================] - 12s 201ms/step - loss: 0.0236 - bounding_box_loss: 5.1636e-05 - class_label_loss: 0.0235 - bounding_box_accuracy: 0.9709 - class_label_accuracy: 0.9908 - val_loss: 1.2912 - val_bounding_box_loss: 0.0048 - val_class_label_loss: 1.2865 - val_bounding_box_accuracy: 0.8344 - val_class_label_accuracy: 0.7828\n",
            "Epoch 138/250\n",
            "58/58 [==============================] - 12s 199ms/step - loss: 0.0300 - bounding_box_loss: 5.3483e-05 - class_label_loss: 0.0299 - bounding_box_accuracy: 0.9709 - class_label_accuracy: 0.9849 - val_loss: 1.5503 - val_bounding_box_loss: 0.0048 - val_class_label_loss: 1.5454 - val_bounding_box_accuracy: 0.8366 - val_class_label_accuracy: 0.7548\n",
            "Epoch 139/250\n",
            "58/58 [==============================] - 12s 200ms/step - loss: 0.0334 - bounding_box_loss: 4.8425e-05 - class_label_loss: 0.0333 - bounding_box_accuracy: 0.9779 - class_label_accuracy: 0.9849 - val_loss: 1.1796 - val_bounding_box_loss: 0.0047 - val_class_label_loss: 1.1749 - val_bounding_box_accuracy: 0.8280 - val_class_label_accuracy: 0.7935\n",
            "Epoch 140/250\n",
            "58/58 [==============================] - 12s 201ms/step - loss: 0.0226 - bounding_box_loss: 4.8037e-05 - class_label_loss: 0.0225 - bounding_box_accuracy: 0.9698 - class_label_accuracy: 0.9881 - val_loss: 1.3696 - val_bounding_box_loss: 0.0048 - val_class_label_loss: 1.3648 - val_bounding_box_accuracy: 0.8237 - val_class_label_accuracy: 0.7785\n",
            "Epoch 141/250\n",
            "58/58 [==============================] - 12s 201ms/step - loss: 0.0181 - bounding_box_loss: 6.3008e-05 - class_label_loss: 0.0180 - bounding_box_accuracy: 0.9741 - class_label_accuracy: 0.9930 - val_loss: 1.4460 - val_bounding_box_loss: 0.0048 - val_class_label_loss: 1.4412 - val_bounding_box_accuracy: 0.8301 - val_class_label_accuracy: 0.7785\n",
            "Epoch 142/250\n",
            "58/58 [==============================] - 12s 200ms/step - loss: 0.0153 - bounding_box_loss: 8.6777e-05 - class_label_loss: 0.0152 - bounding_box_accuracy: 0.9666 - class_label_accuracy: 0.9930 - val_loss: 1.5893 - val_bounding_box_loss: 0.0049 - val_class_label_loss: 1.5844 - val_bounding_box_accuracy: 0.8280 - val_class_label_accuracy: 0.7613\n",
            "Epoch 143/250\n",
            "58/58 [==============================] - 12s 199ms/step - loss: 0.0207 - bounding_box_loss: 8.3402e-05 - class_label_loss: 0.0206 - bounding_box_accuracy: 0.9731 - class_label_accuracy: 0.9898 - val_loss: 1.6145 - val_bounding_box_loss: 0.0049 - val_class_label_loss: 1.6096 - val_bounding_box_accuracy: 0.8409 - val_class_label_accuracy: 0.7892\n",
            "Epoch 144/250\n",
            "58/58 [==============================] - 12s 200ms/step - loss: 0.0156 - bounding_box_loss: 1.2881e-04 - class_label_loss: 0.0154 - bounding_box_accuracy: 0.9591 - class_label_accuracy: 0.9925 - val_loss: 1.6428 - val_bounding_box_loss: 0.0048 - val_class_label_loss: 1.6379 - val_bounding_box_accuracy: 0.8473 - val_class_label_accuracy: 0.7828\n",
            "Epoch 145/250\n",
            "58/58 [==============================] - 12s 200ms/step - loss: 0.0166 - bounding_box_loss: 1.2600e-04 - class_label_loss: 0.0165 - bounding_box_accuracy: 0.9520 - class_label_accuracy: 0.9919 - val_loss: 1.4944 - val_bounding_box_loss: 0.0048 - val_class_label_loss: 1.4896 - val_bounding_box_accuracy: 0.8323 - val_class_label_accuracy: 0.7763\n",
            "Epoch 146/250\n",
            "58/58 [==============================] - 12s 199ms/step - loss: 0.0145 - bounding_box_loss: 1.0123e-04 - class_label_loss: 0.0144 - bounding_box_accuracy: 0.9601 - class_label_accuracy: 0.9946 - val_loss: 1.5555 - val_bounding_box_loss: 0.0048 - val_class_label_loss: 1.5507 - val_bounding_box_accuracy: 0.8301 - val_class_label_accuracy: 0.7613\n",
            "Epoch 147/250\n",
            "58/58 [==============================] - 12s 200ms/step - loss: 0.0232 - bounding_box_loss: 8.2068e-05 - class_label_loss: 0.0231 - bounding_box_accuracy: 0.9574 - class_label_accuracy: 0.9881 - val_loss: 1.4770 - val_bounding_box_loss: 0.0048 - val_class_label_loss: 1.4722 - val_bounding_box_accuracy: 0.8237 - val_class_label_accuracy: 0.7806\n",
            "Epoch 148/250\n",
            "58/58 [==============================] - 12s 200ms/step - loss: 0.0170 - bounding_box_loss: 7.6271e-05 - class_label_loss: 0.0169 - bounding_box_accuracy: 0.9634 - class_label_accuracy: 0.9919 - val_loss: 1.1565 - val_bounding_box_loss: 0.0047 - val_class_label_loss: 1.1518 - val_bounding_box_accuracy: 0.8301 - val_class_label_accuracy: 0.7828\n",
            "Epoch 149/250\n",
            "58/58 [==============================] - 12s 200ms/step - loss: 0.0174 - bounding_box_loss: 8.1857e-05 - class_label_loss: 0.0173 - bounding_box_accuracy: 0.9677 - class_label_accuracy: 0.9941 - val_loss: 1.5895 - val_bounding_box_loss: 0.0049 - val_class_label_loss: 1.5846 - val_bounding_box_accuracy: 0.8172 - val_class_label_accuracy: 0.7742\n",
            "Epoch 150/250\n",
            "58/58 [==============================] - 12s 200ms/step - loss: 0.0170 - bounding_box_loss: 6.9075e-05 - class_label_loss: 0.0170 - bounding_box_accuracy: 0.9720 - class_label_accuracy: 0.9935 - val_loss: 1.4870 - val_bounding_box_loss: 0.0048 - val_class_label_loss: 1.4822 - val_bounding_box_accuracy: 0.8280 - val_class_label_accuracy: 0.8000\n",
            "Epoch 151/250\n",
            "58/58 [==============================] - 12s 199ms/step - loss: 0.0123 - bounding_box_loss: 6.8032e-05 - class_label_loss: 0.0122 - bounding_box_accuracy: 0.9714 - class_label_accuracy: 0.9925 - val_loss: 1.4902 - val_bounding_box_loss: 0.0048 - val_class_label_loss: 1.4854 - val_bounding_box_accuracy: 0.8258 - val_class_label_accuracy: 0.7505\n",
            "Epoch 152/250\n",
            "58/58 [==============================] - 12s 201ms/step - loss: 0.0157 - bounding_box_loss: 6.9465e-05 - class_label_loss: 0.0156 - bounding_box_accuracy: 0.9779 - class_label_accuracy: 0.9914 - val_loss: 1.7595 - val_bounding_box_loss: 0.0049 - val_class_label_loss: 1.7547 - val_bounding_box_accuracy: 0.8215 - val_class_label_accuracy: 0.7785\n",
            "Epoch 153/250\n",
            "58/58 [==============================] - 12s 200ms/step - loss: 0.0229 - bounding_box_loss: 8.4126e-05 - class_label_loss: 0.0228 - bounding_box_accuracy: 0.9709 - class_label_accuracy: 0.9881 - val_loss: 1.5493 - val_bounding_box_loss: 0.0049 - val_class_label_loss: 1.5444 - val_bounding_box_accuracy: 0.8194 - val_class_label_accuracy: 0.7785\n",
            "Epoch 154/250\n",
            "58/58 [==============================] - 12s 200ms/step - loss: 0.0516 - bounding_box_loss: 8.9415e-05 - class_label_loss: 0.0515 - bounding_box_accuracy: 0.9650 - class_label_accuracy: 0.9790 - val_loss: 1.1119 - val_bounding_box_loss: 0.0047 - val_class_label_loss: 1.1071 - val_bounding_box_accuracy: 0.8344 - val_class_label_accuracy: 0.7441\n",
            "Epoch 155/250\n",
            "58/58 [==============================] - 12s 200ms/step - loss: 0.0401 - bounding_box_loss: 7.0770e-05 - class_label_loss: 0.0401 - bounding_box_accuracy: 0.9741 - class_label_accuracy: 0.9844 - val_loss: 0.9480 - val_bounding_box_loss: 0.0048 - val_class_label_loss: 0.9432 - val_bounding_box_accuracy: 0.8237 - val_class_label_accuracy: 0.7742\n",
            "Epoch 156/250\n",
            "58/58 [==============================] - 12s 200ms/step - loss: 0.0391 - bounding_box_loss: 8.5808e-05 - class_label_loss: 0.0390 - bounding_box_accuracy: 0.9709 - class_label_accuracy: 0.9838 - val_loss: 1.1487 - val_bounding_box_loss: 0.0048 - val_class_label_loss: 1.1439 - val_bounding_box_accuracy: 0.8323 - val_class_label_accuracy: 0.7419\n",
            "Epoch 157/250\n",
            "58/58 [==============================] - 12s 200ms/step - loss: 0.0405 - bounding_box_loss: 6.5450e-05 - class_label_loss: 0.0404 - bounding_box_accuracy: 0.9704 - class_label_accuracy: 0.9811 - val_loss: 1.1049 - val_bounding_box_loss: 0.0048 - val_class_label_loss: 1.1001 - val_bounding_box_accuracy: 0.8280 - val_class_label_accuracy: 0.7957\n",
            "Epoch 158/250\n",
            "58/58 [==============================] - 12s 201ms/step - loss: 0.0294 - bounding_box_loss: 4.7699e-05 - class_label_loss: 0.0294 - bounding_box_accuracy: 0.9795 - class_label_accuracy: 0.9876 - val_loss: 1.3859 - val_bounding_box_loss: 0.0048 - val_class_label_loss: 1.3811 - val_bounding_box_accuracy: 0.8258 - val_class_label_accuracy: 0.7591\n",
            "Epoch 159/250\n",
            "58/58 [==============================] - 12s 199ms/step - loss: 0.0220 - bounding_box_loss: 4.4086e-05 - class_label_loss: 0.0220 - bounding_box_accuracy: 0.9795 - class_label_accuracy: 0.9903 - val_loss: 1.7536 - val_bounding_box_loss: 0.0048 - val_class_label_loss: 1.7488 - val_bounding_box_accuracy: 0.8323 - val_class_label_accuracy: 0.7290\n",
            "Epoch 160/250\n",
            "58/58 [==============================] - 12s 201ms/step - loss: 0.0306 - bounding_box_loss: 4.7296e-05 - class_label_loss: 0.0305 - bounding_box_accuracy: 0.9779 - class_label_accuracy: 0.9871 - val_loss: 1.3069 - val_bounding_box_loss: 0.0047 - val_class_label_loss: 1.3022 - val_bounding_box_accuracy: 0.8323 - val_class_label_accuracy: 0.7720\n",
            "Epoch 161/250\n",
            "58/58 [==============================] - 12s 200ms/step - loss: 0.0157 - bounding_box_loss: 5.9815e-05 - class_label_loss: 0.0156 - bounding_box_accuracy: 0.9693 - class_label_accuracy: 0.9930 - val_loss: 1.6970 - val_bounding_box_loss: 0.0049 - val_class_label_loss: 1.6921 - val_bounding_box_accuracy: 0.8344 - val_class_label_accuracy: 0.7914\n",
            "Epoch 162/250\n",
            "58/58 [==============================] - 12s 200ms/step - loss: 0.0209 - bounding_box_loss: 5.9703e-05 - class_label_loss: 0.0209 - bounding_box_accuracy: 0.9682 - class_label_accuracy: 0.9881 - val_loss: 1.2807 - val_bounding_box_loss: 0.0048 - val_class_label_loss: 1.2760 - val_bounding_box_accuracy: 0.8387 - val_class_label_accuracy: 0.7828\n",
            "Epoch 163/250\n",
            "58/58 [==============================] - 12s 201ms/step - loss: 0.0234 - bounding_box_loss: 5.9439e-05 - class_label_loss: 0.0233 - bounding_box_accuracy: 0.9644 - class_label_accuracy: 0.9892 - val_loss: 1.5507 - val_bounding_box_loss: 0.0047 - val_class_label_loss: 1.5459 - val_bounding_box_accuracy: 0.8194 - val_class_label_accuracy: 0.7763\n",
            "Epoch 164/250\n",
            "58/58 [==============================] - 12s 201ms/step - loss: 0.0260 - bounding_box_loss: 5.6521e-05 - class_label_loss: 0.0259 - bounding_box_accuracy: 0.9774 - class_label_accuracy: 0.9860 - val_loss: 1.4662 - val_bounding_box_loss: 0.0048 - val_class_label_loss: 1.4613 - val_bounding_box_accuracy: 0.8344 - val_class_label_accuracy: 0.7656\n",
            "Epoch 165/250\n",
            "58/58 [==============================] - 12s 200ms/step - loss: 0.0178 - bounding_box_loss: 5.7274e-05 - class_label_loss: 0.0177 - bounding_box_accuracy: 0.9671 - class_label_accuracy: 0.9914 - val_loss: 1.6663 - val_bounding_box_loss: 0.0047 - val_class_label_loss: 1.6615 - val_bounding_box_accuracy: 0.8215 - val_class_label_accuracy: 0.7957\n",
            "Epoch 166/250\n",
            "58/58 [==============================] - 12s 200ms/step - loss: 0.0175 - bounding_box_loss: 5.3269e-05 - class_label_loss: 0.0175 - bounding_box_accuracy: 0.9704 - class_label_accuracy: 0.9919 - val_loss: 1.3984 - val_bounding_box_loss: 0.0047 - val_class_label_loss: 1.3937 - val_bounding_box_accuracy: 0.8237 - val_class_label_accuracy: 0.7978\n",
            "Epoch 167/250\n",
            "58/58 [==============================] - 12s 201ms/step - loss: 0.0263 - bounding_box_loss: 4.1351e-05 - class_label_loss: 0.0262 - bounding_box_accuracy: 0.9741 - class_label_accuracy: 0.9903 - val_loss: 1.5642 - val_bounding_box_loss: 0.0048 - val_class_label_loss: 1.5594 - val_bounding_box_accuracy: 0.8258 - val_class_label_accuracy: 0.7570\n",
            "Epoch 168/250\n",
            "58/58 [==============================] - 12s 201ms/step - loss: 0.0410 - bounding_box_loss: 4.3133e-05 - class_label_loss: 0.0409 - bounding_box_accuracy: 0.9752 - class_label_accuracy: 0.9811 - val_loss: 1.4611 - val_bounding_box_loss: 0.0048 - val_class_label_loss: 1.4563 - val_bounding_box_accuracy: 0.8344 - val_class_label_accuracy: 0.7763\n",
            "Epoch 169/250\n",
            "58/58 [==============================] - 12s 201ms/step - loss: 0.0270 - bounding_box_loss: 4.9030e-05 - class_label_loss: 0.0269 - bounding_box_accuracy: 0.9720 - class_label_accuracy: 0.9871 - val_loss: 1.7216 - val_bounding_box_loss: 0.0047 - val_class_label_loss: 1.7169 - val_bounding_box_accuracy: 0.8129 - val_class_label_accuracy: 0.7591\n",
            "Epoch 170/250\n",
            "58/58 [==============================] - 12s 200ms/step - loss: 0.0323 - bounding_box_loss: 6.2245e-05 - class_label_loss: 0.0323 - bounding_box_accuracy: 0.9731 - class_label_accuracy: 0.9860 - val_loss: 1.4200 - val_bounding_box_loss: 0.0049 - val_class_label_loss: 1.4151 - val_bounding_box_accuracy: 0.8473 - val_class_label_accuracy: 0.7699\n",
            "Epoch 171/250\n",
            "58/58 [==============================] - 11s 198ms/step - loss: 0.0241 - bounding_box_loss: 6.5620e-05 - class_label_loss: 0.0241 - bounding_box_accuracy: 0.9688 - class_label_accuracy: 0.9855 - val_loss: 1.5741 - val_bounding_box_loss: 0.0048 - val_class_label_loss: 1.5693 - val_bounding_box_accuracy: 0.8237 - val_class_label_accuracy: 0.7763\n",
            "Epoch 172/250\n",
            "58/58 [==============================] - 12s 201ms/step - loss: 0.0346 - bounding_box_loss: 7.6984e-05 - class_label_loss: 0.0345 - bounding_box_accuracy: 0.9682 - class_label_accuracy: 0.9811 - val_loss: 1.3486 - val_bounding_box_loss: 0.0048 - val_class_label_loss: 1.3438 - val_bounding_box_accuracy: 0.8237 - val_class_label_accuracy: 0.7527\n",
            "Epoch 173/250\n",
            "58/58 [==============================] - 12s 201ms/step - loss: 0.0415 - bounding_box_loss: 7.1300e-05 - class_label_loss: 0.0415 - bounding_box_accuracy: 0.9731 - class_label_accuracy: 0.9774 - val_loss: 1.1227 - val_bounding_box_loss: 0.0049 - val_class_label_loss: 1.1177 - val_bounding_box_accuracy: 0.8344 - val_class_label_accuracy: 0.7806\n",
            "Epoch 174/250\n",
            "58/58 [==============================] - 12s 200ms/step - loss: 0.0337 - bounding_box_loss: 7.3728e-05 - class_label_loss: 0.0336 - bounding_box_accuracy: 0.9655 - class_label_accuracy: 0.9844 - val_loss: 1.3091 - val_bounding_box_loss: 0.0049 - val_class_label_loss: 1.3042 - val_bounding_box_accuracy: 0.8301 - val_class_label_accuracy: 0.7871\n",
            "Epoch 175/250\n",
            "58/58 [==============================] - 12s 200ms/step - loss: 0.0236 - bounding_box_loss: 7.0038e-05 - class_label_loss: 0.0235 - bounding_box_accuracy: 0.9693 - class_label_accuracy: 0.9876 - val_loss: 1.3167 - val_bounding_box_loss: 0.0047 - val_class_label_loss: 1.3119 - val_bounding_box_accuracy: 0.8215 - val_class_label_accuracy: 0.7763\n",
            "Epoch 176/250\n",
            "58/58 [==============================] - 12s 201ms/step - loss: 0.0325 - bounding_box_loss: 6.7688e-05 - class_label_loss: 0.0325 - bounding_box_accuracy: 0.9698 - class_label_accuracy: 0.9855 - val_loss: 1.3700 - val_bounding_box_loss: 0.0048 - val_class_label_loss: 1.3651 - val_bounding_box_accuracy: 0.8237 - val_class_label_accuracy: 0.7871\n",
            "Epoch 177/250\n",
            "58/58 [==============================] - 12s 201ms/step - loss: 0.0328 - bounding_box_loss: 5.7293e-05 - class_label_loss: 0.0328 - bounding_box_accuracy: 0.9736 - class_label_accuracy: 0.9871 - val_loss: 1.2913 - val_bounding_box_loss: 0.0048 - val_class_label_loss: 1.2865 - val_bounding_box_accuracy: 0.8258 - val_class_label_accuracy: 0.7871\n",
            "Epoch 178/250\n",
            "58/58 [==============================] - 12s 199ms/step - loss: 0.0259 - bounding_box_loss: 5.6185e-05 - class_label_loss: 0.0258 - bounding_box_accuracy: 0.9731 - class_label_accuracy: 0.9887 - val_loss: 1.4178 - val_bounding_box_loss: 0.0047 - val_class_label_loss: 1.4131 - val_bounding_box_accuracy: 0.8301 - val_class_label_accuracy: 0.7871\n",
            "Epoch 179/250\n",
            "58/58 [==============================] - 12s 199ms/step - loss: 0.0321 - bounding_box_loss: 6.1937e-05 - class_label_loss: 0.0320 - bounding_box_accuracy: 0.9747 - class_label_accuracy: 0.9855 - val_loss: 1.4038 - val_bounding_box_loss: 0.0049 - val_class_label_loss: 1.3990 - val_bounding_box_accuracy: 0.8323 - val_class_label_accuracy: 0.7548\n",
            "Epoch 180/250\n",
            "58/58 [==============================] - 12s 201ms/step - loss: 0.0411 - bounding_box_loss: 6.8822e-05 - class_label_loss: 0.0410 - bounding_box_accuracy: 0.9758 - class_label_accuracy: 0.9817 - val_loss: 1.2504 - val_bounding_box_loss: 0.0049 - val_class_label_loss: 1.2456 - val_bounding_box_accuracy: 0.8323 - val_class_label_accuracy: 0.7785\n",
            "Epoch 181/250\n",
            "58/58 [==============================] - 12s 200ms/step - loss: 0.0376 - bounding_box_loss: 7.1379e-05 - class_label_loss: 0.0375 - bounding_box_accuracy: 0.9677 - class_label_accuracy: 0.9849 - val_loss: 0.9739 - val_bounding_box_loss: 0.0048 - val_class_label_loss: 0.9692 - val_bounding_box_accuracy: 0.8366 - val_class_label_accuracy: 0.7613\n",
            "Epoch 182/250\n",
            "58/58 [==============================] - 12s 201ms/step - loss: 0.0326 - bounding_box_loss: 6.9972e-05 - class_label_loss: 0.0325 - bounding_box_accuracy: 0.9752 - class_label_accuracy: 0.9871 - val_loss: 1.3587 - val_bounding_box_loss: 0.0048 - val_class_label_loss: 1.3538 - val_bounding_box_accuracy: 0.8366 - val_class_label_accuracy: 0.7720\n",
            "Epoch 183/250\n",
            "58/58 [==============================] - 12s 200ms/step - loss: 0.0333 - bounding_box_loss: 7.3601e-05 - class_label_loss: 0.0332 - bounding_box_accuracy: 0.9682 - class_label_accuracy: 0.9838 - val_loss: 1.3276 - val_bounding_box_loss: 0.0047 - val_class_label_loss: 1.3229 - val_bounding_box_accuracy: 0.8258 - val_class_label_accuracy: 0.7656\n",
            "Epoch 184/250\n",
            "58/58 [==============================] - 12s 201ms/step - loss: 0.0267 - bounding_box_loss: 6.0176e-05 - class_label_loss: 0.0267 - bounding_box_accuracy: 0.9752 - class_label_accuracy: 0.9876 - val_loss: 1.3760 - val_bounding_box_loss: 0.0048 - val_class_label_loss: 1.3713 - val_bounding_box_accuracy: 0.8237 - val_class_label_accuracy: 0.7699\n",
            "Epoch 185/250\n",
            "58/58 [==============================] - 12s 201ms/step - loss: 0.0249 - bounding_box_loss: 4.6283e-05 - class_label_loss: 0.0249 - bounding_box_accuracy: 0.9774 - class_label_accuracy: 0.9876 - val_loss: 1.5459 - val_bounding_box_loss: 0.0047 - val_class_label_loss: 1.5412 - val_bounding_box_accuracy: 0.8301 - val_class_label_accuracy: 0.7677\n",
            "Epoch 186/250\n",
            "58/58 [==============================] - 12s 201ms/step - loss: 0.0261 - bounding_box_loss: 3.9021e-05 - class_label_loss: 0.0261 - bounding_box_accuracy: 0.9844 - class_label_accuracy: 0.9876 - val_loss: 1.5963 - val_bounding_box_loss: 0.0048 - val_class_label_loss: 1.5915 - val_bounding_box_accuracy: 0.8258 - val_class_label_accuracy: 0.7634\n",
            "Epoch 187/250\n",
            "58/58 [==============================] - 12s 202ms/step - loss: 0.0194 - bounding_box_loss: 4.2102e-05 - class_label_loss: 0.0194 - bounding_box_accuracy: 0.9704 - class_label_accuracy: 0.9925 - val_loss: 1.5237 - val_bounding_box_loss: 0.0047 - val_class_label_loss: 1.5190 - val_bounding_box_accuracy: 0.8495 - val_class_label_accuracy: 0.7677\n",
            "Epoch 188/250\n",
            "58/58 [==============================] - 12s 201ms/step - loss: 0.0174 - bounding_box_loss: 5.6222e-05 - class_label_loss: 0.0174 - bounding_box_accuracy: 0.9720 - class_label_accuracy: 0.9935 - val_loss: 1.3901 - val_bounding_box_loss: 0.0049 - val_class_label_loss: 1.3852 - val_bounding_box_accuracy: 0.8258 - val_class_label_accuracy: 0.7677\n",
            "Epoch 189/250\n",
            "58/58 [==============================] - 12s 201ms/step - loss: 0.0199 - bounding_box_loss: 6.4586e-05 - class_label_loss: 0.0199 - bounding_box_accuracy: 0.9763 - class_label_accuracy: 0.9903 - val_loss: 1.5832 - val_bounding_box_loss: 0.0047 - val_class_label_loss: 1.5784 - val_bounding_box_accuracy: 0.8366 - val_class_label_accuracy: 0.7699\n",
            "Epoch 190/250\n",
            "58/58 [==============================] - 12s 201ms/step - loss: 0.0263 - bounding_box_loss: 7.7587e-05 - class_label_loss: 0.0263 - bounding_box_accuracy: 0.9671 - class_label_accuracy: 0.9881 - val_loss: 1.4919 - val_bounding_box_loss: 0.0048 - val_class_label_loss: 1.4871 - val_bounding_box_accuracy: 0.8323 - val_class_label_accuracy: 0.7505\n",
            "Epoch 191/250\n",
            "58/58 [==============================] - 12s 201ms/step - loss: 0.0194 - bounding_box_loss: 7.5540e-05 - class_label_loss: 0.0193 - bounding_box_accuracy: 0.9682 - class_label_accuracy: 0.9903 - val_loss: 1.5753 - val_bounding_box_loss: 0.0048 - val_class_label_loss: 1.5705 - val_bounding_box_accuracy: 0.8323 - val_class_label_accuracy: 0.7871\n",
            "Epoch 192/250\n",
            "58/58 [==============================] - 12s 201ms/step - loss: 0.0270 - bounding_box_loss: 6.3211e-05 - class_label_loss: 0.0270 - bounding_box_accuracy: 0.9747 - class_label_accuracy: 0.9881 - val_loss: 1.6766 - val_bounding_box_loss: 0.0047 - val_class_label_loss: 1.6719 - val_bounding_box_accuracy: 0.8172 - val_class_label_accuracy: 0.7785\n",
            "Epoch 193/250\n",
            "58/58 [==============================] - 12s 200ms/step - loss: 0.0237 - bounding_box_loss: 5.2035e-05 - class_label_loss: 0.0236 - bounding_box_accuracy: 0.9763 - class_label_accuracy: 0.9876 - val_loss: 1.6655 - val_bounding_box_loss: 0.0047 - val_class_label_loss: 1.6608 - val_bounding_box_accuracy: 0.8258 - val_class_label_accuracy: 0.7677\n",
            "Epoch 194/250\n",
            "58/58 [==============================] - 12s 201ms/step - loss: 0.0233 - bounding_box_loss: 4.9605e-05 - class_label_loss: 0.0233 - bounding_box_accuracy: 0.9698 - class_label_accuracy: 0.9903 - val_loss: 1.5292 - val_bounding_box_loss: 0.0047 - val_class_label_loss: 1.5245 - val_bounding_box_accuracy: 0.8344 - val_class_label_accuracy: 0.7806\n",
            "Epoch 195/250\n",
            "58/58 [==============================] - 12s 200ms/step - loss: 0.0402 - bounding_box_loss: 4.3795e-05 - class_label_loss: 0.0401 - bounding_box_accuracy: 0.9795 - class_label_accuracy: 0.9795 - val_loss: 1.0660 - val_bounding_box_loss: 0.0047 - val_class_label_loss: 1.0613 - val_bounding_box_accuracy: 0.8215 - val_class_label_accuracy: 0.7785\n",
            "Epoch 196/250\n",
            "58/58 [==============================] - 12s 201ms/step - loss: 0.0237 - bounding_box_loss: 4.8884e-05 - class_label_loss: 0.0237 - bounding_box_accuracy: 0.9688 - class_label_accuracy: 0.9898 - val_loss: 1.5616 - val_bounding_box_loss: 0.0048 - val_class_label_loss: 1.5567 - val_bounding_box_accuracy: 0.8387 - val_class_label_accuracy: 0.7656\n",
            "Epoch 197/250\n",
            "58/58 [==============================] - 12s 200ms/step - loss: 0.0323 - bounding_box_loss: 4.0156e-05 - class_label_loss: 0.0323 - bounding_box_accuracy: 0.9795 - class_label_accuracy: 0.9855 - val_loss: 1.3341 - val_bounding_box_loss: 0.0048 - val_class_label_loss: 1.3293 - val_bounding_box_accuracy: 0.8258 - val_class_label_accuracy: 0.7527\n",
            "Epoch 198/250\n",
            "58/58 [==============================] - 12s 200ms/step - loss: 0.0252 - bounding_box_loss: 4.4308e-05 - class_label_loss: 0.0252 - bounding_box_accuracy: 0.9736 - class_label_accuracy: 0.9887 - val_loss: 1.1319 - val_bounding_box_loss: 0.0048 - val_class_label_loss: 1.1271 - val_bounding_box_accuracy: 0.8430 - val_class_label_accuracy: 0.7828\n",
            "Epoch 199/250\n",
            "58/58 [==============================] - 12s 201ms/step - loss: 0.0310 - bounding_box_loss: 4.6464e-05 - class_label_loss: 0.0309 - bounding_box_accuracy: 0.9806 - class_label_accuracy: 0.9838 - val_loss: 1.5349 - val_bounding_box_loss: 0.0048 - val_class_label_loss: 1.5302 - val_bounding_box_accuracy: 0.8301 - val_class_label_accuracy: 0.7699\n",
            "Epoch 200/250\n",
            "58/58 [==============================] - 12s 200ms/step - loss: 0.0255 - bounding_box_loss: 5.1983e-05 - class_label_loss: 0.0255 - bounding_box_accuracy: 0.9790 - class_label_accuracy: 0.9876 - val_loss: 1.6372 - val_bounding_box_loss: 0.0049 - val_class_label_loss: 1.6323 - val_bounding_box_accuracy: 0.8344 - val_class_label_accuracy: 0.7613\n",
            "Epoch 201/250\n",
            "58/58 [==============================] - 12s 200ms/step - loss: 0.0234 - bounding_box_loss: 6.0732e-05 - class_label_loss: 0.0233 - bounding_box_accuracy: 0.9698 - class_label_accuracy: 0.9887 - val_loss: 1.5490 - val_bounding_box_loss: 0.0048 - val_class_label_loss: 1.5442 - val_bounding_box_accuracy: 0.8366 - val_class_label_accuracy: 0.7656\n",
            "Epoch 202/250\n",
            "58/58 [==============================] - 12s 201ms/step - loss: 0.0222 - bounding_box_loss: 6.2623e-05 - class_label_loss: 0.0221 - bounding_box_accuracy: 0.9714 - class_label_accuracy: 0.9892 - val_loss: 1.6871 - val_bounding_box_loss: 0.0047 - val_class_label_loss: 1.6823 - val_bounding_box_accuracy: 0.8344 - val_class_label_accuracy: 0.7699\n",
            "Epoch 203/250\n",
            "58/58 [==============================] - 12s 200ms/step - loss: 0.0146 - bounding_box_loss: 6.1168e-05 - class_label_loss: 0.0145 - bounding_box_accuracy: 0.9779 - class_label_accuracy: 0.9925 - val_loss: 1.6715 - val_bounding_box_loss: 0.0048 - val_class_label_loss: 1.6667 - val_bounding_box_accuracy: 0.8258 - val_class_label_accuracy: 0.7785\n",
            "Epoch 204/250\n",
            "58/58 [==============================] - 12s 202ms/step - loss: 0.0213 - bounding_box_loss: 5.9464e-05 - class_label_loss: 0.0213 - bounding_box_accuracy: 0.9736 - class_label_accuracy: 0.9903 - val_loss: 1.8389 - val_bounding_box_loss: 0.0047 - val_class_label_loss: 1.8341 - val_bounding_box_accuracy: 0.8215 - val_class_label_accuracy: 0.7785\n",
            "Epoch 205/250\n",
            "58/58 [==============================] - 12s 200ms/step - loss: 0.0281 - bounding_box_loss: 4.9806e-05 - class_label_loss: 0.0281 - bounding_box_accuracy: 0.9774 - class_label_accuracy: 0.9844 - val_loss: 1.1861 - val_bounding_box_loss: 0.0047 - val_class_label_loss: 1.1813 - val_bounding_box_accuracy: 0.8194 - val_class_label_accuracy: 0.7785\n",
            "Epoch 206/250\n",
            "58/58 [==============================] - 12s 201ms/step - loss: 0.0226 - bounding_box_loss: 6.2945e-05 - class_label_loss: 0.0226 - bounding_box_accuracy: 0.9682 - class_label_accuracy: 0.9855 - val_loss: 1.5198 - val_bounding_box_loss: 0.0049 - val_class_label_loss: 1.5149 - val_bounding_box_accuracy: 0.8323 - val_class_label_accuracy: 0.7935\n",
            "Epoch 207/250\n",
            "58/58 [==============================] - 12s 200ms/step - loss: 0.0238 - bounding_box_loss: 6.3614e-05 - class_label_loss: 0.0237 - bounding_box_accuracy: 0.9741 - class_label_accuracy: 0.9887 - val_loss: 1.4660 - val_bounding_box_loss: 0.0048 - val_class_label_loss: 1.4612 - val_bounding_box_accuracy: 0.8452 - val_class_label_accuracy: 0.7613\n",
            "Epoch 208/250\n",
            "58/58 [==============================] - 12s 202ms/step - loss: 0.0322 - bounding_box_loss: 6.0917e-05 - class_label_loss: 0.0321 - bounding_box_accuracy: 0.9758 - class_label_accuracy: 0.9833 - val_loss: 1.3841 - val_bounding_box_loss: 0.0048 - val_class_label_loss: 1.3794 - val_bounding_box_accuracy: 0.8215 - val_class_label_accuracy: 0.7785\n",
            "Epoch 209/250\n",
            "58/58 [==============================] - 12s 201ms/step - loss: 0.0254 - bounding_box_loss: 6.1265e-05 - class_label_loss: 0.0254 - bounding_box_accuracy: 0.9731 - class_label_accuracy: 0.9855 - val_loss: 1.3277 - val_bounding_box_loss: 0.0048 - val_class_label_loss: 1.3229 - val_bounding_box_accuracy: 0.8344 - val_class_label_accuracy: 0.7957\n",
            "Epoch 210/250\n",
            "58/58 [==============================] - 12s 200ms/step - loss: 0.0237 - bounding_box_loss: 8.1619e-05 - class_label_loss: 0.0236 - bounding_box_accuracy: 0.9661 - class_label_accuracy: 0.9865 - val_loss: 1.2864 - val_bounding_box_loss: 0.0047 - val_class_label_loss: 1.2817 - val_bounding_box_accuracy: 0.8237 - val_class_label_accuracy: 0.8129\n",
            "Epoch 211/250\n",
            "58/58 [==============================] - 12s 201ms/step - loss: 0.0339 - bounding_box_loss: 7.9086e-05 - class_label_loss: 0.0338 - bounding_box_accuracy: 0.9741 - class_label_accuracy: 0.9838 - val_loss: 1.2974 - val_bounding_box_loss: 0.0048 - val_class_label_loss: 1.2926 - val_bounding_box_accuracy: 0.8215 - val_class_label_accuracy: 0.7699\n",
            "Epoch 212/250\n",
            "58/58 [==============================] - 12s 202ms/step - loss: 0.0232 - bounding_box_loss: 6.1062e-05 - class_label_loss: 0.0232 - bounding_box_accuracy: 0.9655 - class_label_accuracy: 0.9903 - val_loss: 1.6384 - val_bounding_box_loss: 0.0047 - val_class_label_loss: 1.6336 - val_bounding_box_accuracy: 0.8409 - val_class_label_accuracy: 0.7720\n",
            "Epoch 213/250\n",
            "58/58 [==============================] - 12s 200ms/step - loss: 0.0393 - bounding_box_loss: 4.7119e-05 - class_label_loss: 0.0392 - bounding_box_accuracy: 0.9768 - class_label_accuracy: 0.9790 - val_loss: 1.3459 - val_bounding_box_loss: 0.0049 - val_class_label_loss: 1.3410 - val_bounding_box_accuracy: 0.8387 - val_class_label_accuracy: 0.7720\n",
            "Epoch 214/250\n",
            "58/58 [==============================] - 12s 201ms/step - loss: 0.0253 - bounding_box_loss: 4.2388e-05 - class_label_loss: 0.0253 - bounding_box_accuracy: 0.9849 - class_label_accuracy: 0.9887 - val_loss: 1.7899 - val_bounding_box_loss: 0.0047 - val_class_label_loss: 1.7853 - val_bounding_box_accuracy: 0.8301 - val_class_label_accuracy: 0.7677\n",
            "Epoch 215/250\n",
            "58/58 [==============================] - 12s 201ms/step - loss: 0.0387 - bounding_box_loss: 3.7446e-05 - class_label_loss: 0.0387 - bounding_box_accuracy: 0.9731 - class_label_accuracy: 0.9795 - val_loss: 1.2285 - val_bounding_box_loss: 0.0048 - val_class_label_loss: 1.2237 - val_bounding_box_accuracy: 0.8366 - val_class_label_accuracy: 0.7720\n",
            "Epoch 216/250\n",
            "58/58 [==============================] - 12s 200ms/step - loss: 0.0301 - bounding_box_loss: 3.3616e-05 - class_label_loss: 0.0300 - bounding_box_accuracy: 0.9795 - class_label_accuracy: 0.9855 - val_loss: 1.6306 - val_bounding_box_loss: 0.0047 - val_class_label_loss: 1.6258 - val_bounding_box_accuracy: 0.8237 - val_class_label_accuracy: 0.7849\n",
            "Epoch 217/250\n",
            "58/58 [==============================] - 12s 201ms/step - loss: 0.0181 - bounding_box_loss: 3.6238e-05 - class_label_loss: 0.0181 - bounding_box_accuracy: 0.9741 - class_label_accuracy: 0.9914 - val_loss: 1.4485 - val_bounding_box_loss: 0.0047 - val_class_label_loss: 1.4437 - val_bounding_box_accuracy: 0.8387 - val_class_label_accuracy: 0.7720\n",
            "Epoch 218/250\n",
            "58/58 [==============================] - 12s 200ms/step - loss: 0.0269 - bounding_box_loss: 2.7757e-05 - class_label_loss: 0.0269 - bounding_box_accuracy: 0.9822 - class_label_accuracy: 0.9881 - val_loss: 1.5110 - val_bounding_box_loss: 0.0048 - val_class_label_loss: 1.5063 - val_bounding_box_accuracy: 0.8366 - val_class_label_accuracy: 0.7892\n",
            "Epoch 219/250\n",
            "58/58 [==============================] - 12s 202ms/step - loss: 0.0173 - bounding_box_loss: 2.9655e-05 - class_label_loss: 0.0173 - bounding_box_accuracy: 0.9817 - class_label_accuracy: 0.9908 - val_loss: 1.8524 - val_bounding_box_loss: 0.0047 - val_class_label_loss: 1.8477 - val_bounding_box_accuracy: 0.8237 - val_class_label_accuracy: 0.7763\n",
            "Epoch 220/250\n",
            "58/58 [==============================] - 12s 201ms/step - loss: 0.0147 - bounding_box_loss: 2.9041e-05 - class_label_loss: 0.0146 - bounding_box_accuracy: 0.9768 - class_label_accuracy: 0.9925 - val_loss: 2.0122 - val_bounding_box_loss: 0.0048 - val_class_label_loss: 2.0075 - val_bounding_box_accuracy: 0.8323 - val_class_label_accuracy: 0.7978\n",
            "Epoch 221/250\n",
            "58/58 [==============================] - 12s 199ms/step - loss: 0.0236 - bounding_box_loss: 3.0136e-05 - class_label_loss: 0.0236 - bounding_box_accuracy: 0.9876 - class_label_accuracy: 0.9860 - val_loss: 1.4374 - val_bounding_box_loss: 0.0047 - val_class_label_loss: 1.4327 - val_bounding_box_accuracy: 0.8366 - val_class_label_accuracy: 0.7699\n",
            "Epoch 222/250\n",
            "58/58 [==============================] - 12s 201ms/step - loss: 0.0213 - bounding_box_loss: 3.5838e-05 - class_label_loss: 0.0213 - bounding_box_accuracy: 0.9838 - class_label_accuracy: 0.9898 - val_loss: 1.5897 - val_bounding_box_loss: 0.0049 - val_class_label_loss: 1.5848 - val_bounding_box_accuracy: 0.8409 - val_class_label_accuracy: 0.7957\n",
            "Epoch 223/250\n",
            "58/58 [==============================] - 12s 200ms/step - loss: 0.0200 - bounding_box_loss: 3.6446e-05 - class_label_loss: 0.0200 - bounding_box_accuracy: 0.9763 - class_label_accuracy: 0.9903 - val_loss: 1.4783 - val_bounding_box_loss: 0.0048 - val_class_label_loss: 1.4736 - val_bounding_box_accuracy: 0.8409 - val_class_label_accuracy: 0.7699\n",
            "Epoch 224/250\n",
            "58/58 [==============================] - 12s 200ms/step - loss: 0.0231 - bounding_box_loss: 5.2987e-05 - class_label_loss: 0.0230 - bounding_box_accuracy: 0.9671 - class_label_accuracy: 0.9898 - val_loss: 2.1497 - val_bounding_box_loss: 0.0048 - val_class_label_loss: 2.1448 - val_bounding_box_accuracy: 0.8366 - val_class_label_accuracy: 0.7548\n",
            "Epoch 225/250\n",
            "58/58 [==============================] - 12s 200ms/step - loss: 0.0151 - bounding_box_loss: 6.4836e-05 - class_label_loss: 0.0150 - bounding_box_accuracy: 0.9688 - class_label_accuracy: 0.9919 - val_loss: 1.7613 - val_bounding_box_loss: 0.0047 - val_class_label_loss: 1.7566 - val_bounding_box_accuracy: 0.8237 - val_class_label_accuracy: 0.7806\n",
            "Epoch 226/250\n",
            "58/58 [==============================] - 12s 201ms/step - loss: 0.0135 - bounding_box_loss: 6.3710e-05 - class_label_loss: 0.0135 - bounding_box_accuracy: 0.9644 - class_label_accuracy: 0.9919 - val_loss: 2.1452 - val_bounding_box_loss: 0.0048 - val_class_label_loss: 2.1405 - val_bounding_box_accuracy: 0.8495 - val_class_label_accuracy: 0.7677\n",
            "Epoch 227/250\n",
            "58/58 [==============================] - 12s 200ms/step - loss: 0.0125 - bounding_box_loss: 7.2813e-05 - class_label_loss: 0.0124 - bounding_box_accuracy: 0.9709 - class_label_accuracy: 0.9930 - val_loss: 1.7263 - val_bounding_box_loss: 0.0048 - val_class_label_loss: 1.7215 - val_bounding_box_accuracy: 0.8323 - val_class_label_accuracy: 0.7871\n",
            "Epoch 228/250\n",
            "58/58 [==============================] - 12s 201ms/step - loss: 0.0209 - bounding_box_loss: 7.8037e-05 - class_label_loss: 0.0209 - bounding_box_accuracy: 0.9661 - class_label_accuracy: 0.9898 - val_loss: 2.0758 - val_bounding_box_loss: 0.0047 - val_class_label_loss: 2.0711 - val_bounding_box_accuracy: 0.8172 - val_class_label_accuracy: 0.7742\n",
            "Epoch 229/250\n",
            "58/58 [==============================] - 12s 201ms/step - loss: 0.0250 - bounding_box_loss: 5.9146e-05 - class_label_loss: 0.0249 - bounding_box_accuracy: 0.9790 - class_label_accuracy: 0.9871 - val_loss: 1.8033 - val_bounding_box_loss: 0.0047 - val_class_label_loss: 1.7986 - val_bounding_box_accuracy: 0.8301 - val_class_label_accuracy: 0.7785\n",
            "Epoch 230/250\n",
            "58/58 [==============================] - 12s 202ms/step - loss: 0.0273 - bounding_box_loss: 6.6885e-05 - class_label_loss: 0.0272 - bounding_box_accuracy: 0.9677 - class_label_accuracy: 0.9865 - val_loss: 2.0547 - val_bounding_box_loss: 0.0047 - val_class_label_loss: 2.0499 - val_bounding_box_accuracy: 0.8323 - val_class_label_accuracy: 0.8022\n",
            "Epoch 231/250\n",
            "58/58 [==============================] - 12s 202ms/step - loss: 0.0188 - bounding_box_loss: 6.2740e-05 - class_label_loss: 0.0188 - bounding_box_accuracy: 0.9709 - class_label_accuracy: 0.9892 - val_loss: 1.7212 - val_bounding_box_loss: 0.0047 - val_class_label_loss: 1.7164 - val_bounding_box_accuracy: 0.8323 - val_class_label_accuracy: 0.7505\n",
            "Epoch 232/250\n",
            "58/58 [==============================] - 12s 202ms/step - loss: 0.0250 - bounding_box_loss: 5.8594e-05 - class_label_loss: 0.0249 - bounding_box_accuracy: 0.9741 - class_label_accuracy: 0.9898 - val_loss: 1.8254 - val_bounding_box_loss: 0.0049 - val_class_label_loss: 1.8204 - val_bounding_box_accuracy: 0.8366 - val_class_label_accuracy: 0.7505\n",
            "Epoch 233/250\n",
            "58/58 [==============================] - 12s 200ms/step - loss: 0.0370 - bounding_box_loss: 6.0146e-05 - class_label_loss: 0.0369 - bounding_box_accuracy: 0.9725 - class_label_accuracy: 0.9844 - val_loss: 1.7670 - val_bounding_box_loss: 0.0049 - val_class_label_loss: 1.7621 - val_bounding_box_accuracy: 0.8344 - val_class_label_accuracy: 0.7892\n",
            "Epoch 234/250\n",
            "58/58 [==============================] - 12s 201ms/step - loss: 0.0408 - bounding_box_loss: 6.5029e-05 - class_label_loss: 0.0407 - bounding_box_accuracy: 0.9655 - class_label_accuracy: 0.9795 - val_loss: 1.6536 - val_bounding_box_loss: 0.0048 - val_class_label_loss: 1.6488 - val_bounding_box_accuracy: 0.8452 - val_class_label_accuracy: 0.7763\n",
            "Epoch 235/250\n",
            "58/58 [==============================] - 12s 200ms/step - loss: 0.0355 - bounding_box_loss: 6.1988e-05 - class_label_loss: 0.0354 - bounding_box_accuracy: 0.9752 - class_label_accuracy: 0.9833 - val_loss: 1.4679 - val_bounding_box_loss: 0.0048 - val_class_label_loss: 1.4631 - val_bounding_box_accuracy: 0.8366 - val_class_label_accuracy: 0.7849\n",
            "Epoch 236/250\n",
            "58/58 [==============================] - 12s 201ms/step - loss: 0.0296 - bounding_box_loss: 4.4742e-05 - class_label_loss: 0.0295 - bounding_box_accuracy: 0.9801 - class_label_accuracy: 0.9844 - val_loss: 1.3517 - val_bounding_box_loss: 0.0046 - val_class_label_loss: 1.3471 - val_bounding_box_accuracy: 0.8409 - val_class_label_accuracy: 0.7806\n",
            "Epoch 237/250\n",
            "58/58 [==============================] - 12s 200ms/step - loss: 0.0211 - bounding_box_loss: 3.1158e-05 - class_label_loss: 0.0210 - bounding_box_accuracy: 0.9817 - class_label_accuracy: 0.9865 - val_loss: 1.6509 - val_bounding_box_loss: 0.0047 - val_class_label_loss: 1.6462 - val_bounding_box_accuracy: 0.8323 - val_class_label_accuracy: 0.7742\n",
            "Epoch 238/250\n",
            "58/58 [==============================] - 12s 200ms/step - loss: 0.0203 - bounding_box_loss: 3.7844e-05 - class_label_loss: 0.0202 - bounding_box_accuracy: 0.9758 - class_label_accuracy: 0.9881 - val_loss: 1.9142 - val_bounding_box_loss: 0.0047 - val_class_label_loss: 1.9094 - val_bounding_box_accuracy: 0.8323 - val_class_label_accuracy: 0.7656\n",
            "Epoch 239/250\n",
            "58/58 [==============================] - 12s 199ms/step - loss: 0.0354 - bounding_box_loss: 3.7688e-05 - class_label_loss: 0.0353 - bounding_box_accuracy: 0.9714 - class_label_accuracy: 0.9817 - val_loss: 1.6477 - val_bounding_box_loss: 0.0047 - val_class_label_loss: 1.6430 - val_bounding_box_accuracy: 0.8258 - val_class_label_accuracy: 0.7871\n",
            "Epoch 240/250\n",
            "58/58 [==============================] - 12s 200ms/step - loss: 0.0401 - bounding_box_loss: 3.2143e-05 - class_label_loss: 0.0401 - bounding_box_accuracy: 0.9833 - class_label_accuracy: 0.9790 - val_loss: 1.2924 - val_bounding_box_loss: 0.0047 - val_class_label_loss: 1.2877 - val_bounding_box_accuracy: 0.8301 - val_class_label_accuracy: 0.7591\n",
            "Epoch 241/250\n",
            "58/58 [==============================] - 12s 201ms/step - loss: 0.0239 - bounding_box_loss: 2.8823e-05 - class_label_loss: 0.0239 - bounding_box_accuracy: 0.9801 - class_label_accuracy: 0.9860 - val_loss: 1.7422 - val_bounding_box_loss: 0.0048 - val_class_label_loss: 1.7375 - val_bounding_box_accuracy: 0.8323 - val_class_label_accuracy: 0.7699\n",
            "Epoch 242/250\n",
            "58/58 [==============================] - 12s 202ms/step - loss: 0.0315 - bounding_box_loss: 3.6756e-05 - class_label_loss: 0.0314 - bounding_box_accuracy: 0.9811 - class_label_accuracy: 0.9849 - val_loss: 1.5504 - val_bounding_box_loss: 0.0047 - val_class_label_loss: 1.5457 - val_bounding_box_accuracy: 0.8301 - val_class_label_accuracy: 0.7656\n",
            "Epoch 243/250\n",
            "58/58 [==============================] - 12s 200ms/step - loss: 0.0234 - bounding_box_loss: 3.6866e-05 - class_label_loss: 0.0234 - bounding_box_accuracy: 0.9871 - class_label_accuracy: 0.9887 - val_loss: 1.7558 - val_bounding_box_loss: 0.0047 - val_class_label_loss: 1.7511 - val_bounding_box_accuracy: 0.8258 - val_class_label_accuracy: 0.7699\n",
            "Epoch 244/250\n",
            "58/58 [==============================] - 12s 201ms/step - loss: 0.0261 - bounding_box_loss: 2.8493e-05 - class_label_loss: 0.0261 - bounding_box_accuracy: 0.9811 - class_label_accuracy: 0.9876 - val_loss: 1.7017 - val_bounding_box_loss: 0.0047 - val_class_label_loss: 1.6970 - val_bounding_box_accuracy: 0.8280 - val_class_label_accuracy: 0.7699\n",
            "Epoch 245/250\n",
            "58/58 [==============================] - 12s 201ms/step - loss: 0.0303 - bounding_box_loss: 2.9796e-05 - class_label_loss: 0.0303 - bounding_box_accuracy: 0.9741 - class_label_accuracy: 0.9892 - val_loss: 1.5618 - val_bounding_box_loss: 0.0047 - val_class_label_loss: 1.5571 - val_bounding_box_accuracy: 0.8237 - val_class_label_accuracy: 0.7613\n",
            "Epoch 246/250\n",
            "58/58 [==============================] - 12s 201ms/step - loss: 0.0264 - bounding_box_loss: 3.7042e-05 - class_label_loss: 0.0263 - bounding_box_accuracy: 0.9828 - class_label_accuracy: 0.9865 - val_loss: 1.5320 - val_bounding_box_loss: 0.0048 - val_class_label_loss: 1.5272 - val_bounding_box_accuracy: 0.8344 - val_class_label_accuracy: 0.7570\n",
            "Epoch 247/250\n",
            "58/58 [==============================] - 12s 202ms/step - loss: 0.0210 - bounding_box_loss: 4.1020e-05 - class_label_loss: 0.0209 - bounding_box_accuracy: 0.9747 - class_label_accuracy: 0.9898 - val_loss: 1.5234 - val_bounding_box_loss: 0.0048 - val_class_label_loss: 1.5187 - val_bounding_box_accuracy: 0.8409 - val_class_label_accuracy: 0.7763\n",
            "Epoch 248/250\n",
            "58/58 [==============================] - 12s 202ms/step - loss: 0.0305 - bounding_box_loss: 4.1650e-05 - class_label_loss: 0.0305 - bounding_box_accuracy: 0.9784 - class_label_accuracy: 0.9855 - val_loss: 1.5118 - val_bounding_box_loss: 0.0047 - val_class_label_loss: 1.5071 - val_bounding_box_accuracy: 0.8301 - val_class_label_accuracy: 0.7720\n",
            "Epoch 249/250\n",
            "58/58 [==============================] - 12s 201ms/step - loss: 0.0232 - bounding_box_loss: 5.0317e-05 - class_label_loss: 0.0231 - bounding_box_accuracy: 0.9774 - class_label_accuracy: 0.9876 - val_loss: 1.7593 - val_bounding_box_loss: 0.0047 - val_class_label_loss: 1.7546 - val_bounding_box_accuracy: 0.8301 - val_class_label_accuracy: 0.7785\n",
            "Epoch 250/250\n",
            "58/58 [==============================] - 12s 201ms/step - loss: 0.0230 - bounding_box_loss: 4.9614e-05 - class_label_loss: 0.0230 - bounding_box_accuracy: 0.9758 - class_label_accuracy: 0.9903 - val_loss: 1.6396 - val_bounding_box_loss: 0.0048 - val_class_label_loss: 1.6348 - val_bounding_box_accuracy: 0.8280 - val_class_label_accuracy: 0.7742\n",
            "[INFO] saving object detector model...\n",
            "[INFO] saving training history in history_vgg19 file\n",
            "[INFO] saving label binarizer...\n"
          ],
          "name": "stdout"
        }
      ]
    },
    {
      "cell_type": "code",
      "metadata": {
        "id": "9zbDRUZmJxye"
      },
      "source": [
        "############################################### training close >>> accuracy and loss calculation ###########\n",
        "\n",
        "\n",
        "'''naking a plot for visualizing total loss, class label loss , bounding box regression loss\n",
        "'''\n",
        "# plot the total loss, label loss, and bounding box loss\n",
        "lossNames = [\"loss\", \"class_label_loss\", \"bounding_box_loss\"]\n",
        "N = np.arange(0, config.NUM_EPOCHS)\n",
        "plt.style.use(\"ggplot\")\n",
        "(fig, ax) = plt.subplots(3, 1, figsize=(13, 13))\n",
        "# loop over the loss names\n",
        "for (i, l) in enumerate(lossNames):\n",
        "\t# plot the loss for both the training and validation data\n",
        "\ttitle = \"Loss for {}\".format(l) if l != \"loss\" else \"Total loss\"\n",
        "\tax[i].set_title(title)\n",
        "\tax[i].set_xlabel(\"Epoch #\")\n",
        "\tax[i].set_ylabel(\"Loss\")\n",
        "\tax[i].plot(N, H.history[l], label=l)\n",
        "\tax[i].plot(N, H.history[\"val_\" + l], label=\"val_\" + l)\n",
        "\tax[i].legend()\n",
        "# save the losses figure and create a new figure for the accuracies\n",
        "plt.tight_layout()\n",
        "plotPath = os.path.sep.join([config.PLOTS_PATH, \"losses.png\"])\n",
        "plt.savefig(plotPath)\n",
        "plt.close()\n"
      ],
      "execution_count": null,
      "outputs": []
    },
    {
      "cell_type": "code",
      "metadata": {
        "colab": {
          "base_uri": "https://localhost:8080/",
          "height": 299
        },
        "id": "i2ljJ_KiJyc3",
        "outputId": "bdf3ab33-8e29-4565-f7b1-6c1654a4a205"
      },
      "source": [
        "############\t\t\tAccuracy \t\t\t#############33\n",
        "\n",
        "#The final step is to plot our training and validation accuracy:\n",
        "\n",
        "# create a new figure for the accuracies\n",
        "plt.style.use(\"ggplot\")\n",
        "plt.figure()\n",
        "plt.plot(N, H.history[\"class_label_accuracy\"],\n",
        "\tlabel=\"class_label_train_acc\")\n",
        "plt.plot(N, H.history[\"val_class_label_accuracy\"],\n",
        "\tlabel=\"val_class_label_acc\")\n",
        "plt.title(\"Class Label Accuracy\")\n",
        "plt.xlabel(\"Epoch #\")\n",
        "plt.ylabel(\"Accuracy\")\n",
        "plt.legend(loc=\"lower left\")\n",
        "# save the accuracies plot\n",
        "plotPath = os.path.sep.join([config.PLOTS_PATH, \"accs.png\"])\n",
        "plt.savefig(plotPath)\n"
      ],
      "execution_count": null,
      "outputs": [
        {
          "output_type": "display_data",
          "data": {
            "image/png": "[encoded data removed]",
            "text/plain": [
              "<Figure size 432x288 with 1 Axes>"
            ]
          },
          "metadata": {
            "tags": []
          }
        }
      ]
    },
    {
      "cell_type": "code",
      "metadata": {
        "colab": {
          "base_uri": "https://localhost:8080/",
          "height": 75
        },
        "id": "2GLlSk1UU1Je",
        "outputId": "0a5df8e9-b233-48f1-ce7f-f4b01bfca2d6"
      },
      "source": [
        "import IPython\n",
        "display(IPython.display.Audio(url=\"https://ssl.gstatic.com/dictionary/static/sounds/20180430/complete--_us_1.mp3\", autoplay=True))"
      ],
      "execution_count": 16,
      "outputs": [
        {
          "output_type": "display_data",
          "data": {
            "text/html": [
              "\n",
              "                <audio controls=\"controls\" autoplay=\"autoplay\">\n",
              "                    <source src=\"https://ssl.gstatic.com/dictionary/static/sounds/20180430/complete--_us_1.mp3\" type=\"audio/mpeg\" />\n",
              "                    Your browser does not support the audio element.\n",
              "                </audio>\n",
              "              "
            ],
            "text/plain": [
              "<IPython.lib.display.Audio object>"
            ]
          },
          "metadata": {
            "tags": []
          }
        }
      ]
    },
    {
      "cell_type": "markdown",
      "metadata": {
        "id": "5aOJfm4RN-3G"
      },
      "source": [
        "#accuracy"
      ]
    },
    {
      "cell_type": "markdown",
      "metadata": {
        "id": "fAmC6rqwOmOP"
      },
      "source": [
        "## Load model again from the Cloud"
      ]
    },
    {
      "cell_type": "code",
      "metadata": {
        "colab": {
          "base_uri": "https://localhost:8080/"
        },
        "id": "S9XgZiTCOvfP",
        "outputId": "9100569d-1a42-474c-ea9e-f0dfd403656b"
      },
      "source": [
        "from google.colab import drive\n",
        "drive.mount('/content/drive')"
      ],
      "execution_count": 1,
      "outputs": [
        {
          "output_type": "stream",
          "text": [
            "Mounted at /content/drive\n"
          ],
          "name": "stdout"
        }
      ]
    },
    {
      "cell_type": "markdown",
      "metadata": {
        "id": "yZAUsIx4OFGp"
      },
      "source": [
        "# for **25** epochs"
      ]
    },
    {
      "cell_type": "code",
      "metadata": {
        "id": "SP8CxQ4aOKVH"
      },
      "source": [
        "from tensorflow import keras\n",
        "model = keras.models.load_model('//content/drive/MyDrive/vgg19_approach/25_epoch_results/detector_vgg19.h5')\n"
      ],
      "execution_count": 17,
      "outputs": []
    },
    {
      "cell_type": "code",
      "metadata": {
        "colab": {
          "base_uri": "https://localhost:8080/"
        },
        "id": "bBnV7qcnOuk2",
        "outputId": "49b7eec1-02bb-4db5-cf6c-f26433e815d3"
      },
      "source": [
        "loss,bbx_loss, class_label_loss, bbx_accu, class_label_accu = model.evaluate(test_images, testTargets, verbose = 1)\n",
        "print(\"Accuracy for class label on test set is : {}\". format(class_label_accu))\n",
        "print(\"Accuracy for bounding_box on test set is :{}\".format(bbx_accu))"
      ],
      "execution_count": 18,
      "outputs": [
        {
          "output_type": "stream",
          "text": [
            "15/15 [==============================] - 41s 411ms/step - loss: 0.7311 - bounding_box_loss: 0.0050 - class_label_loss: 0.7261 - bounding_box_accuracy: 0.8194 - class_label_accuracy: 0.7914\n",
            "Accuracy for class label on test set is : 0.7913978695869446\n",
            "Accuracy for bounding_box on test set is :0.8193548321723938\n"
          ],
          "name": "stdout"
        }
      ]
    },
    {
      "cell_type": "markdown",
      "metadata": {
        "id": "2r4uQfdrPFXv"
      },
      "source": [
        "#for 100 epochs"
      ]
    },
    {
      "cell_type": "code",
      "metadata": {
        "id": "9acGI_-NRD3r"
      },
      "source": [
        "model = keras.models.load_model('/content/drive/MyDrive/vgg19_approach/100_epoch_result/detector_vgg19.h5')"
      ],
      "execution_count": 19,
      "outputs": []
    },
    {
      "cell_type": "code",
      "metadata": {
        "colab": {
          "base_uri": "https://localhost:8080/"
        },
        "id": "i8GhVgfQRLu5",
        "outputId": "c91bce47-41c4-4289-80f8-22cf21150cec"
      },
      "source": [
        "loss,bbx_loss, class_label_loss, bbx_accu, class_label_accu = model.evaluate(test_images, testTargets, verbose = 1)\n",
        "print(\"Accuracy for class label on test set is : {}\". format(class_label_accu))\n",
        "print(\"Accuracy for bounding_box on test set is :{}\".format(bbx_accu))"
      ],
      "execution_count": 20,
      "outputs": [
        {
          "output_type": "stream",
          "text": [
            "15/15 [==============================] - 3s 150ms/step - loss: 1.0324 - bounding_box_loss: 0.0050 - class_label_loss: 1.0274 - bounding_box_accuracy: 0.8194 - class_label_accuracy: 0.7613\n",
            "Accuracy for class label on test set is : 0.7612903118133545\n",
            "Accuracy for bounding_box on test set is :0.8193548321723938\n"
          ],
          "name": "stdout"
        }
      ]
    },
    {
      "cell_type": "markdown",
      "metadata": {
        "id": "1o2bypTnRPMa"
      },
      "source": [
        "# for 250 epochs"
      ]
    },
    {
      "cell_type": "code",
      "metadata": {
        "id": "h9oAOrZ_RVpp"
      },
      "source": [
        "model = keras.models.load_model('/content/drive/MyDrive/vgg19_approach/250_epoches_result/detector_vgg19.h5')"
      ],
      "execution_count": 21,
      "outputs": []
    },
    {
      "cell_type": "code",
      "metadata": {
        "colab": {
          "base_uri": "https://localhost:8080/"
        },
        "id": "xWGuGjnTRnp3",
        "outputId": "86a0e689-265f-451e-91d3-87493039d533"
      },
      "source": [
        "loss,bbx_loss, class_label_loss, bbx_accu, class_label_accu = model.evaluate(test_images, testTargets, verbose = 1)\n",
        "print(\"Accuracy for class label on test set is : {}\". format(class_label_accu))\n",
        "print(\"Accuracy for bounding_box on test set is :{}\".format(bbx_accu))"
      ],
      "execution_count": 22,
      "outputs": [
        {
          "output_type": "stream",
          "text": [
            "15/15 [==============================] - 3s 150ms/step - loss: 1.6396 - bounding_box_loss: 0.0048 - class_label_loss: 1.6348 - bounding_box_accuracy: 0.8280 - class_label_accuracy: 0.7742\n",
            "Accuracy for class label on test set is : 0.774193525314331\n",
            "Accuracy for bounding_box on test set is :0.8279569745063782\n"
          ],
          "name": "stdout"
        }
      ]
    }
  ]
}