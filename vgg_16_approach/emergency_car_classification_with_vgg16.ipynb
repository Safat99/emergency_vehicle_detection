{
  "nbformat": 4,
  "nbformat_minor": 0,
  "metadata": {
    "colab": {
      "name": "emergency_car_classification_with_vgg16.ipynb",
      "provenance": [],
      "collapsed_sections": [],
      "authorship_tag": "ABX9TyMiY7ShHRV5JqTWYsLpyu/o",
      "include_colab_link": true
    },
    "kernelspec": {
      "name": "python3",
      "display_name": "Python 3"
    },
    "language_info": {
      "name": "python"
    },
    "accelerator": "GPU"
  },
  "cells": [
    {
      "cell_type": "markdown",
      "metadata": {
        "id": "view-in-github",
        "colab_type": "text"
      },
      "source": [
        "<a href=\"https://colab.research.google.com/github/Safat99/emergency_vehicle_detection/blob/main/vgg_16_approach/emergency_car_classification_with_vgg16.ipynb\" target=\"_parent\"><img src=\"https://colab.research.google.com/assets/colab-badge.svg\" alt=\"Open In Colab\"/></a>"
      ]
    },
    {
      "cell_type": "code",
      "metadata": {
        "colab": {
          "base_uri": "https://localhost:8080/"
        },
        "id": "6defJDa9SqBN",
        "outputId": "4acc9aae-e4ae-4b87-e1ff-92f7feab38f1"
      },
      "source": [
        "from google.colab import drive\n",
        "drive.mount('/content/drive', force_remount=True)"
      ],
      "execution_count": null,
      "outputs": [
        {
          "output_type": "stream",
          "text": [
            "Mounted at /content/drive\n"
          ],
          "name": "stdout"
        }
      ]
    },
    {
      "cell_type": "code",
      "metadata": {
        "colab": {
          "base_uri": "https://localhost:8080/",
          "height": 35
        },
        "id": "ShEhUe3VyWbk",
        "outputId": "23398ef8-1596-411e-9ecd-db6a90d012b3"
      },
      "source": [
        "pwd"
      ],
      "execution_count": null,
      "outputs": [
        {
          "output_type": "execute_result",
          "data": {
            "application/vnd.google.colaboratory.intrinsic+json": {
              "type": "string"
            },
            "text/plain": [
              "'/content'"
            ]
          },
          "metadata": {
            "tags": []
          },
          "execution_count": 2
        }
      ]
    },
    {
      "cell_type": "code",
      "metadata": {
        "colab": {
          "base_uri": "https://localhost:8080/"
        },
        "id": "u7ntXryzS_oI",
        "outputId": "d6738bfc-5f18-43e7-a630-8afd1c2b0b1b"
      },
      "source": [
        "%cd drive/MyDrive/vgg_16_approach/"
      ],
      "execution_count": null,
      "outputs": [
        {
          "output_type": "stream",
          "text": [
            "/content/drive/MyDrive/vgg_16_approach\n"
          ],
          "name": "stdout"
        }
      ]
    },
    {
      "cell_type": "code",
      "metadata": {
        "colab": {
          "base_uri": "https://localhost:8080/",
          "height": 35
        },
        "id": "XVWuV7E0Srfv",
        "outputId": "f6292e18-51d9-4817-9d79-e22f980e4df4"
      },
      "source": [
        "import os\n",
        "os.getcwd()"
      ],
      "execution_count": null,
      "outputs": [
        {
          "output_type": "execute_result",
          "data": {
            "application/vnd.google.colaboratory.intrinsic+json": {
              "type": "string"
            },
            "text/plain": [
              "'/content/drive/My Drive/vgg_16_approach'"
            ]
          },
          "metadata": {
            "tags": []
          },
          "execution_count": 4
        }
      ]
    },
    {
      "cell_type": "code",
      "metadata": {
        "colab": {
          "base_uri": "https://localhost:8080/"
        },
        "id": "rTD5ZOYITN5u",
        "outputId": "af46c9a6-cff5-437d-c630-cf90d6368084"
      },
      "source": [
        "mkdir outputs"
      ],
      "execution_count": null,
      "outputs": [
        {
          "output_type": "stream",
          "text": [
            "mkdir: cannot create directory ‘outputs’: File exists\n"
          ],
          "name": "stdout"
        }
      ]
    },
    {
      "cell_type": "code",
      "metadata": {
        "colab": {
          "base_uri": "https://localhost:8080/"
        },
        "id": "gszkih2mTdse",
        "outputId": "aeec4ad3-17f0-4d41-c48d-6164d546b411"
      },
      "source": [
        "#!python3 train.py"
      ],
      "execution_count": null,
      "outputs": [
        {
          "output_type": "stream",
          "text": [
            "python3: can't open file 'train.py': [Errno 2] No such file or directory\n"
          ],
          "name": "stdout"
        }
      ]
    },
    {
      "cell_type": "code",
      "metadata": {
        "id": "Q5rlIEOjTgcF"
      },
      "source": [
        "from sklearn.utils import shuffle\n",
        "import config\n",
        "from tensorflow.keras.applications import VGG16\n",
        "from tensorflow.keras.layers import Flatten\n",
        "from tensorflow.keras.layers import Dropout\n",
        "from tensorflow.keras.layers import Dense\n",
        "from tensorflow.keras.layers import Input\n",
        "from tensorflow.keras.models import Model\n",
        "from tensorflow.keras.optimizers import Adam\n",
        "from tensorflow.keras.preprocessing.image import img_to_array\n",
        "from tensorflow.keras.preprocessing.image import load_img\n",
        "from sklearn.model_selection import train_test_split\n",
        "from sklearn.preprocessing import LabelBinarizer\n",
        "from tensorflow.keras.utils import to_categorical\n",
        "import matplotlib.pyplot as plt\n",
        "from imutils import paths\n",
        "import numpy as np\n",
        "import os\n",
        "import pandas as pd\n",
        "import pickle\n"
      ],
      "execution_count": null,
      "outputs": []
    },
    {
      "cell_type": "code",
      "metadata": {
        "colab": {
          "base_uri": "https://localhost:8080/"
        },
        "id": "F4fjNJNBWf7l",
        "outputId": "86a26fe9-14e9-442b-f67d-a6edb463fbb6"
      },
      "source": [
        "print(\"[INFO} loading dataset...\")\n",
        "\n",
        "\n",
        "data = [] #images\n",
        "labels = []\n",
        "bboxes = []\n",
        "filenames = []\n",
        "imagePaths = []\n"
      ],
      "execution_count": null,
      "outputs": [
        {
          "output_type": "stream",
          "text": [
            "[INFO} loading dataset...\n"
          ],
          "name": "stdout"
        }
      ]
    },
    {
      "cell_type": "code",
      "metadata": {
        "id": "87L-jysctwE8"
      },
      "source": [
        "config.NUM_EPOCHS = 100"
      ],
      "execution_count": null,
      "outputs": []
    },
    {
      "cell_type": "code",
      "metadata": {
        "id": "0dhryg3qWgX9"
      },
      "source": [
        "cars = pd.read_csv(os.path.join(config.base_path,'images', 'train_test_vgg_format.csv'))"
      ],
      "execution_count": null,
      "outputs": []
    },
    {
      "cell_type": "code",
      "metadata": {
        "id": "LBtzWAARX8oh"
      },
      "source": [
        "for i in cars.IMAGE:\n",
        "\timage = load_img(os.path.join(config.images_path, str(i) + \".jpg\"))\n",
        "\timage = img_to_array(image)\n",
        "\t\n",
        "\tdata.append(image)\n",
        "\timagePaths.append(os.path.join(config.images_path, str(i) + \".jpg\"))\n",
        "\n",
        "tmp = []\n",
        "\n",
        "for i in range(len(cars)):\n",
        "\tfor j in range(1,5):\n",
        "\t\ttmp.append(cars.iloc[i,j])\n",
        "\n",
        "\tlabels.append(cars.CLASS[i])\n",
        "\tbboxes.append(tmp)\n",
        "\ttmp = []\n",
        "\n"
      ],
      "execution_count": null,
      "outputs": []
    },
    {
      "cell_type": "code",
      "metadata": {
        "id": "FcrCw1XJX_7F"
      },
      "source": [
        "# convert the data and labels to NumPy arrays, scaling the input\n",
        "# pixel intensities from the range [0, 255] to [0, 1]\n",
        "data = np.array(data, dtype=\"float32\") / 255.0\n",
        "labels = np.array(labels)\n",
        "bboxes = np.array(bboxes, dtype='float32')\n",
        "imagePaths = np.array(imagePaths)\n",
        "\n",
        "lb = LabelBinarizer()\n",
        "labels = lb.fit_transform(labels)\n",
        "\n",
        "if len(lb.classes_) == 2:\n",
        "\tlabels = to_categorical(labels)"
      ],
      "execution_count": null,
      "outputs": []
    },
    {
      "cell_type": "code",
      "metadata": {
        "colab": {
          "base_uri": "https://localhost:8080/"
        },
        "id": "qR516fw2YSaS",
        "outputId": "6f2a02aa-02b2-4151-bd4f-e049bf397290"
      },
      "source": [
        "# partition the data into training and testing splits using 90% of\n",
        "# the data for training and the remaining 10% for testing\n",
        "train_images,test_images,trainLabels,testLabels,trainBboxes, testBboxes, trainPaths, testPaths = train_test_split(data, labels, bboxes, imagePaths, test_size=0.20,\n",
        "\trandom_state=42, shuffle = True)\n",
        "\n",
        "# write the testing filenames to disk so that we can use then\n",
        "# when evaluating/testing our bounding box regressor\n",
        "print(\"[INFO] saving testing filenames...\")\n",
        "f = open(config.test_path, \"w\")\n",
        "f.write(\"\\n\".join('testPaths'))\n",
        "f.close()"
      ],
      "execution_count": null,
      "outputs": [
        {
          "output_type": "stream",
          "text": [
            "[INFO] saving testing filenames...\n"
          ],
          "name": "stdout"
        }
      ]
    },
    {
      "cell_type": "markdown",
      "metadata": {
        "id": "hadzuZ32YS2l"
      },
      "source": [
        "#############################\t\t\tDL starts\t\t\t###########################################\n",
        "##########start the model>>> this may have to be changed if not satisfactory result ###############"
      ]
    },
    {
      "cell_type": "code",
      "metadata": {
        "id": "PQa-aU5LYnhS"
      },
      "source": [
        "vgg = VGG16(weights=\"imagenet\", include_top=False, input_tensor=Input(shape=(224, 224, 3)))\n",
        "\n",
        "# freeze all VGG layers so they will *not* be updated during the\n",
        "# training process\n",
        "vgg.trainable = False\n",
        "\n",
        "# flatten the max-pooling output of VGG\n",
        "flatten = vgg.output\n",
        "flatten = Flatten()(flatten)\n",
        "\n",
        "# construct a fully-connected layer header to output the predicted\n",
        "# bounding box coordinates\n",
        "bboxHead = Dense(128, activation=\"relu\")(flatten)\n",
        "bboxHead = Dense(64, activation=\"relu\")(bboxHead)\n",
        "bboxHead = Dense(32, activation=\"relu\")(bboxHead)\n",
        "bboxHead = Dense(4, activation=\"sigmoid\",\n",
        "\tname=\"bounding_box\")(bboxHead)\n",
        "# construct a second fully-connected layer head, this one to predict\n",
        "# the class label\n",
        "softmaxHead = Dense(512, activation=\"relu\")(flatten)\n",
        "softmaxHead = Dropout(0.5)(softmaxHead)\n",
        "softmaxHead = Dense(512, activation=\"relu\")(softmaxHead)\n",
        "softmaxHead = Dropout(0.5)(softmaxHead)\n",
        "softmaxHead = Dense(len(lb.classes_), activation=\"softmax\",\n",
        "\tname=\"class_label\")(softmaxHead)\n",
        "# put together our model which accept an input image and then output\n",
        "# bounding box coordinates and a class label"
      ],
      "execution_count": null,
      "outputs": []
    },
    {
      "cell_type": "code",
      "metadata": {
        "id": "kYgMizdDYvoM"
      },
      "source": [
        "model = Model(\n",
        "\tinputs=vgg.input,\n",
        "\toutputs=(bboxHead, softmaxHead))\n",
        "\n"
      ],
      "execution_count": null,
      "outputs": []
    },
    {
      "cell_type": "code",
      "metadata": {
        "colab": {
          "base_uri": "https://localhost:8080/"
        },
        "id": "d2e7QYhyY6DF",
        "outputId": "ad3d4d91-eaaf-4f2a-bcc6-76c502431703"
      },
      "source": [
        "# define a dictionary to set the loss methods -- categorical\n",
        "# cross-entropy for the class label head and mean absolute error\n",
        "# for the bounding box head\n",
        "losses = {\n",
        "\t\"class_label\": \"categorical_crossentropy\",\n",
        "\t\"bounding_box\": \"mean_squared_error\",\n",
        "}\n",
        "# define a dictionary that specifies the weights per loss (both the\n",
        "# class label and bounding box outputs will receive equal weight)\n",
        "lossWeights = {\n",
        "\t\"class_label\": 1.0,\n",
        "\t\"bounding_box\": 1.0\n",
        "}\n",
        "# initialize the optimizer, compile the model, and show the model\n",
        "# summary\n",
        "opt = Adam(lr=config.INIT_LR)\n",
        "model.compile(loss=losses, optimizer=opt, metrics=[\"accuracy\"], loss_weights=lossWeights)\n",
        "print(model.summary())\n",
        "\n",
        "# construct a dictionary for our target training outputs\n",
        "trainTargets = {\n",
        "\t\"class_label\": trainLabels,\n",
        "\t\"bounding_box\": trainBboxes\n",
        "}\n",
        "# construct a second dictionary, this one for our target testing\n",
        "# outputs\n",
        "testTargets = {\n",
        "\t\"class_label\": testLabels,\n",
        "\t\"bounding_box\": testBboxes\n",
        "}\n"
      ],
      "execution_count": null,
      "outputs": [
        {
          "output_type": "stream",
          "text": [
            "Model: \"model_2\"\n",
            "__________________________________________________________________________________________________\n",
            "Layer (type)                    Output Shape         Param #     Connected to                     \n",
            "==================================================================================================\n",
            "input_2 (InputLayer)            [(None, 224, 224, 3) 0                                            \n",
            "__________________________________________________________________________________________________\n",
            "block1_conv1 (Conv2D)           (None, 224, 224, 64) 1792        input_2[0][0]                    \n",
            "__________________________________________________________________________________________________\n",
            "block1_conv2 (Conv2D)           (None, 224, 224, 64) 36928       block1_conv1[0][0]               \n",
            "__________________________________________________________________________________________________\n",
            "block1_pool (MaxPooling2D)      (None, 112, 112, 64) 0           block1_conv2[0][0]               \n",
            "__________________________________________________________________________________________________\n",
            "block2_conv1 (Conv2D)           (None, 112, 112, 128 73856       block1_pool[0][0]                \n",
            "__________________________________________________________________________________________________\n",
            "block2_conv2 (Conv2D)           (None, 112, 112, 128 147584      block2_conv1[0][0]               \n",
            "__________________________________________________________________________________________________\n",
            "block2_pool (MaxPooling2D)      (None, 56, 56, 128)  0           block2_conv2[0][0]               \n",
            "__________________________________________________________________________________________________\n",
            "block3_conv1 (Conv2D)           (None, 56, 56, 256)  295168      block2_pool[0][0]                \n",
            "__________________________________________________________________________________________________\n",
            "block3_conv2 (Conv2D)           (None, 56, 56, 256)  590080      block3_conv1[0][0]               \n",
            "__________________________________________________________________________________________________\n",
            "block3_conv3 (Conv2D)           (None, 56, 56, 256)  590080      block3_conv2[0][0]               \n",
            "__________________________________________________________________________________________________\n",
            "block3_pool (MaxPooling2D)      (None, 28, 28, 256)  0           block3_conv3[0][0]               \n",
            "__________________________________________________________________________________________________\n",
            "block4_conv1 (Conv2D)           (None, 28, 28, 512)  1180160     block3_pool[0][0]                \n",
            "__________________________________________________________________________________________________\n",
            "block4_conv2 (Conv2D)           (None, 28, 28, 512)  2359808     block4_conv1[0][0]               \n",
            "__________________________________________________________________________________________________\n",
            "block4_conv3 (Conv2D)           (None, 28, 28, 512)  2359808     block4_conv2[0][0]               \n",
            "__________________________________________________________________________________________________\n",
            "block4_pool (MaxPooling2D)      (None, 14, 14, 512)  0           block4_conv3[0][0]               \n",
            "__________________________________________________________________________________________________\n",
            "block5_conv1 (Conv2D)           (None, 14, 14, 512)  2359808     block4_pool[0][0]                \n",
            "__________________________________________________________________________________________________\n",
            "block5_conv2 (Conv2D)           (None, 14, 14, 512)  2359808     block5_conv1[0][0]               \n",
            "__________________________________________________________________________________________________\n",
            "block5_conv3 (Conv2D)           (None, 14, 14, 512)  2359808     block5_conv2[0][0]               \n",
            "__________________________________________________________________________________________________\n",
            "block5_pool (MaxPooling2D)      (None, 7, 7, 512)    0           block5_conv3[0][0]               \n",
            "__________________________________________________________________________________________________\n",
            "flatten_1 (Flatten)             (None, 25088)        0           block5_pool[0][0]                \n",
            "__________________________________________________________________________________________________\n",
            "dense_8 (Dense)                 (None, 512)          12845568    flatten_1[0][0]                  \n",
            "__________________________________________________________________________________________________\n",
            "dense_5 (Dense)                 (None, 128)          3211392     flatten_1[0][0]                  \n",
            "__________________________________________________________________________________________________\n",
            "dropout_2 (Dropout)             (None, 512)          0           dense_8[0][0]                    \n",
            "__________________________________________________________________________________________________\n",
            "dense_6 (Dense)                 (None, 64)           8256        dense_5[0][0]                    \n",
            "__________________________________________________________________________________________________\n",
            "dense_9 (Dense)                 (None, 512)          262656      dropout_2[0][0]                  \n",
            "__________________________________________________________________________________________________\n",
            "dense_7 (Dense)                 (None, 32)           2080        dense_6[0][0]                    \n",
            "__________________________________________________________________________________________________\n",
            "dropout_3 (Dropout)             (None, 512)          0           dense_9[0][0]                    \n",
            "__________________________________________________________________________________________________\n",
            "bounding_box (Dense)            (None, 4)            132         dense_7[0][0]                    \n",
            "__________________________________________________________________________________________________\n",
            "class_label (Dense)             (None, 2)            1026        dropout_3[0][0]                  \n",
            "==================================================================================================\n",
            "Total params: 31,045,798\n",
            "Trainable params: 16,331,110\n",
            "Non-trainable params: 14,714,688\n",
            "__________________________________________________________________________________________________\n",
            "None\n"
          ],
          "name": "stdout"
        },
        {
          "output_type": "stream",
          "text": [
            "/usr/local/lib/python3.7/dist-packages/tensorflow/python/keras/optimizer_v2/optimizer_v2.py:375: UserWarning: The `lr` argument is deprecated, use `learning_rate` instead.\n",
            "  \"The `lr` argument is deprecated, use `learning_rate` instead.\")\n"
          ],
          "name": "stderr"
        }
      ]
    },
    {
      "cell_type": "code",
      "metadata": {
        "colab": {
          "base_uri": "https://localhost:8080/"
        },
        "id": "xVzs350fjv5U",
        "outputId": "c049e708-d8c2-4802-a7cc-b0a1b87501f0"
      },
      "source": [
        "model.summary()"
      ],
      "execution_count": null,
      "outputs": [
        {
          "output_type": "stream",
          "text": [
            "Model: \"model_2\"\n",
            "__________________________________________________________________________________________________\n",
            "Layer (type)                    Output Shape         Param #     Connected to                     \n",
            "==================================================================================================\n",
            "input_2 (InputLayer)            [(None, 224, 224, 3) 0                                            \n",
            "__________________________________________________________________________________________________\n",
            "block1_conv1 (Conv2D)           (None, 224, 224, 64) 1792        input_2[0][0]                    \n",
            "__________________________________________________________________________________________________\n",
            "block1_conv2 (Conv2D)           (None, 224, 224, 64) 36928       block1_conv1[0][0]               \n",
            "__________________________________________________________________________________________________\n",
            "block1_pool (MaxPooling2D)      (None, 112, 112, 64) 0           block1_conv2[0][0]               \n",
            "__________________________________________________________________________________________________\n",
            "block2_conv1 (Conv2D)           (None, 112, 112, 128 73856       block1_pool[0][0]                \n",
            "__________________________________________________________________________________________________\n",
            "block2_conv2 (Conv2D)           (None, 112, 112, 128 147584      block2_conv1[0][0]               \n",
            "__________________________________________________________________________________________________\n",
            "block2_pool (MaxPooling2D)      (None, 56, 56, 128)  0           block2_conv2[0][0]               \n",
            "__________________________________________________________________________________________________\n",
            "block3_conv1 (Conv2D)           (None, 56, 56, 256)  295168      block2_pool[0][0]                \n",
            "__________________________________________________________________________________________________\n",
            "block3_conv2 (Conv2D)           (None, 56, 56, 256)  590080      block3_conv1[0][0]               \n",
            "__________________________________________________________________________________________________\n",
            "block3_conv3 (Conv2D)           (None, 56, 56, 256)  590080      block3_conv2[0][0]               \n",
            "__________________________________________________________________________________________________\n",
            "block3_pool (MaxPooling2D)      (None, 28, 28, 256)  0           block3_conv3[0][0]               \n",
            "__________________________________________________________________________________________________\n",
            "block4_conv1 (Conv2D)           (None, 28, 28, 512)  1180160     block3_pool[0][0]                \n",
            "__________________________________________________________________________________________________\n",
            "block4_conv2 (Conv2D)           (None, 28, 28, 512)  2359808     block4_conv1[0][0]               \n",
            "__________________________________________________________________________________________________\n",
            "block4_conv3 (Conv2D)           (None, 28, 28, 512)  2359808     block4_conv2[0][0]               \n",
            "__________________________________________________________________________________________________\n",
            "block4_pool (MaxPooling2D)      (None, 14, 14, 512)  0           block4_conv3[0][0]               \n",
            "__________________________________________________________________________________________________\n",
            "block5_conv1 (Conv2D)           (None, 14, 14, 512)  2359808     block4_pool[0][0]                \n",
            "__________________________________________________________________________________________________\n",
            "block5_conv2 (Conv2D)           (None, 14, 14, 512)  2359808     block5_conv1[0][0]               \n",
            "__________________________________________________________________________________________________\n",
            "block5_conv3 (Conv2D)           (None, 14, 14, 512)  2359808     block5_conv2[0][0]               \n",
            "__________________________________________________________________________________________________\n",
            "block5_pool (MaxPooling2D)      (None, 7, 7, 512)    0           block5_conv3[0][0]               \n",
            "__________________________________________________________________________________________________\n",
            "flatten_1 (Flatten)             (None, 25088)        0           block5_pool[0][0]                \n",
            "__________________________________________________________________________________________________\n",
            "dense_8 (Dense)                 (None, 512)          12845568    flatten_1[0][0]                  \n",
            "__________________________________________________________________________________________________\n",
            "dense_5 (Dense)                 (None, 128)          3211392     flatten_1[0][0]                  \n",
            "__________________________________________________________________________________________________\n",
            "dropout_2 (Dropout)             (None, 512)          0           dense_8[0][0]                    \n",
            "__________________________________________________________________________________________________\n",
            "dense_6 (Dense)                 (None, 64)           8256        dense_5[0][0]                    \n",
            "__________________________________________________________________________________________________\n",
            "dense_9 (Dense)                 (None, 512)          262656      dropout_2[0][0]                  \n",
            "__________________________________________________________________________________________________\n",
            "dense_7 (Dense)                 (None, 32)           2080        dense_6[0][0]                    \n",
            "__________________________________________________________________________________________________\n",
            "dropout_3 (Dropout)             (None, 512)          0           dense_9[0][0]                    \n",
            "__________________________________________________________________________________________________\n",
            "bounding_box (Dense)            (None, 4)            132         dense_7[0][0]                    \n",
            "__________________________________________________________________________________________________\n",
            "class_label (Dense)             (None, 2)            1026        dropout_3[0][0]                  \n",
            "==================================================================================================\n",
            "Total params: 31,045,798\n",
            "Trainable params: 16,331,110\n",
            "Non-trainable params: 14,714,688\n",
            "__________________________________________________________________________________________________\n"
          ],
          "name": "stdout"
        }
      ]
    },
    {
      "cell_type": "code",
      "metadata": {
        "colab": {
          "base_uri": "https://localhost:8080/"
        },
        "id": "PTP4Uqclti0O",
        "outputId": "265dce6d-f140-4136-86a2-3ae0f8f7ed56"
      },
      "source": [
        "config.NUM_EPOCHS"
      ],
      "execution_count": null,
      "outputs": [
        {
          "output_type": "execute_result",
          "data": {
            "text/plain": [
              "100"
            ]
          },
          "metadata": {
            "tags": []
          },
          "execution_count": 29
        }
      ]
    },
    {
      "cell_type": "code",
      "metadata": {
        "colab": {
          "base_uri": "https://localhost:8080/",
          "height": 75
        },
        "id": "EzoaW_rWiTSh",
        "outputId": "3fa5f671-8fab-44cf-d8af-0ca34f6e2e2b"
      },
      "source": [
        "import IPython\n",
        "display(IPython.display.Audio(url=\"https://ssl.gstatic.com/dictionary/static/sounds/20180430/complete--_us_1.mp3\", autoplay=True))"
      ],
      "execution_count": null,
      "outputs": [
        {
          "output_type": "display_data",
          "data": {
            "text/html": [
              "\n",
              "                <audio controls=\"controls\" autoplay=\"autoplay\">\n",
              "                    <source src=\"https://ssl.gstatic.com/dictionary/static/sounds/20180430/complete--_us_1.mp3\" type=\"audio/mpeg\" />\n",
              "                    Your browser does not support the audio element.\n",
              "                </audio>\n",
              "              "
            ],
            "text/plain": [
              "<IPython.lib.display.Audio object>"
            ]
          },
          "metadata": {
            "tags": []
          }
        }
      ]
    },
    {
      "cell_type": "code",
      "metadata": {
        "colab": {
          "base_uri": "https://localhost:8080/"
        },
        "id": "6QNyks7PY6ZI",
        "outputId": "555cc454-44ff-457f-839b-8aeaa8b37f7f"
      },
      "source": [
        "print(\"[INFO] training model...\")\n",
        "H = model.fit(\n",
        "\ttrain_images, trainTargets,\n",
        "\tvalidation_data=(test_images, testTargets),\n",
        "\tbatch_size=config.BATCH_SIZE,\n",
        "\tepochs=config.NUM_EPOCHS,\n",
        "\tverbose=1)\n",
        "# serialize the model to disk\n",
        "print(\"[INFO] saving object detector model...\")\n",
        "model.save(config.model_path, save_format=\"h5\")\n",
        "\n",
        "### latelty added for the training history\n",
        "print('[INFO] saving training history in history_vgg16 file')\n",
        "f = open('training_history_vgg16.pckl' , 'wb')\n",
        "pickle.dump(H.history, f)\n",
        "f.close()\n",
        "\n",
        "\n",
        "\n",
        "# serialize the label binarizer to disk\n",
        "print(\"[INFO] saving label binarizer...\")\n",
        "f = open(config.lb_PATH, \"wb\")\n",
        "f.write(pickle.dumps(lb))\n",
        "f.close()\n"
      ],
      "execution_count": null,
      "outputs": [
        {
          "output_type": "stream",
          "text": [
            "[INFO] training model...\n",
            "Epoch 1/100\n",
            "58/58 [==============================] - 52s 262ms/step - loss: 0.7172 - bounding_box_loss: 0.0128 - class_label_loss: 0.7045 - bounding_box_accuracy: 0.5717 - class_label_accuracy: 0.6805 - val_loss: 0.4478 - val_bounding_box_loss: 0.0067 - val_class_label_loss: 0.4411 - val_bounding_box_accuracy: 0.7656 - val_class_label_accuracy: 0.7806\n",
            "Epoch 2/100\n",
            "58/58 [==============================] - 10s 180ms/step - loss: 0.4808 - bounding_box_loss: 0.0042 - class_label_loss: 0.4765 - bounding_box_accuracy: 0.7802 - class_label_accuracy: 0.7775 - val_loss: 0.4380 - val_bounding_box_loss: 0.0056 - val_class_label_loss: 0.4324 - val_bounding_box_accuracy: 0.7656 - val_class_label_accuracy: 0.7677\n",
            "Epoch 3/100\n",
            "58/58 [==============================] - 10s 175ms/step - loss: 0.4096 - bounding_box_loss: 0.0028 - class_label_loss: 0.4067 - bounding_box_accuracy: 0.7942 - class_label_accuracy: 0.8077 - val_loss: 0.4082 - val_bounding_box_loss: 0.0053 - val_class_label_loss: 0.4029 - val_bounding_box_accuracy: 0.7914 - val_class_label_accuracy: 0.7785\n",
            "Epoch 4/100\n",
            "58/58 [==============================] - 10s 172ms/step - loss: 0.3674 - bounding_box_loss: 0.0019 - class_label_loss: 0.3654 - bounding_box_accuracy: 0.8103 - class_label_accuracy: 0.8324 - val_loss: 0.4126 - val_bounding_box_loss: 0.0052 - val_class_label_loss: 0.4074 - val_bounding_box_accuracy: 0.8043 - val_class_label_accuracy: 0.7828\n",
            "Epoch 5/100\n",
            "58/58 [==============================] - 10s 171ms/step - loss: 0.3361 - bounding_box_loss: 0.0015 - class_label_loss: 0.3346 - bounding_box_accuracy: 0.8173 - class_label_accuracy: 0.8362 - val_loss: 0.3985 - val_bounding_box_loss: 0.0050 - val_class_label_loss: 0.3935 - val_bounding_box_accuracy: 0.8108 - val_class_label_accuracy: 0.8000\n",
            "Epoch 6/100\n",
            "58/58 [==============================] - 10s 171ms/step - loss: 0.3061 - bounding_box_loss: 0.0011 - class_label_loss: 0.3050 - bounding_box_accuracy: 0.8335 - class_label_accuracy: 0.8572 - val_loss: 0.4086 - val_bounding_box_loss: 0.0049 - val_class_label_loss: 0.4037 - val_bounding_box_accuracy: 0.8108 - val_class_label_accuracy: 0.8151\n",
            "Epoch 7/100\n",
            "58/58 [==============================] - 10s 173ms/step - loss: 0.2725 - bounding_box_loss: 8.3326e-04 - class_label_loss: 0.2717 - bounding_box_accuracy: 0.8518 - class_label_accuracy: 0.8755 - val_loss: 0.4095 - val_bounding_box_loss: 0.0049 - val_class_label_loss: 0.4047 - val_bounding_box_accuracy: 0.8022 - val_class_label_accuracy: 0.8258\n",
            "Epoch 8/100\n",
            "58/58 [==============================] - 10s 174ms/step - loss: 0.2528 - bounding_box_loss: 6.7791e-04 - class_label_loss: 0.2522 - bounding_box_accuracy: 0.8615 - class_label_accuracy: 0.8831 - val_loss: 0.4109 - val_bounding_box_loss: 0.0049 - val_class_label_loss: 0.4059 - val_bounding_box_accuracy: 0.8108 - val_class_label_accuracy: 0.8065\n",
            "Epoch 9/100\n",
            "58/58 [==============================] - 10s 175ms/step - loss: 0.2089 - bounding_box_loss: 5.4356e-04 - class_label_loss: 0.2083 - bounding_box_accuracy: 0.8728 - class_label_accuracy: 0.9159 - val_loss: 0.4254 - val_bounding_box_loss: 0.0049 - val_class_label_loss: 0.4204 - val_bounding_box_accuracy: 0.8323 - val_class_label_accuracy: 0.8194\n",
            "Epoch 10/100\n",
            "58/58 [==============================] - 10s 177ms/step - loss: 0.1805 - bounding_box_loss: 4.6238e-04 - class_label_loss: 0.1800 - bounding_box_accuracy: 0.8804 - class_label_accuracy: 0.9230 - val_loss: 0.4806 - val_bounding_box_loss: 0.0049 - val_class_label_loss: 0.4758 - val_bounding_box_accuracy: 0.8323 - val_class_label_accuracy: 0.7892\n",
            "Epoch 11/100\n",
            "58/58 [==============================] - 10s 176ms/step - loss: 0.1648 - bounding_box_loss: 4.0029e-04 - class_label_loss: 0.1644 - bounding_box_accuracy: 0.8815 - class_label_accuracy: 0.9300 - val_loss: 0.4602 - val_bounding_box_loss: 0.0049 - val_class_label_loss: 0.4553 - val_bounding_box_accuracy: 0.8301 - val_class_label_accuracy: 0.8129\n",
            "Epoch 12/100\n",
            "58/58 [==============================] - 10s 176ms/step - loss: 0.1317 - bounding_box_loss: 3.4631e-04 - class_label_loss: 0.1313 - bounding_box_accuracy: 0.8895 - class_label_accuracy: 0.9488 - val_loss: 0.5241 - val_bounding_box_loss: 0.0050 - val_class_label_loss: 0.5190 - val_bounding_box_accuracy: 0.8323 - val_class_label_accuracy: 0.8065\n",
            "Epoch 13/100\n",
            "58/58 [==============================] - 10s 176ms/step - loss: 0.1101 - bounding_box_loss: 3.2712e-04 - class_label_loss: 0.1098 - bounding_box_accuracy: 0.8939 - class_label_accuracy: 0.9650 - val_loss: 0.5012 - val_bounding_box_loss: 0.0050 - val_class_label_loss: 0.4963 - val_bounding_box_accuracy: 0.8323 - val_class_label_accuracy: 0.8108\n",
            "Epoch 14/100\n",
            "58/58 [==============================] - 10s 175ms/step - loss: 0.1010 - bounding_box_loss: 3.1512e-04 - class_label_loss: 0.1007 - bounding_box_accuracy: 0.8998 - class_label_accuracy: 0.9623 - val_loss: 0.5387 - val_bounding_box_loss: 0.0049 - val_class_label_loss: 0.5338 - val_bounding_box_accuracy: 0.8387 - val_class_label_accuracy: 0.8000\n",
            "Epoch 15/100\n",
            "58/58 [==============================] - 10s 174ms/step - loss: 0.0890 - bounding_box_loss: 2.8298e-04 - class_label_loss: 0.0888 - bounding_box_accuracy: 0.9030 - class_label_accuracy: 0.9698 - val_loss: 0.6557 - val_bounding_box_loss: 0.0049 - val_class_label_loss: 0.6507 - val_bounding_box_accuracy: 0.8301 - val_class_label_accuracy: 0.7914\n",
            "Epoch 16/100\n",
            "58/58 [==============================] - 10s 175ms/step - loss: 0.0742 - bounding_box_loss: 2.5559e-04 - class_label_loss: 0.0739 - bounding_box_accuracy: 0.9138 - class_label_accuracy: 0.9763 - val_loss: 0.6144 - val_bounding_box_loss: 0.0050 - val_class_label_loss: 0.6094 - val_bounding_box_accuracy: 0.8387 - val_class_label_accuracy: 0.8000\n",
            "Epoch 17/100\n",
            "58/58 [==============================] - 10s 175ms/step - loss: 0.0587 - bounding_box_loss: 2.3094e-04 - class_label_loss: 0.0585 - bounding_box_accuracy: 0.9181 - class_label_accuracy: 0.9844 - val_loss: 0.6090 - val_bounding_box_loss: 0.0050 - val_class_label_loss: 0.6040 - val_bounding_box_accuracy: 0.8258 - val_class_label_accuracy: 0.8086\n",
            "Epoch 18/100\n",
            "58/58 [==============================] - 10s 174ms/step - loss: 0.0540 - bounding_box_loss: 2.1188e-04 - class_label_loss: 0.0538 - bounding_box_accuracy: 0.9251 - class_label_accuracy: 0.9849 - val_loss: 0.6610 - val_bounding_box_loss: 0.0050 - val_class_label_loss: 0.6560 - val_bounding_box_accuracy: 0.8409 - val_class_label_accuracy: 0.7935\n",
            "Epoch 19/100\n",
            "58/58 [==============================] - 10s 175ms/step - loss: 0.0506 - bounding_box_loss: 2.5289e-04 - class_label_loss: 0.0503 - bounding_box_accuracy: 0.9192 - class_label_accuracy: 0.9865 - val_loss: 0.6281 - val_bounding_box_loss: 0.0050 - val_class_label_loss: 0.6231 - val_bounding_box_accuracy: 0.8323 - val_class_label_accuracy: 0.8151\n",
            "Epoch 20/100\n",
            "58/58 [==============================] - 10s 175ms/step - loss: 0.0380 - bounding_box_loss: 2.8190e-04 - class_label_loss: 0.0378 - bounding_box_accuracy: 0.9235 - class_label_accuracy: 0.9903 - val_loss: 0.7166 - val_bounding_box_loss: 0.0049 - val_class_label_loss: 0.7117 - val_bounding_box_accuracy: 0.8409 - val_class_label_accuracy: 0.7935\n",
            "Epoch 21/100\n",
            "58/58 [==============================] - 10s 175ms/step - loss: 0.0563 - bounding_box_loss: 2.7433e-04 - class_label_loss: 0.0560 - bounding_box_accuracy: 0.9208 - class_label_accuracy: 0.9790 - val_loss: 0.6868 - val_bounding_box_loss: 0.0051 - val_class_label_loss: 0.6817 - val_bounding_box_accuracy: 0.8194 - val_class_label_accuracy: 0.8022\n",
            "Epoch 22/100\n",
            "58/58 [==============================] - 10s 175ms/step - loss: 0.0420 - bounding_box_loss: 2.1464e-04 - class_label_loss: 0.0418 - bounding_box_accuracy: 0.9380 - class_label_accuracy: 0.9887 - val_loss: 0.6706 - val_bounding_box_loss: 0.0049 - val_class_label_loss: 0.6657 - val_bounding_box_accuracy: 0.8452 - val_class_label_accuracy: 0.8086\n",
            "Epoch 23/100\n",
            "58/58 [==============================] - 10s 175ms/step - loss: 0.0355 - bounding_box_loss: 2.1234e-04 - class_label_loss: 0.0352 - bounding_box_accuracy: 0.9386 - class_label_accuracy: 0.9919 - val_loss: 0.8650 - val_bounding_box_loss: 0.0050 - val_class_label_loss: 0.8600 - val_bounding_box_accuracy: 0.8387 - val_class_label_accuracy: 0.7634\n",
            "Epoch 24/100\n",
            "58/58 [==============================] - 10s 175ms/step - loss: 0.0357 - bounding_box_loss: 2.2266e-04 - class_label_loss: 0.0355 - bounding_box_accuracy: 0.9397 - class_label_accuracy: 0.9898 - val_loss: 0.7815 - val_bounding_box_loss: 0.0050 - val_class_label_loss: 0.7764 - val_bounding_box_accuracy: 0.8387 - val_class_label_accuracy: 0.7914\n",
            "Epoch 25/100\n",
            "58/58 [==============================] - 10s 175ms/step - loss: 0.0341 - bounding_box_loss: 2.1746e-04 - class_label_loss: 0.0339 - bounding_box_accuracy: 0.9327 - class_label_accuracy: 0.9887 - val_loss: 0.9974 - val_bounding_box_loss: 0.0051 - val_class_label_loss: 0.9924 - val_bounding_box_accuracy: 0.8215 - val_class_label_accuracy: 0.7699\n",
            "Epoch 26/100\n",
            "58/58 [==============================] - 10s 174ms/step - loss: 0.0417 - bounding_box_loss: 2.1497e-04 - class_label_loss: 0.0415 - bounding_box_accuracy: 0.9294 - class_label_accuracy: 0.9898 - val_loss: 0.8319 - val_bounding_box_loss: 0.0049 - val_class_label_loss: 0.8270 - val_bounding_box_accuracy: 0.8473 - val_class_label_accuracy: 0.8065\n",
            "Epoch 27/100\n",
            "58/58 [==============================] - 10s 175ms/step - loss: 0.0365 - bounding_box_loss: 2.3072e-04 - class_label_loss: 0.0362 - bounding_box_accuracy: 0.9407 - class_label_accuracy: 0.9887 - val_loss: 0.7844 - val_bounding_box_loss: 0.0051 - val_class_label_loss: 0.7793 - val_bounding_box_accuracy: 0.7914 - val_class_label_accuracy: 0.7914\n",
            "Epoch 28/100\n",
            "58/58 [==============================] - 10s 174ms/step - loss: 0.0364 - bounding_box_loss: 2.3028e-04 - class_label_loss: 0.0361 - bounding_box_accuracy: 0.9429 - class_label_accuracy: 0.9892 - val_loss: 0.8697 - val_bounding_box_loss: 0.0049 - val_class_label_loss: 0.8648 - val_bounding_box_accuracy: 0.8237 - val_class_label_accuracy: 0.7935\n",
            "Epoch 29/100\n",
            "58/58 [==============================] - 10s 174ms/step - loss: 0.0347 - bounding_box_loss: 2.3720e-04 - class_label_loss: 0.0345 - bounding_box_accuracy: 0.9397 - class_label_accuracy: 0.9925 - val_loss: 0.7954 - val_bounding_box_loss: 0.0050 - val_class_label_loss: 0.7904 - val_bounding_box_accuracy: 0.8495 - val_class_label_accuracy: 0.7978\n",
            "Epoch 30/100\n",
            "58/58 [==============================] - 10s 175ms/step - loss: 0.0246 - bounding_box_loss: 1.6823e-04 - class_label_loss: 0.0244 - bounding_box_accuracy: 0.9461 - class_label_accuracy: 0.9925 - val_loss: 0.7589 - val_bounding_box_loss: 0.0050 - val_class_label_loss: 0.7540 - val_bounding_box_accuracy: 0.8366 - val_class_label_accuracy: 0.8022\n",
            "Epoch 31/100\n",
            "58/58 [==============================] - 10s 174ms/step - loss: 0.0313 - bounding_box_loss: 1.6531e-04 - class_label_loss: 0.0312 - bounding_box_accuracy: 0.9494 - class_label_accuracy: 0.9898 - val_loss: 0.7800 - val_bounding_box_loss: 0.0050 - val_class_label_loss: 0.7750 - val_bounding_box_accuracy: 0.8387 - val_class_label_accuracy: 0.7935\n",
            "Epoch 32/100\n",
            "58/58 [==============================] - 10s 174ms/step - loss: 0.0405 - bounding_box_loss: 1.7540e-04 - class_label_loss: 0.0403 - bounding_box_accuracy: 0.9461 - class_label_accuracy: 0.9887 - val_loss: 0.7531 - val_bounding_box_loss: 0.0049 - val_class_label_loss: 0.7483 - val_bounding_box_accuracy: 0.8495 - val_class_label_accuracy: 0.7849\n",
            "Epoch 33/100\n",
            "58/58 [==============================] - 10s 174ms/step - loss: 0.0297 - bounding_box_loss: 1.9894e-04 - class_label_loss: 0.0295 - bounding_box_accuracy: 0.9472 - class_label_accuracy: 0.9930 - val_loss: 0.8767 - val_bounding_box_loss: 0.0049 - val_class_label_loss: 0.8718 - val_bounding_box_accuracy: 0.8473 - val_class_label_accuracy: 0.7892\n",
            "Epoch 34/100\n",
            "58/58 [==============================] - 10s 175ms/step - loss: 0.0267 - bounding_box_loss: 2.2087e-04 - class_label_loss: 0.0265 - bounding_box_accuracy: 0.9445 - class_label_accuracy: 0.9908 - val_loss: 0.8792 - val_bounding_box_loss: 0.0051 - val_class_label_loss: 0.8742 - val_bounding_box_accuracy: 0.8258 - val_class_label_accuracy: 0.8022\n",
            "Epoch 35/100\n",
            "58/58 [==============================] - 10s 175ms/step - loss: 0.0224 - bounding_box_loss: 2.0145e-04 - class_label_loss: 0.0222 - bounding_box_accuracy: 0.9499 - class_label_accuracy: 0.9935 - val_loss: 0.8511 - val_bounding_box_loss: 0.0049 - val_class_label_loss: 0.8461 - val_bounding_box_accuracy: 0.8624 - val_class_label_accuracy: 0.8022\n",
            "Epoch 36/100\n",
            "58/58 [==============================] - 10s 176ms/step - loss: 0.0168 - bounding_box_loss: 1.8892e-04 - class_label_loss: 0.0166 - bounding_box_accuracy: 0.9483 - class_label_accuracy: 0.9941 - val_loss: 0.9222 - val_bounding_box_loss: 0.0050 - val_class_label_loss: 0.9172 - val_bounding_box_accuracy: 0.8409 - val_class_label_accuracy: 0.7914\n",
            "Epoch 37/100\n",
            "58/58 [==============================] - 10s 176ms/step - loss: 0.0179 - bounding_box_loss: 1.8953e-04 - class_label_loss: 0.0177 - bounding_box_accuracy: 0.9515 - class_label_accuracy: 0.9962 - val_loss: 1.0249 - val_bounding_box_loss: 0.0049 - val_class_label_loss: 1.0200 - val_bounding_box_accuracy: 0.8301 - val_class_label_accuracy: 0.8043\n",
            "Epoch 38/100\n",
            "58/58 [==============================] - 10s 175ms/step - loss: 0.0261 - bounding_box_loss: 1.9794e-04 - class_label_loss: 0.0259 - bounding_box_accuracy: 0.9558 - class_label_accuracy: 0.9930 - val_loss: 0.9000 - val_bounding_box_loss: 0.0049 - val_class_label_loss: 0.8950 - val_bounding_box_accuracy: 0.8430 - val_class_label_accuracy: 0.7978\n",
            "Epoch 39/100\n",
            "58/58 [==============================] - 10s 174ms/step - loss: 0.0280 - bounding_box_loss: 1.9577e-04 - class_label_loss: 0.0278 - bounding_box_accuracy: 0.9472 - class_label_accuracy: 0.9876 - val_loss: 0.8646 - val_bounding_box_loss: 0.0049 - val_class_label_loss: 0.8597 - val_bounding_box_accuracy: 0.8559 - val_class_label_accuracy: 0.8000\n",
            "Epoch 40/100\n",
            "58/58 [==============================] - 10s 174ms/step - loss: 0.0336 - bounding_box_loss: 2.2054e-04 - class_label_loss: 0.0334 - bounding_box_accuracy: 0.9526 - class_label_accuracy: 0.9887 - val_loss: 0.8646 - val_bounding_box_loss: 0.0050 - val_class_label_loss: 0.8596 - val_bounding_box_accuracy: 0.8409 - val_class_label_accuracy: 0.8043\n",
            "Epoch 41/100\n",
            "58/58 [==============================] - 10s 174ms/step - loss: 0.0285 - bounding_box_loss: 2.1025e-04 - class_label_loss: 0.0283 - bounding_box_accuracy: 0.9520 - class_label_accuracy: 0.9903 - val_loss: 0.9015 - val_bounding_box_loss: 0.0050 - val_class_label_loss: 0.8965 - val_bounding_box_accuracy: 0.8624 - val_class_label_accuracy: 0.7871\n",
            "Epoch 42/100\n",
            "58/58 [==============================] - 10s 175ms/step - loss: 0.0255 - bounding_box_loss: 1.8110e-04 - class_label_loss: 0.0253 - bounding_box_accuracy: 0.9418 - class_label_accuracy: 0.9935 - val_loss: 0.9478 - val_bounding_box_loss: 0.0048 - val_class_label_loss: 0.9430 - val_bounding_box_accuracy: 0.8344 - val_class_label_accuracy: 0.8022\n",
            "Epoch 43/100\n",
            "58/58 [==============================] - 10s 175ms/step - loss: 0.0284 - bounding_box_loss: 1.5507e-04 - class_label_loss: 0.0283 - bounding_box_accuracy: 0.9596 - class_label_accuracy: 0.9887 - val_loss: 1.1199 - val_bounding_box_loss: 0.0048 - val_class_label_loss: 1.1151 - val_bounding_box_accuracy: 0.8645 - val_class_label_accuracy: 0.7570\n",
            "Epoch 44/100\n",
            "58/58 [==============================] - 10s 176ms/step - loss: 0.0322 - bounding_box_loss: 1.2744e-04 - class_label_loss: 0.0321 - bounding_box_accuracy: 0.9558 - class_label_accuracy: 0.9871 - val_loss: 0.9828 - val_bounding_box_loss: 0.0049 - val_class_label_loss: 0.9779 - val_bounding_box_accuracy: 0.8387 - val_class_label_accuracy: 0.8086\n",
            "Epoch 45/100\n",
            "58/58 [==============================] - 10s 176ms/step - loss: 0.0207 - bounding_box_loss: 1.2851e-04 - class_label_loss: 0.0206 - bounding_box_accuracy: 0.9499 - class_label_accuracy: 0.9914 - val_loss: 1.0682 - val_bounding_box_loss: 0.0049 - val_class_label_loss: 1.0633 - val_bounding_box_accuracy: 0.8581 - val_class_label_accuracy: 0.7957\n",
            "Epoch 46/100\n",
            "58/58 [==============================] - 10s 176ms/step - loss: 0.0286 - bounding_box_loss: 1.3914e-04 - class_label_loss: 0.0284 - bounding_box_accuracy: 0.9553 - class_label_accuracy: 0.9898 - val_loss: 1.0723 - val_bounding_box_loss: 0.0049 - val_class_label_loss: 1.0674 - val_bounding_box_accuracy: 0.8366 - val_class_label_accuracy: 0.7828\n",
            "Epoch 47/100\n",
            "58/58 [==============================] - 10s 175ms/step - loss: 0.0328 - bounding_box_loss: 1.3807e-04 - class_label_loss: 0.0326 - bounding_box_accuracy: 0.9542 - class_label_accuracy: 0.9855 - val_loss: 1.0277 - val_bounding_box_loss: 0.0049 - val_class_label_loss: 1.0228 - val_bounding_box_accuracy: 0.8409 - val_class_label_accuracy: 0.7892\n",
            "Epoch 48/100\n",
            "58/58 [==============================] - 10s 175ms/step - loss: 0.0226 - bounding_box_loss: 1.4115e-04 - class_label_loss: 0.0224 - bounding_box_accuracy: 0.9456 - class_label_accuracy: 0.9919 - val_loss: 1.0945 - val_bounding_box_loss: 0.0050 - val_class_label_loss: 1.0895 - val_bounding_box_accuracy: 0.8452 - val_class_label_accuracy: 0.7914\n",
            "Epoch 49/100\n",
            "58/58 [==============================] - 10s 175ms/step - loss: 0.0343 - bounding_box_loss: 1.4874e-04 - class_label_loss: 0.0341 - bounding_box_accuracy: 0.9591 - class_label_accuracy: 0.9871 - val_loss: 1.1131 - val_bounding_box_loss: 0.0049 - val_class_label_loss: 1.1082 - val_bounding_box_accuracy: 0.8452 - val_class_label_accuracy: 0.7849\n",
            "Epoch 50/100\n",
            "58/58 [==============================] - 10s 174ms/step - loss: 0.0256 - bounding_box_loss: 1.3651e-04 - class_label_loss: 0.0255 - bounding_box_accuracy: 0.9558 - class_label_accuracy: 0.9914 - val_loss: 1.0592 - val_bounding_box_loss: 0.0049 - val_class_label_loss: 1.0543 - val_bounding_box_accuracy: 0.8366 - val_class_label_accuracy: 0.8000\n",
            "Epoch 51/100\n",
            "58/58 [==============================] - 10s 174ms/step - loss: 0.0245 - bounding_box_loss: 1.4509e-04 - class_label_loss: 0.0244 - bounding_box_accuracy: 0.9580 - class_label_accuracy: 0.9908 - val_loss: 0.9918 - val_bounding_box_loss: 0.0049 - val_class_label_loss: 0.9869 - val_bounding_box_accuracy: 0.8538 - val_class_label_accuracy: 0.8022\n",
            "Epoch 52/100\n",
            "58/58 [==============================] - 10s 175ms/step - loss: 0.0255 - bounding_box_loss: 1.5082e-04 - class_label_loss: 0.0254 - bounding_box_accuracy: 0.9628 - class_label_accuracy: 0.9903 - val_loss: 0.9873 - val_bounding_box_loss: 0.0048 - val_class_label_loss: 0.9825 - val_bounding_box_accuracy: 0.8344 - val_class_label_accuracy: 0.8000\n",
            "Epoch 53/100\n",
            "58/58 [==============================] - 10s 175ms/step - loss: 0.0344 - bounding_box_loss: 1.6552e-04 - class_label_loss: 0.0342 - bounding_box_accuracy: 0.9580 - class_label_accuracy: 0.9871 - val_loss: 0.9201 - val_bounding_box_loss: 0.0052 - val_class_label_loss: 0.9149 - val_bounding_box_accuracy: 0.8409 - val_class_label_accuracy: 0.7978\n",
            "Epoch 54/100\n",
            "58/58 [==============================] - 10s 175ms/step - loss: 0.0389 - bounding_box_loss: 2.2782e-04 - class_label_loss: 0.0387 - bounding_box_accuracy: 0.9418 - class_label_accuracy: 0.9865 - val_loss: 0.9004 - val_bounding_box_loss: 0.0049 - val_class_label_loss: 0.8955 - val_bounding_box_accuracy: 0.8452 - val_class_label_accuracy: 0.8022\n",
            "Epoch 55/100\n",
            "58/58 [==============================] - 10s 175ms/step - loss: 0.0167 - bounding_box_loss: 2.2545e-04 - class_label_loss: 0.0165 - bounding_box_accuracy: 0.9537 - class_label_accuracy: 0.9957 - val_loss: 1.0771 - val_bounding_box_loss: 0.0049 - val_class_label_loss: 1.0722 - val_bounding_box_accuracy: 0.8645 - val_class_label_accuracy: 0.8043\n",
            "Epoch 56/100\n",
            "58/58 [==============================] - 10s 176ms/step - loss: 0.0176 - bounding_box_loss: 2.3842e-04 - class_label_loss: 0.0173 - bounding_box_accuracy: 0.9472 - class_label_accuracy: 0.9935 - val_loss: 1.0941 - val_bounding_box_loss: 0.0049 - val_class_label_loss: 1.0893 - val_bounding_box_accuracy: 0.8602 - val_class_label_accuracy: 0.7978\n",
            "Epoch 57/100\n",
            "58/58 [==============================] - 10s 176ms/step - loss: 0.0147 - bounding_box_loss: 2.0220e-04 - class_label_loss: 0.0145 - bounding_box_accuracy: 0.9526 - class_label_accuracy: 0.9941 - val_loss: 1.2145 - val_bounding_box_loss: 0.0048 - val_class_label_loss: 1.2097 - val_bounding_box_accuracy: 0.8624 - val_class_label_accuracy: 0.8086\n",
            "Epoch 58/100\n",
            "58/58 [==============================] - 10s 175ms/step - loss: 0.0196 - bounding_box_loss: 1.7295e-04 - class_label_loss: 0.0195 - bounding_box_accuracy: 0.9580 - class_label_accuracy: 0.9941 - val_loss: 1.1327 - val_bounding_box_loss: 0.0049 - val_class_label_loss: 1.1278 - val_bounding_box_accuracy: 0.7892 - val_class_label_accuracy: 0.7914\n",
            "Epoch 59/100\n",
            "58/58 [==============================] - 10s 175ms/step - loss: 0.0152 - bounding_box_loss: 1.8602e-04 - class_label_loss: 0.0150 - bounding_box_accuracy: 0.9537 - class_label_accuracy: 0.9946 - val_loss: 1.3188 - val_bounding_box_loss: 0.0047 - val_class_label_loss: 1.3141 - val_bounding_box_accuracy: 0.8473 - val_class_label_accuracy: 0.7957\n",
            "Epoch 60/100\n",
            "58/58 [==============================] - 10s 175ms/step - loss: 0.0192 - bounding_box_loss: 1.8982e-04 - class_label_loss: 0.0190 - bounding_box_accuracy: 0.9612 - class_label_accuracy: 0.9903 - val_loss: 1.1069 - val_bounding_box_loss: 0.0048 - val_class_label_loss: 1.1021 - val_bounding_box_accuracy: 0.8301 - val_class_label_accuracy: 0.7935\n",
            "Epoch 61/100\n",
            "58/58 [==============================] - 10s 175ms/step - loss: 0.0274 - bounding_box_loss: 1.7872e-04 - class_label_loss: 0.0272 - bounding_box_accuracy: 0.9585 - class_label_accuracy: 0.9903 - val_loss: 1.1543 - val_bounding_box_loss: 0.0048 - val_class_label_loss: 1.1495 - val_bounding_box_accuracy: 0.8387 - val_class_label_accuracy: 0.7957\n",
            "Epoch 62/100\n",
            "58/58 [==============================] - 10s 175ms/step - loss: 0.0181 - bounding_box_loss: 1.4912e-04 - class_label_loss: 0.0179 - bounding_box_accuracy: 0.9574 - class_label_accuracy: 0.9935 - val_loss: 1.0080 - val_bounding_box_loss: 0.0049 - val_class_label_loss: 1.0031 - val_bounding_box_accuracy: 0.8624 - val_class_label_accuracy: 0.7957\n",
            "Epoch 63/100\n",
            "58/58 [==============================] - 10s 175ms/step - loss: 0.0194 - bounding_box_loss: 1.1916e-04 - class_label_loss: 0.0193 - bounding_box_accuracy: 0.9574 - class_label_accuracy: 0.9914 - val_loss: 1.1306 - val_bounding_box_loss: 0.0049 - val_class_label_loss: 1.1257 - val_bounding_box_accuracy: 0.8559 - val_class_label_accuracy: 0.7828\n",
            "Epoch 64/100\n",
            "58/58 [==============================] - 10s 176ms/step - loss: 0.0265 - bounding_box_loss: 9.4036e-05 - class_label_loss: 0.0264 - bounding_box_accuracy: 0.9688 - class_label_accuracy: 0.9935 - val_loss: 1.1387 - val_bounding_box_loss: 0.0048 - val_class_label_loss: 1.1338 - val_bounding_box_accuracy: 0.8559 - val_class_label_accuracy: 0.7914\n",
            "Epoch 65/100\n",
            "58/58 [==============================] - 10s 176ms/step - loss: 0.0154 - bounding_box_loss: 9.7999e-05 - class_label_loss: 0.0153 - bounding_box_accuracy: 0.9623 - class_label_accuracy: 0.9935 - val_loss: 1.1787 - val_bounding_box_loss: 0.0049 - val_class_label_loss: 1.1739 - val_bounding_box_accuracy: 0.8602 - val_class_label_accuracy: 0.7957\n",
            "Epoch 66/100\n",
            "58/58 [==============================] - 10s 175ms/step - loss: 0.0131 - bounding_box_loss: 9.2745e-05 - class_label_loss: 0.0130 - bounding_box_accuracy: 0.9596 - class_label_accuracy: 0.9957 - val_loss: 1.2009 - val_bounding_box_loss: 0.0048 - val_class_label_loss: 1.1961 - val_bounding_box_accuracy: 0.8344 - val_class_label_accuracy: 0.8022\n",
            "Epoch 67/100\n",
            "58/58 [==============================] - 10s 176ms/step - loss: 0.0107 - bounding_box_loss: 9.7844e-05 - class_label_loss: 0.0106 - bounding_box_accuracy: 0.9634 - class_label_accuracy: 0.9973 - val_loss: 1.3469 - val_bounding_box_loss: 0.0048 - val_class_label_loss: 1.3422 - val_bounding_box_accuracy: 0.8495 - val_class_label_accuracy: 0.8086\n",
            "Epoch 68/100\n",
            "58/58 [==============================] - 10s 177ms/step - loss: 0.0122 - bounding_box_loss: 1.1203e-04 - class_label_loss: 0.0121 - bounding_box_accuracy: 0.9634 - class_label_accuracy: 0.9952 - val_loss: 1.2144 - val_bounding_box_loss: 0.0049 - val_class_label_loss: 1.2095 - val_bounding_box_accuracy: 0.8366 - val_class_label_accuracy: 0.8022\n",
            "Epoch 69/100\n",
            "58/58 [==============================] - 10s 175ms/step - loss: 0.0242 - bounding_box_loss: 1.3544e-04 - class_label_loss: 0.0240 - bounding_box_accuracy: 0.9688 - class_label_accuracy: 0.9871 - val_loss: 1.1953 - val_bounding_box_loss: 0.0048 - val_class_label_loss: 1.1906 - val_bounding_box_accuracy: 0.8366 - val_class_label_accuracy: 0.7914\n",
            "Epoch 70/100\n",
            "58/58 [==============================] - 10s 176ms/step - loss: 0.0361 - bounding_box_loss: 1.3909e-04 - class_label_loss: 0.0360 - bounding_box_accuracy: 0.9617 - class_label_accuracy: 0.9860 - val_loss: 1.0400 - val_bounding_box_loss: 0.0048 - val_class_label_loss: 1.0352 - val_bounding_box_accuracy: 0.8215 - val_class_label_accuracy: 0.7892\n",
            "Epoch 71/100\n",
            "58/58 [==============================] - 10s 175ms/step - loss: 0.0212 - bounding_box_loss: 1.5357e-04 - class_label_loss: 0.0210 - bounding_box_accuracy: 0.9564 - class_label_accuracy: 0.9919 - val_loss: 1.1061 - val_bounding_box_loss: 0.0047 - val_class_label_loss: 1.1014 - val_bounding_box_accuracy: 0.8538 - val_class_label_accuracy: 0.7935\n",
            "Epoch 72/100\n",
            "58/58 [==============================] - 10s 176ms/step - loss: 0.0116 - bounding_box_loss: 1.6706e-04 - class_label_loss: 0.0114 - bounding_box_accuracy: 0.9617 - class_label_accuracy: 0.9973 - val_loss: 1.2739 - val_bounding_box_loss: 0.0049 - val_class_label_loss: 1.2690 - val_bounding_box_accuracy: 0.8452 - val_class_label_accuracy: 0.7914\n",
            "Epoch 73/100\n",
            "58/58 [==============================] - 10s 175ms/step - loss: 0.0138 - bounding_box_loss: 1.5502e-04 - class_label_loss: 0.0136 - bounding_box_accuracy: 0.9639 - class_label_accuracy: 0.9930 - val_loss: 1.3556 - val_bounding_box_loss: 0.0049 - val_class_label_loss: 1.3507 - val_bounding_box_accuracy: 0.8473 - val_class_label_accuracy: 0.7871\n",
            "Epoch 74/100\n",
            "58/58 [==============================] - 10s 176ms/step - loss: 0.0287 - bounding_box_loss: 1.3906e-04 - class_label_loss: 0.0285 - bounding_box_accuracy: 0.9585 - class_label_accuracy: 0.9860 - val_loss: 1.2449 - val_bounding_box_loss: 0.0048 - val_class_label_loss: 1.2401 - val_bounding_box_accuracy: 0.8473 - val_class_label_accuracy: 0.7720\n",
            "Epoch 75/100\n",
            "58/58 [==============================] - 10s 175ms/step - loss: 0.0305 - bounding_box_loss: 1.2962e-04 - class_label_loss: 0.0304 - bounding_box_accuracy: 0.9628 - class_label_accuracy: 0.9876 - val_loss: 1.0219 - val_bounding_box_loss: 0.0049 - val_class_label_loss: 1.0171 - val_bounding_box_accuracy: 0.8516 - val_class_label_accuracy: 0.8022\n",
            "Epoch 76/100\n",
            "58/58 [==============================] - 10s 174ms/step - loss: 0.0195 - bounding_box_loss: 1.3041e-04 - class_label_loss: 0.0194 - bounding_box_accuracy: 0.9558 - class_label_accuracy: 0.9930 - val_loss: 1.3603 - val_bounding_box_loss: 0.0048 - val_class_label_loss: 1.3555 - val_bounding_box_accuracy: 0.8258 - val_class_label_accuracy: 0.8043\n",
            "Epoch 77/100\n",
            "58/58 [==============================] - 10s 175ms/step - loss: 0.0177 - bounding_box_loss: 1.4244e-04 - class_label_loss: 0.0175 - bounding_box_accuracy: 0.9682 - class_label_accuracy: 0.9930 - val_loss: 1.2306 - val_bounding_box_loss: 0.0049 - val_class_label_loss: 1.2257 - val_bounding_box_accuracy: 0.8258 - val_class_label_accuracy: 0.7849\n",
            "Epoch 78/100\n",
            "58/58 [==============================] - 10s 175ms/step - loss: 0.0145 - bounding_box_loss: 1.3321e-04 - class_label_loss: 0.0144 - bounding_box_accuracy: 0.9655 - class_label_accuracy: 0.9941 - val_loss: 1.2229 - val_bounding_box_loss: 0.0048 - val_class_label_loss: 1.2181 - val_bounding_box_accuracy: 0.8473 - val_class_label_accuracy: 0.7871\n",
            "Epoch 79/100\n",
            "58/58 [==============================] - 10s 175ms/step - loss: 0.0148 - bounding_box_loss: 1.3025e-04 - class_label_loss: 0.0147 - bounding_box_accuracy: 0.9688 - class_label_accuracy: 0.9930 - val_loss: 1.2782 - val_bounding_box_loss: 0.0048 - val_class_label_loss: 1.2734 - val_bounding_box_accuracy: 0.8645 - val_class_label_accuracy: 0.7871\n",
            "Epoch 80/100\n",
            "58/58 [==============================] - 10s 175ms/step - loss: 0.0275 - bounding_box_loss: 1.6918e-04 - class_label_loss: 0.0274 - bounding_box_accuracy: 0.9564 - class_label_accuracy: 0.9898 - val_loss: 1.2589 - val_bounding_box_loss: 0.0048 - val_class_label_loss: 1.2542 - val_bounding_box_accuracy: 0.8516 - val_class_label_accuracy: 0.7742\n",
            "Epoch 81/100\n",
            "58/58 [==============================] - 10s 176ms/step - loss: 0.0143 - bounding_box_loss: 1.3916e-04 - class_label_loss: 0.0142 - bounding_box_accuracy: 0.9634 - class_label_accuracy: 0.9941 - val_loss: 1.2921 - val_bounding_box_loss: 0.0048 - val_class_label_loss: 1.2873 - val_bounding_box_accuracy: 0.8172 - val_class_label_accuracy: 0.7935\n",
            "Epoch 82/100\n",
            "58/58 [==============================] - 10s 175ms/step - loss: 0.0139 - bounding_box_loss: 1.2956e-04 - class_label_loss: 0.0137 - bounding_box_accuracy: 0.9580 - class_label_accuracy: 0.9946 - val_loss: 1.3335 - val_bounding_box_loss: 0.0047 - val_class_label_loss: 1.3288 - val_bounding_box_accuracy: 0.8473 - val_class_label_accuracy: 0.7935\n",
            "Epoch 83/100\n",
            "58/58 [==============================] - 10s 175ms/step - loss: 0.0142 - bounding_box_loss: 1.1506e-04 - class_label_loss: 0.0140 - bounding_box_accuracy: 0.9682 - class_label_accuracy: 0.9952 - val_loss: 1.3704 - val_bounding_box_loss: 0.0048 - val_class_label_loss: 1.3656 - val_bounding_box_accuracy: 0.8409 - val_class_label_accuracy: 0.7957\n",
            "Epoch 84/100\n",
            "58/58 [==============================] - 10s 176ms/step - loss: 0.0126 - bounding_box_loss: 1.1483e-04 - class_label_loss: 0.0125 - bounding_box_accuracy: 0.9747 - class_label_accuracy: 0.9952 - val_loss: 1.4927 - val_bounding_box_loss: 0.0047 - val_class_label_loss: 1.4880 - val_bounding_box_accuracy: 0.8323 - val_class_label_accuracy: 0.7914\n",
            "Epoch 85/100\n",
            "58/58 [==============================] - 10s 175ms/step - loss: 0.0175 - bounding_box_loss: 1.2219e-04 - class_label_loss: 0.0174 - bounding_box_accuracy: 0.9774 - class_label_accuracy: 0.9957 - val_loss: 1.5638 - val_bounding_box_loss: 0.0049 - val_class_label_loss: 1.5589 - val_bounding_box_accuracy: 0.8344 - val_class_label_accuracy: 0.7742\n",
            "Epoch 86/100\n",
            "58/58 [==============================] - 10s 176ms/step - loss: 0.0266 - bounding_box_loss: 1.6741e-04 - class_label_loss: 0.0264 - bounding_box_accuracy: 0.9650 - class_label_accuracy: 0.9876 - val_loss: 1.1584 - val_bounding_box_loss: 0.0048 - val_class_label_loss: 1.1536 - val_bounding_box_accuracy: 0.8366 - val_class_label_accuracy: 0.7892\n",
            "Epoch 87/100\n",
            "58/58 [==============================] - 10s 176ms/step - loss: 0.0110 - bounding_box_loss: 1.4591e-04 - class_label_loss: 0.0108 - bounding_box_accuracy: 0.9596 - class_label_accuracy: 0.9952 - val_loss: 1.4037 - val_bounding_box_loss: 0.0047 - val_class_label_loss: 1.3990 - val_bounding_box_accuracy: 0.8280 - val_class_label_accuracy: 0.8022\n",
            "Epoch 88/100\n",
            "58/58 [==============================] - 10s 176ms/step - loss: 0.0224 - bounding_box_loss: 1.2669e-04 - class_label_loss: 0.0222 - bounding_box_accuracy: 0.9682 - class_label_accuracy: 0.9908 - val_loss: 1.4645 - val_bounding_box_loss: 0.0048 - val_class_label_loss: 1.4598 - val_bounding_box_accuracy: 0.8323 - val_class_label_accuracy: 0.7742\n",
            "Epoch 89/100\n",
            "58/58 [==============================] - 10s 176ms/step - loss: 0.0202 - bounding_box_loss: 1.3195e-04 - class_label_loss: 0.0201 - bounding_box_accuracy: 0.9650 - class_label_accuracy: 0.9914 - val_loss: 1.2804 - val_bounding_box_loss: 0.0047 - val_class_label_loss: 1.2757 - val_bounding_box_accuracy: 0.8473 - val_class_label_accuracy: 0.8086\n",
            "Epoch 90/100\n",
            "58/58 [==============================] - 10s 175ms/step - loss: 0.0130 - bounding_box_loss: 1.1106e-04 - class_label_loss: 0.0129 - bounding_box_accuracy: 0.9677 - class_label_accuracy: 0.9957 - val_loss: 1.3473 - val_bounding_box_loss: 0.0047 - val_class_label_loss: 1.3426 - val_bounding_box_accuracy: 0.8366 - val_class_label_accuracy: 0.7957\n",
            "Epoch 91/100\n",
            "58/58 [==============================] - 10s 175ms/step - loss: 0.0104 - bounding_box_loss: 1.0420e-04 - class_label_loss: 0.0103 - bounding_box_accuracy: 0.9677 - class_label_accuracy: 0.9957 - val_loss: 1.4099 - val_bounding_box_loss: 0.0047 - val_class_label_loss: 1.4052 - val_bounding_box_accuracy: 0.8624 - val_class_label_accuracy: 0.7957\n",
            "Epoch 92/100\n",
            "58/58 [==============================] - 10s 174ms/step - loss: 0.0121 - bounding_box_loss: 9.7779e-05 - class_label_loss: 0.0120 - bounding_box_accuracy: 0.9682 - class_label_accuracy: 0.9957 - val_loss: 1.2804 - val_bounding_box_loss: 0.0048 - val_class_label_loss: 1.2756 - val_bounding_box_accuracy: 0.8409 - val_class_label_accuracy: 0.8108\n",
            "Epoch 93/100\n",
            "58/58 [==============================] - 10s 174ms/step - loss: 0.0102 - bounding_box_loss: 1.3064e-04 - class_label_loss: 0.0100 - bounding_box_accuracy: 0.9596 - class_label_accuracy: 0.9957 - val_loss: 1.3270 - val_bounding_box_loss: 0.0048 - val_class_label_loss: 1.3222 - val_bounding_box_accuracy: 0.8516 - val_class_label_accuracy: 0.8000\n",
            "Epoch 94/100\n",
            "58/58 [==============================] - 10s 176ms/step - loss: 0.0101 - bounding_box_loss: 1.1257e-04 - class_label_loss: 0.0100 - bounding_box_accuracy: 0.9704 - class_label_accuracy: 0.9941 - val_loss: 1.4603 - val_bounding_box_loss: 0.0047 - val_class_label_loss: 1.4556 - val_bounding_box_accuracy: 0.8452 - val_class_label_accuracy: 0.7978\n",
            "Epoch 95/100\n",
            "58/58 [==============================] - 10s 176ms/step - loss: 0.0105 - bounding_box_loss: 8.8875e-05 - class_label_loss: 0.0104 - bounding_box_accuracy: 0.9725 - class_label_accuracy: 0.9968 - val_loss: 1.5178 - val_bounding_box_loss: 0.0047 - val_class_label_loss: 1.5131 - val_bounding_box_accuracy: 0.8430 - val_class_label_accuracy: 0.8043\n",
            "Epoch 96/100\n",
            "58/58 [==============================] - 10s 176ms/step - loss: 0.0116 - bounding_box_loss: 9.2208e-05 - class_label_loss: 0.0116 - bounding_box_accuracy: 0.9650 - class_label_accuracy: 0.9952 - val_loss: 1.6092 - val_bounding_box_loss: 0.0047 - val_class_label_loss: 1.6045 - val_bounding_box_accuracy: 0.8516 - val_class_label_accuracy: 0.8043\n",
            "Epoch 97/100\n",
            "58/58 [==============================] - 10s 177ms/step - loss: 0.0227 - bounding_box_loss: 8.4255e-05 - class_label_loss: 0.0226 - bounding_box_accuracy: 0.9677 - class_label_accuracy: 0.9930 - val_loss: 1.3112 - val_bounding_box_loss: 0.0047 - val_class_label_loss: 1.3065 - val_bounding_box_accuracy: 0.8538 - val_class_label_accuracy: 0.8000\n",
            "Epoch 98/100\n",
            "58/58 [==============================] - 10s 176ms/step - loss: 0.0324 - bounding_box_loss: 1.0298e-04 - class_label_loss: 0.0323 - bounding_box_accuracy: 0.9591 - class_label_accuracy: 0.9860 - val_loss: 1.3192 - val_bounding_box_loss: 0.0047 - val_class_label_loss: 1.3145 - val_bounding_box_accuracy: 0.8323 - val_class_label_accuracy: 0.7957\n",
            "Epoch 99/100\n",
            "58/58 [==============================] - 10s 176ms/step - loss: 0.0223 - bounding_box_loss: 9.8101e-05 - class_label_loss: 0.0222 - bounding_box_accuracy: 0.9628 - class_label_accuracy: 0.9914 - val_loss: 1.2070 - val_bounding_box_loss: 0.0047 - val_class_label_loss: 1.2023 - val_bounding_box_accuracy: 0.8258 - val_class_label_accuracy: 0.7957\n",
            "Epoch 100/100\n",
            "58/58 [==============================] - 10s 175ms/step - loss: 0.0132 - bounding_box_loss: 1.1190e-04 - class_label_loss: 0.0131 - bounding_box_accuracy: 0.9714 - class_label_accuracy: 0.9962 - val_loss: 1.5221 - val_bounding_box_loss: 0.0049 - val_class_label_loss: 1.5173 - val_bounding_box_accuracy: 0.8516 - val_class_label_accuracy: 0.7957\n",
            "[INFO] saving object detector model...\n",
            "[INFO] saving training history in history_vgg16 file\n",
            "[INFO] saving label binarizer...\n"
          ],
          "name": "stdout"
        }
      ]
    },
    {
      "cell_type": "code",
      "metadata": {
        "id": "Eb4YFDxBziAf"
      },
      "source": [
        ""
      ],
      "execution_count": null,
      "outputs": []
    },
    {
      "cell_type": "code",
      "metadata": {
        "id": "DGXpwPh0ZJoW"
      },
      "source": [
        "###########################\n",
        "'''naking a plot for visualizing total loss, class label loss , bounding box regression loss\n",
        "'''\n",
        "# plot the total loss, label loss, and bounding box loss\n",
        "lossNames = [\"loss\", \"class_label_loss\", \"bounding_box_loss\"]\n",
        "N = np.arange(0, config.NUM_EPOCHS)\n",
        "plt.style.use(\"ggplot\")\n",
        "(fig, ax) = plt.subplots(3, 1, figsize=(13, 13))\n",
        "# loop over the loss names\n",
        "for (i, l) in enumerate(lossNames):\n",
        "\t# plot the loss for both the training and validation data\n",
        "\ttitle = \"Loss for {}\".format(l) if l != \"loss\" else \"Total loss\"\n",
        "\tax[i].set_title(title)\n",
        "\tax[i].set_xlabel(\"Epoch #\")\n",
        "\tax[i].set_ylabel(\"Loss\")\n",
        "\tax[i].plot(N, H.history[l], label=l)\n",
        "\tax[i].plot(N, H.history[\"val_\" + l], label=\"val_\" + l)\n",
        "\tax[i].legend()\n",
        "# save the losses figure and create a new figure for the accuracies\n",
        "plt.tight_layout()\n",
        "plotPath = os.path.sep.join([config.PLOTS_PATH, \"losses.png\"])\n",
        "plt.savefig(plotPath)\n",
        "plt.close()\n"
      ],
      "execution_count": null,
      "outputs": []
    },
    {
      "cell_type": "code",
      "metadata": {
        "colab": {
          "base_uri": "https://localhost:8080/"
        },
        "id": "X0KDgVIczA2p",
        "outputId": "fd5c065a-95cc-4d2c-c8e7-48e01d1ea0d0"
      },
      "source": [
        "print(os.path.abspath(os.path.join(config.PLOTS_PATH, 'losses.png')))"
      ],
      "execution_count": null,
      "outputs": [
        {
          "output_type": "stream",
          "text": [
            "/content/drive/My Drive/vgg_16_approach/outputs/plots/losses.png\n"
          ],
          "name": "stdout"
        }
      ]
    },
    {
      "cell_type": "code",
      "metadata": {
        "colab": {
          "base_uri": "https://localhost:8080/",
          "height": 299
        },
        "id": "iQPwW1bdZOgT",
        "outputId": "2d1e939c-0179-4d95-92be-18b4ac6038c6"
      },
      "source": [
        "############\t\t\tAccuracy \t\t\t#############\n",
        "\n",
        "#The final step is to plot our training and validation accuracy:\n",
        "\n",
        "# create a new figure for the accuracies\n",
        "plt.style.use(\"ggplot\")\n",
        "plt.figure()\n",
        "plt.plot(N, H.history[\"class_label_accuracy\"],\n",
        "\tlabel=\"class_label_train_acc\")\n",
        "plt.plot(N, H.history[\"val_class_label_accuracy\"],\n",
        "\tlabel=\"val_class_label_acc\")\n",
        "plt.title(\"Class Label Accuracy\")\n",
        "plt.xlabel(\"Epoch #\")\n",
        "plt.ylabel(\"Accuracy\")\n",
        "plt.legend(loc=\"lower left\")\n",
        "# save the accuracies plot\n",
        "plotPath = os.path.sep.join([config.PLOTS_PATH, \"accs.png\"])\n",
        "plt.savefig(plotPath)\n"
      ],
      "execution_count": null,
      "outputs": [
        {
          "output_type": "display_data",
          "data": {
            "image/png": "[encoded data removed]",
            "text/plain": [
              "<Figure size 432x288 with 1 Axes>"
            ]
          },
          "metadata": {
            "tags": []
          }
        }
      ]
    },
    {
      "cell_type": "code",
      "metadata": {
        "colab": {
          "base_uri": "https://localhost:8080/",
          "height": 75
        },
        "id": "i10Aew9DohjO",
        "outputId": "4c0cc4ef-a193-4053-8ce0-ee14da15bdf6"
      },
      "source": [
        "import IPython\n",
        "display(IPython.display.Audio(url=\"https://ssl.gstatic.com/dictionary/static/sounds/20180430/complete--_us_1.mp3\", autoplay=True))"
      ],
      "execution_count": null,
      "outputs": [
        {
          "output_type": "display_data",
          "data": {
            "text/html": [
              "\n",
              "                <audio controls=\"controls\" autoplay=\"autoplay\">\n",
              "                    <source src=\"https://ssl.gstatic.com/dictionary/static/sounds/20180430/complete--_us_1.mp3\" type=\"audio/mpeg\" />\n",
              "                    Your browser does not support the audio element.\n",
              "                </audio>\n",
              "              "
            ],
            "text/plain": [
              "<IPython.lib.display.Audio object>"
            ]
          },
          "metadata": {
            "tags": []
          }
        }
      ]
    },
    {
      "cell_type": "code",
      "metadata": {
        "id": "0tbAvAvqY6jF"
      },
      "source": [
        ""
      ],
      "execution_count": null,
      "outputs": []
    },
    {
      "cell_type": "code",
      "metadata": {
        "id": "2SabRMfCyUGe"
      },
      "source": [
        ""
      ],
      "execution_count": null,
      "outputs": []
    }
  ]
}