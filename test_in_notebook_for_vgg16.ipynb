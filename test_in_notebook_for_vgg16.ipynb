{
 "cells": [
  {
   "cell_type": "code",
   "execution_count": 1,
   "id": "occupied-variable",
   "metadata": {},
   "outputs": [],
   "source": [
    "import os\n",
    "import pandas as pd\n",
    "from sklearn.model_selection import train_test_split\n",
    "from imutils import paths"
   ]
  },
  {
   "cell_type": "code",
   "execution_count": 3,
   "id": "built-globe",
   "metadata": {},
   "outputs": [],
   "source": [
    "os.getcwd()\n",
    "os.chdir('vgg_16_approach/')"
   ]
  },
  {
   "cell_type": "code",
   "execution_count": 5,
   "id": "monetary-copyright",
   "metadata": {},
   "outputs": [],
   "source": [
    "import config"
   ]
  },
  {
   "cell_type": "code",
   "execution_count": 6,
   "id": "german-fellowship",
   "metadata": {},
   "outputs": [
    {
     "data": {
      "text/plain": [
       "'/home/safat/python_code/emergency_vehicle_detection/vgg_16_approach'"
      ]
     },
     "execution_count": 6,
     "metadata": {},
     "output_type": "execute_result"
    }
   ],
   "source": [
    "config.base_path"
   ]
  },
  {
   "cell_type": "code",
   "execution_count": 7,
   "id": "listed-flooring",
   "metadata": {},
   "outputs": [],
   "source": [
    "cars = pd.read_csv(os.path.join(config.images_path,'train_test_vgg_format.csv'))"
   ]
  },
  {
   "cell_type": "code",
   "execution_count": 17,
   "id": "unauthorized-probability",
   "metadata": {},
   "outputs": [],
   "source": [
    "data = [] #images\n",
    "labels = []\n",
    "bboxes = []\n",
    "filenames = []\n"
   ]
  },
  {
   "cell_type": "code",
   "execution_count": 18,
   "id": "liberal-wildlife",
   "metadata": {},
   "outputs": [],
   "source": [
    "from tensorflow.keras.preprocessing.image import img_to_array\n",
    "from tensorflow.keras.preprocessing.image import load_img\n",
    "for i in cars.IMAGE:\n",
    "    image = load_img(os.path.join(config.images_path,'cars', str(i) + \".jpg\"))\n",
    "    image = img_to_array(image)\n",
    "    \n",
    "    data.append(image)"
   ]
  },
  {
   "cell_type": "code",
   "execution_count": 20,
   "id": "wrong-discussion",
   "metadata": {},
   "outputs": [],
   "source": [
    "tmp = []\n",
    "for i in range(len(cars)):\n",
    "\tfor j in range(1,5):\n",
    "\t\ttmp.append(cars.iloc[i,j])\n",
    "\t\t\n",
    "\tlabels.append(cars.CLASS[i])\n",
    "\tbboxes.append(tmp)\n",
    "\ttmp = []"
   ]
  },
  {
   "cell_type": "code",
   "execution_count": 24,
   "id": "organizational-gibraltar",
   "metadata": {},
   "outputs": [
    {
     "name": "stdout",
     "output_type": "stream",
     "text": [
      "2321\n",
      "2321\n",
      "[0.08705357142857142, 0.125, 0.9308035714285714, 0.8660714285714286]\n",
      "2321\n"
     ]
    }
   ],
   "source": [
    "print(len(labels))\n",
    "print(len(data))\n",
    "print(bboxes[0])\n",
    "print(len(bboxes))"
   ]
  },
  {
   "cell_type": "code",
   "execution_count": 43,
   "id": "infrared-bulgaria",
   "metadata": {},
   "outputs": [],
   "source": [
    "import numpy as np\n",
    "# convert the data and labels to NumPy arrays, scaling the input\n",
    "# pixel intensities from the range [0, 255] to [0, 1]\n",
    "data = np.array(data, dtype=\"float32\") / 255.0\n",
    "labels = np.array(labels, dtype=\"float32\")\n",
    "bboxes = np.array(bboxes)\n"
   ]
  },
  {
   "cell_type": "code",
   "execution_count": 39,
   "id": "banned-sheet",
   "metadata": {},
   "outputs": [],
   "source": [
    "split = train_test_split(data, labels, bboxes, test_size=0.10,\n",
    "\trandom_state=42)"
   ]
  },
  {
   "cell_type": "code",
   "execution_count": 40,
   "id": "finished-shakespeare",
   "metadata": {},
   "outputs": [
    {
     "data": {
      "text/plain": [
       "6"
      ]
     },
     "execution_count": 40,
     "metadata": {},
     "output_type": "execute_result"
    }
   ],
   "source": [
    "len(split)"
   ]
  },
  {
   "cell_type": "code",
   "execution_count": 41,
   "id": "wrong-linux",
   "metadata": {},
   "outputs": [],
   "source": [
    "from sklearn.preprocessing import LabelBinarizer\n",
    "lb = LabelBinarizer()\n",
    "labels = lb.fit_transform(labels)"
   ]
  },
  {
   "cell_type": "code",
   "execution_count": 44,
   "id": "american-integrity",
   "metadata": {},
   "outputs": [
    {
     "data": {
      "text/plain": [
       "array([[1.],\n",
       "       [1.],\n",
       "       [1.],\n",
       "       ...,\n",
       "       [0.],\n",
       "       [0.],\n",
       "       [0.]], dtype=float32)"
      ]
     },
     "execution_count": 44,
     "metadata": {},
     "output_type": "execute_result"
    }
   ],
   "source": [
    "labels"
   ]
  },
  {
   "cell_type": "code",
   "execution_count": 46,
   "id": "diverse-negotiation",
   "metadata": {},
   "outputs": [],
   "source": [
    "from tensorflow.keras.utils import to_categorical\n",
    "labels = to_categorical(labels)"
   ]
  },
  {
   "cell_type": "code",
   "execution_count": 47,
   "id": "executed-oxford",
   "metadata": {},
   "outputs": [
    {
     "data": {
      "text/plain": [
       "array([[0., 1.],\n",
       "       [0., 1.],\n",
       "       [0., 1.],\n",
       "       ...,\n",
       "       [1., 0.],\n",
       "       [1., 0.],\n",
       "       [1., 0.]], dtype=float32)"
      ]
     },
     "execution_count": 47,
     "metadata": {},
     "output_type": "execute_result"
    }
   ],
   "source": [
    "labels"
   ]
  },
  {
   "cell_type": "code",
   "execution_count": 48,
   "id": "generous-accountability",
   "metadata": {},
   "outputs": [
    {
     "data": {
      "text/plain": [
       "array([0., 1.], dtype=float32)"
      ]
     },
     "execution_count": 48,
     "metadata": {},
     "output_type": "execute_result"
    }
   ],
   "source": [
    "labels[0]"
   ]
  },
  {
   "cell_type": "code",
   "execution_count": null,
   "id": "negative-lighting",
   "metadata": {},
   "outputs": [],
   "source": []
  }
 ],
 "metadata": {
  "kernelspec": {
   "display_name": "Python 3",
   "language": "python",
   "name": "python3"
  },
  "language_info": {
   "codemirror_mode": {
    "name": "ipython",
    "version": 3
   },
   "file_extension": ".py",
   "mimetype": "text/x-python",
   "name": "python",
   "nbconvert_exporter": "python",
   "pygments_lexer": "ipython3",
   "version": "3.8.5"
  }
 },
 "nbformat": 4,
 "nbformat_minor": 5
}
